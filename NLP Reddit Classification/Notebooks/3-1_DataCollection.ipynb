{
 "cells": [
  {
   "cell_type": "markdown",
   "id": "hollow-garbage",
   "metadata": {},
   "source": [
    "# Project Three: Web APIs & NLP\n",
    "\n",
    "______"
   ]
  },
  {
   "cell_type": "markdown",
   "id": "brown-anderson",
   "metadata": {},
   "source": [
    "---\n",
    "### Table of Contents\n",
    "---\n",
    "1. [**Problem Statement**](#problemstatement)\n",
    "2. [**Data Collection**](#dc)\n",
    "3. [**Data Cleaning & EDA**](#datacleanEDA)\n",
    "4. [**Preprocessing and Modeling**](#ppmodeling)\n",
    "5. [**Evaluation**](#evaluation)\n",
    "6. [**Conclusion**](#conclusion)\n",
    "\n",
    "---\n",
    "\n",
    "### Notebooks\n",
    "- **[Exploratory Analysis Notebook](3-2_ExploratoryDataAnalysis.ipynb)**\n",
    "- **[Modeling, Evaluation, and Conclusion](3-3_ModelingEvaluationConclusion.ipynb)**"
   ]
  },
  {
   "cell_type": "markdown",
   "id": "honest-individual",
   "metadata": {},
   "source": [
    "<a id='problemstatement'></a>"
   ]
  },
  {
   "cell_type": "markdown",
   "id": "colonial-superintendent",
   "metadata": {},
   "source": [
    "## Problem Statement"
   ]
  },
  {
   "cell_type": "markdown",
   "id": "improving-reference",
   "metadata": {},
   "source": [
    "For project 3, the assignment is two-fold:\n",
    "\n",
    "- Using Pushshift's API, you'll collect posts from two subreddits of your choosing.\n",
    "- You'll then use NLP to train a classifier on which subreddit a given post came from. This is a binary classification problem.\n",
    "\n",
    "\n",
    "Today in the enligh-speaking world the term **cult** has become a widely used and popular term. It is typical used in a connoting tone and seen in most scenarios as an *ad hominem* attack on a group with different practices and doctrines. The term **cult** defined on X is described as: \n",
    "“definition” \n",
    "\n",
    "This can easily be a way to describe religion thus causing the confusion on how we define the these two words. Even within sociology studies there is prominent debate on how to define this word due to the amount of cultural, historical, and vastly differing situation that this word is used for. \n",
    "\n",
    "The initiative to develop better definitions for these words stems from desire to be able to identify groups that may be dangerous vs those that are more benign. Defining these two terms comes with its own controversy because by limiting the definition of religion it could lead to interfering with freedom of religion while a term to broad could allow for more dangerous and abusive groups to arise and excuse them from legal obligations. \n",
    "\n",
    "For this project the goal is to accurately predict if someone is speaking in reference to a cult or a religion to further develop how sociologist define these two terms, but also be an initial step in creating ML that will allow the identification of a potential dangerous cult to be identified and not mistaken for a religion. Using natural language process techniques on over 4,400 post from the two subreddits: **r/religion** and **r/cults** our goal is to identify keywords, part-of-speach language, and sentiment analysis trend too ultimately and accurately predict the correct subreddit for each post. \n"
   ]
  },
  {
   "cell_type": "markdown",
   "id": "structured-russian",
   "metadata": {},
   "source": [
    "<a id='dc'></a>"
   ]
  },
  {
   "cell_type": "markdown",
   "id": "imported-robinson",
   "metadata": {},
   "source": [
    "## Data Collection: API \n",
    "---\n"
   ]
  },
  {
   "cell_type": "markdown",
   "id": "reasonable-sigma",
   "metadata": {},
   "source": [
    "### 1) First Import necessary packages:"
   ]
  },
  {
   "cell_type": "code",
   "execution_count": 14,
   "id": "skilled-composer",
   "metadata": {},
   "outputs": [],
   "source": [
    "#Import Packages \n",
    "import requests\n",
    "import pandas as pd\n",
    "import matplotlib.pyplot as plt\n",
    "import numpy as np "
   ]
  },
  {
   "cell_type": "markdown",
   "id": "deadly-memory",
   "metadata": {},
   "source": [
    "### 2) Use API to request post data from reddit:"
   ]
  },
  {
   "cell_type": "markdown",
   "id": "compatible-berkeley",
   "metadata": {},
   "source": [
    "### Below I am requesting post data from two subreddits by using the [PullShift]('https://github.com/pushshift/api') API. \n",
    "- The Pullshift API has a limit of a max of 100 posts per request. Because I am aiming for around 2,000 rows of data I will need to request data multiple times. Pullshift has a param called **'before'** that I will use to distinguish the date of the post to pull from, without this the pull request would all be the same posts. \n"
   ]
  },
  {
   "cell_type": "code",
   "execution_count": 162,
   "id": "parallel-potential",
   "metadata": {},
   "outputs": [],
   "source": [
    "#defining the function name as load_data\n",
    "#giving it two variables:\n",
    "#1) url: this the pullshift api url for reddit submission (aka posts)\n",
    "#2) params: this will specify the subbreddit thread we are interested in requesting \n",
    "def load_data(url, params):\n",
    "    #Setting the limit of each pull at 100 (the max allowed by pullshift api)\n",
    "    limit = 100\n",
    "    \n",
    "    #creating a for loop to iterate through and setting the range at 11 \n",
    "    #becasue I want 1000 post per subbredit by the end\n",
    "    for i in range(22):\n",
    "        \n",
    "        #setting requests = to res\n",
    "        #and requesting with my url and params from the API\n",
    "        res = requests.get(url, params)\n",
    "        \n",
    "        #Creating if statement to determine if our data is 'good' = '200'\n",
    "        if res.status_code == 200:\n",
    "            #defining our requested json as data\n",
    "            data = res.json()\n",
    "            #iterating through the list of the data to pull out the submission and defining them as posts \n",
    "            posts = data['data']\n",
    "            \n",
    "            #saving the posts list to a panda dataframe\n",
    "            df = pd.DataFrame(posts)\n",
    "            #saving the panda dataframe as a csv and using the subbredit and pull request to name it\n",
    "            df.to_csv(f\"./{params['subreddit']}_{i}.csv\")\n",
    "            #finding the created_utc code within the last or (min) post of the df\n",
    "            created_utc = df['created_utc'].min()\n",
    "            #setting the param 'before' to the identified created_utc\n",
    "            params['before'] = created_utc\n",
    "      \n",
    "        #if none of this works tell me it failed    \n",
    "        else:\n",
    "            print(\"Failed to load data from reddit\")\n",
    "            #Give me the dataaaa\n",
    "            return "
   ]
  },
  {
   "cell_type": "markdown",
   "id": "above-tokyo",
   "metadata": {},
   "source": [
    "###  Requesting my Data through my function load_data():"
   ]
  },
  {
   "cell_type": "markdown",
   "id": "antique-virgin",
   "metadata": {},
   "source": [
    "1.  r/religion:"
   ]
  },
  {
   "cell_type": "code",
   "execution_count": 163,
   "id": "pursuant-kitty",
   "metadata": {},
   "outputs": [],
   "source": [
    "#Url and param variables for the first of my subreddits: religion\n",
    "url = 'https://api.pushshift.io/reddit/search/submission'\n",
    "params = {'subreddit': 'religion', 'size': 100}"
   ]
  },
  {
   "cell_type": "code",
   "execution_count": 164,
   "id": "exposed-performance",
   "metadata": {},
   "outputs": [],
   "source": [
    "#running the function\n",
    "load_data(url,params)"
   ]
  },
  {
   "cell_type": "markdown",
   "id": "numeric-wrong",
   "metadata": {},
   "source": [
    " After running this funciton I have 21 .csv files saved to my computer. Each file includes data on 100 posts from the subbreddit: religion. \n",
    "\n",
    "---"
   ]
  },
  {
   "cell_type": "markdown",
   "id": "included-cargo",
   "metadata": {},
   "source": [
    "2. r/cults"
   ]
  },
  {
   "cell_type": "code",
   "execution_count": 165,
   "id": "basic-peeing",
   "metadata": {},
   "outputs": [],
   "source": [
    "#Url and param variables for the 2nd of my subreddits: cult\n",
    "url_2 = 'https://api.pushshift.io/reddit/search/submission'\n",
    "params_2 = {'subreddit': 'cults', 'size':100}"
   ]
  },
  {
   "cell_type": "code",
   "execution_count": 166,
   "id": "senior-milton",
   "metadata": {},
   "outputs": [],
   "source": [
    "#running the function\n",
    "load_data(url_2,params_2)"
   ]
  },
  {
   "cell_type": "markdown",
   "id": "covered-rogers",
   "metadata": {},
   "source": [
    "After running this funciton I have 21 .csv files saved to my computer. Each file includes data on 100 posts from the subbreddit: cults.\n",
    "\n",
    "---"
   ]
  },
  {
   "cell_type": "markdown",
   "id": "integral-cross",
   "metadata": {},
   "source": [
    "###  3) Reading in the csv files:"
   ]
  },
  {
   "cell_type": "code",
   "execution_count": 24,
   "id": "proud-compiler",
   "metadata": {},
   "outputs": [],
   "source": [
    "#reading in all 10 cult csv files as panda dataframes\n",
    "cult_0 = pd.read_csv('./api_output/cults_0.csv')\n",
    "cult_1 = pd.read_csv('./api_output/cults_1.csv')\n",
    "cult_2 = pd.read_csv('./api_output/cults_2.csv')\n",
    "cult_3 = pd.read_csv('./api_output/cults_3.csv')\n",
    "cult_4 = pd.read_csv('./api_output/cults_4.csv')\n",
    "cult_5 = pd.read_csv('./api_output/cults_5.csv')\n",
    "cult_6 = pd.read_csv('./api_output/cults_6.csv')\n",
    "cult_7 = pd.read_csv('./api_output/cults_7.csv')\n",
    "cult_8 = pd.read_csv('./api_output/cults_8.csv')\n",
    "cult_9 = pd.read_csv('./api_output/cults_9.csv')\n",
    "cult_10 = pd.read_csv('./api_output/cults_10.csv')\n",
    "cult_11 = pd.read_csv('./api_output/cults_11.csv')\n",
    "cult_12 = pd.read_csv('./api_output/cults_12.csv')\n",
    "cult_13 = pd.read_csv('./api_output/cults_13.csv')\n",
    "cult_14 = pd.read_csv('./api_output/cults_14.csv')\n",
    "cult_15 = pd.read_csv('./api_output/cults_15.csv')\n",
    "cult_16 = pd.read_csv('./api_output/cults_16.csv')\n",
    "cult_17 = pd.read_csv('./api_output/cults_17.csv')\n",
    "cult_18 = pd.read_csv('./api_output/cults_18.csv')\n",
    "cult_19 = pd.read_csv('./api_output/cults_19.csv')\n",
    "cult_20 = pd.read_csv('./api_output/cults_20.csv')\n",
    "cult_21 = pd.read_csv('./api_output/cults_21.csv')\n"
   ]
  },
  {
   "cell_type": "code",
   "execution_count": 25,
   "id": "signed-reader",
   "metadata": {},
   "outputs": [],
   "source": [
    "#Reading in all 10 religion csv files as panda dataframes\n",
    "rel_0 = pd.read_csv('./api_output/religion_0.csv')\n",
    "rel_1 = pd.read_csv('./api_output/religion_1.csv')\n",
    "rel_2 = pd.read_csv('./api_output/religion_2.csv')\n",
    "rel_3 = pd.read_csv('./api_output/religion_3.csv')\n",
    "rel_4 = pd.read_csv('./api_output/religion_4.csv')\n",
    "rel_5 = pd.read_csv('./api_output/religion_5.csv')\n",
    "rel_6 = pd.read_csv('./api_output/religion_6.csv')\n",
    "rel_7 = pd.read_csv('./api_output/religion_7.csv')\n",
    "rel_8 = pd.read_csv('./api_output/religion_8.csv')\n",
    "rel_9 = pd.read_csv('./api_output/religion_9.csv')\n",
    "rel_10 = pd.read_csv('./api_output/religion_10.csv')\n",
    "rel_11 = pd.read_csv('./api_output/religion_11.csv')\n",
    "rel_12 = pd.read_csv('./api_output/religion_12.csv')\n",
    "rel_13 = pd.read_csv('./api_output/religion_13.csv')\n",
    "rel_14 = pd.read_csv('./api_output/religion_14.csv')\n",
    "rel_15 = pd.read_csv('./api_output/religion_15.csv')\n",
    "rel_16 = pd.read_csv('./api_output/religion_16.csv')\n",
    "rel_17 = pd.read_csv('./api_output/religion_17.csv')\n",
    "rel_18 = pd.read_csv('./api_output/religion_18.csv')\n",
    "rel_19 = pd.read_csv('./api_output/religion_19.csv')\n",
    "rel_20 = pd.read_csv('./api_output/religion_20.csv')\n",
    "rel_21 = pd.read_csv('./api_output/religion_21.csv')"
   ]
  },
  {
   "cell_type": "markdown",
   "id": "centered-chosen",
   "metadata": {},
   "source": [
    "---\n",
    "### Panda Dataframe rel_0:\n",
    "\n",
    "My goal is to merge all these panda datafames together. Before I do this I am going to explore my first panda dataframe rel_0 to get a sense of the shape, types of columns, and what columns I will want in my final dataframes. \n",
    "\n",
    "---"
   ]
  },
  {
   "cell_type": "code",
   "execution_count": 26,
   "id": "tropical-marathon",
   "metadata": {},
   "outputs": [
    {
     "name": "stdout",
     "output_type": "stream",
     "text": [
      "<class 'pandas.core.frame.DataFrame'>\n",
      "RangeIndex: 100 entries, 0 to 99\n",
      "Data columns (total 72 columns):\n",
      " #   Column                         Non-Null Count  Dtype  \n",
      "---  ------                         --------------  -----  \n",
      " 0   Unnamed: 0                     100 non-null    int64  \n",
      " 1   all_awardings                  100 non-null    object \n",
      " 2   allow_live_comments            100 non-null    bool   \n",
      " 3   author                         100 non-null    object \n",
      " 4   author_flair_css_class         1 non-null      object \n",
      " 5   author_flair_richtext          93 non-null     object \n",
      " 6   author_flair_text              8 non-null      object \n",
      " 7   author_flair_type              93 non-null     object \n",
      " 8   author_fullname                93 non-null     object \n",
      " 9   author_patreon_flair           93 non-null     object \n",
      " 10  author_premium                 93 non-null     object \n",
      " 11  awarders                       100 non-null    object \n",
      " 12  can_mod_post                   100 non-null    bool   \n",
      " 13  contest_mode                   100 non-null    bool   \n",
      " 14  created_utc                    100 non-null    int64  \n",
      " 15  domain                         100 non-null    object \n",
      " 16  full_link                      100 non-null    object \n",
      " 17  gildings                       100 non-null    object \n",
      " 18  id                             100 non-null    object \n",
      " 19  is_crosspostable               100 non-null    bool   \n",
      " 20  is_meta                        100 non-null    bool   \n",
      " 21  is_original_content            100 non-null    bool   \n",
      " 22  is_reddit_media_domain         100 non-null    bool   \n",
      " 23  is_robot_indexable             100 non-null    bool   \n",
      " 24  is_self                        100 non-null    bool   \n",
      " 25  is_video                       100 non-null    bool   \n",
      " 26  link_flair_background_color    0 non-null      float64\n",
      " 27  link_flair_richtext            100 non-null    object \n",
      " 28  link_flair_text_color          100 non-null    object \n",
      " 29  link_flair_type                100 non-null    object \n",
      " 30  locked                         100 non-null    bool   \n",
      " 31  media_only                     100 non-null    bool   \n",
      " 32  no_follow                      100 non-null    bool   \n",
      " 33  num_comments                   100 non-null    int64  \n",
      " 34  num_crossposts                 100 non-null    int64  \n",
      " 35  over_18                        100 non-null    bool   \n",
      " 36  parent_whitelist_status        100 non-null    object \n",
      " 37  permalink                      100 non-null    object \n",
      " 38  pinned                         100 non-null    bool   \n",
      " 39  pwls                           100 non-null    int64  \n",
      " 40  removed_by_category            43 non-null     object \n",
      " 41  retrieved_on                   100 non-null    int64  \n",
      " 42  score                          100 non-null    int64  \n",
      " 43  selftext                       64 non-null     object \n",
      " 44  send_replies                   100 non-null    bool   \n",
      " 45  spoiler                        100 non-null    bool   \n",
      " 46  stickied                       100 non-null    bool   \n",
      " 47  subreddit                      100 non-null    object \n",
      " 48  subreddit_id                   100 non-null    object \n",
      " 49  subreddit_subscribers          100 non-null    int64  \n",
      " 50  subreddit_type                 100 non-null    object \n",
      " 51  thumbnail                      100 non-null    object \n",
      " 52  title                          100 non-null    object \n",
      " 53  total_awards_received          100 non-null    int64  \n",
      " 54  treatment_tags                 100 non-null    object \n",
      " 55  upvote_ratio                   100 non-null    float64\n",
      " 56  url                            100 non-null    object \n",
      " 57  whitelist_status               100 non-null    object \n",
      " 58  wls                            100 non-null    int64  \n",
      " 59  post_hint                      19 non-null     object \n",
      " 60  preview                        19 non-null     object \n",
      " 61  thumbnail_height               26 non-null     float64\n",
      " 62  thumbnail_width                26 non-null     float64\n",
      " 63  url_overridden_by_dest         29 non-null     object \n",
      " 64  author_flair_background_color  0 non-null      float64\n",
      " 65  author_flair_text_color        16 non-null     object \n",
      " 66  media                          9 non-null      object \n",
      " 67  media_embed                    8 non-null      object \n",
      " 68  secure_media                   9 non-null      object \n",
      " 69  secure_media_embed             8 non-null      object \n",
      " 70  author_flair_template_id       8 non-null      object \n",
      " 71  edited                         5 non-null      float64\n",
      "dtypes: bool(18), float64(6), int64(10), object(38)\n",
      "memory usage: 44.1+ KB\n"
     ]
    }
   ],
   "source": [
    "rel_0.info()"
   ]
  },
  {
   "cell_type": "code",
   "execution_count": 27,
   "id": "lyric-frequency",
   "metadata": {},
   "outputs": [
    {
     "data": {
      "text/plain": [
       "(100, 72)"
      ]
     },
     "execution_count": 27,
     "metadata": {},
     "output_type": "execute_result"
    }
   ],
   "source": [
    "rel_0.shape"
   ]
  },
  {
   "cell_type": "code",
   "execution_count": 28,
   "id": "popular-designer",
   "metadata": {},
   "outputs": [
    {
     "data": {
      "text/html": [
       "<div>\n",
       "<style scoped>\n",
       "    .dataframe tbody tr th:only-of-type {\n",
       "        vertical-align: middle;\n",
       "    }\n",
       "\n",
       "    .dataframe tbody tr th {\n",
       "        vertical-align: top;\n",
       "    }\n",
       "\n",
       "    .dataframe thead th {\n",
       "        text-align: right;\n",
       "    }\n",
       "</style>\n",
       "<table border=\"1\" class=\"dataframe\">\n",
       "  <thead>\n",
       "    <tr style=\"text-align: right;\">\n",
       "      <th></th>\n",
       "      <th>subreddit</th>\n",
       "      <th>id</th>\n",
       "      <th>title</th>\n",
       "      <th>selftext</th>\n",
       "      <th>created_utc</th>\n",
       "    </tr>\n",
       "  </thead>\n",
       "  <tbody>\n",
       "    <tr>\n",
       "      <th>0</th>\n",
       "      <td>religion</td>\n",
       "      <td>lwi96e</td>\n",
       "      <td>my boyfriends parents don't want him with me b...</td>\n",
       "      <td>[removed]</td>\n",
       "      <td>1614736208</td>\n",
       "    </tr>\n",
       "    <tr>\n",
       "      <th>1</th>\n",
       "      <td>religion</td>\n",
       "      <td>lwhxen</td>\n",
       "      <td>Demasiado Natural.</td>\n",
       "      <td>NaN</td>\n",
       "      <td>1614735154</td>\n",
       "    </tr>\n",
       "    <tr>\n",
       "      <th>2</th>\n",
       "      <td>religion</td>\n",
       "      <td>lwgtbw</td>\n",
       "      <td>signs of the end times</td>\n",
       "      <td>NaN</td>\n",
       "      <td>1614731605</td>\n",
       "    </tr>\n",
       "    <tr>\n",
       "      <th>3</th>\n",
       "      <td>religion</td>\n",
       "      <td>lwgq4r</td>\n",
       "      <td>What is the text of Isaiah 14:12-17 in the Torah?</td>\n",
       "      <td>I'm having a discussion elsewhere and the post...</td>\n",
       "      <td>1614731322</td>\n",
       "    </tr>\n",
       "    <tr>\n",
       "      <th>4</th>\n",
       "      <td>religion</td>\n",
       "      <td>lwgefv</td>\n",
       "      <td>Is Joe Biden allowed to do this?</td>\n",
       "      <td>I am not Catholic but is Joe Biden allowed to ...</td>\n",
       "      <td>1614730304</td>\n",
       "    </tr>\n",
       "  </tbody>\n",
       "</table>\n",
       "</div>"
      ],
      "text/plain": [
       "  subreddit      id                                              title  \\\n",
       "0  religion  lwi96e  my boyfriends parents don't want him with me b...   \n",
       "1  religion  lwhxen                                 Demasiado Natural.   \n",
       "2  religion  lwgtbw                             signs of the end times   \n",
       "3  religion  lwgq4r  What is the text of Isaiah 14:12-17 in the Torah?   \n",
       "4  religion  lwgefv                   Is Joe Biden allowed to do this?   \n",
       "\n",
       "                                            selftext  created_utc  \n",
       "0                                          [removed]   1614736208  \n",
       "1                                                NaN   1614735154  \n",
       "2                                                NaN   1614731605  \n",
       "3  I'm having a discussion elsewhere and the post...   1614731322  \n",
       "4  I am not Catholic but is Joe Biden allowed to ...   1614730304  "
      ]
     },
     "execution_count": 28,
     "metadata": {},
     "output_type": "execute_result"
    }
   ],
   "source": [
    "rel_0[['subreddit','id','title','selftext','created_utc']].head(5)"
   ]
  },
  {
   "cell_type": "markdown",
   "id": "effective-spread",
   "metadata": {},
   "source": [
    "My panda dataframe has 100 rows (as expected), and 72 columns. Based on the .info() request I can tell there are a lot of columns in the dataframe that I will not use for my model. Since the goal of this model is two use text data to determine the subbreddit I am only going to concatanate the panda dataframes on the columns I will need. \n",
    "\n",
    "---\n",
    "**The columns I am concatanating are:**\n",
    "- **subreddit:** the name of the subbreddit the post came from\n",
    "- **id:** post id\n",
    "- **title:** title of the post\n",
    "- **selftext:** the description text or also reffered to as the context of the post"
   ]
  },
  {
   "cell_type": "code",
   "execution_count": 29,
   "id": "crude-heaven",
   "metadata": {},
   "outputs": [],
   "source": [
    "#using pd.concat to concatanate all 22 panda dataframes\n",
    "df = pd.concat([rel_0,\n",
    "                rel_1, \n",
    "                rel_2, \n",
    "                rel_3, \n",
    "                rel_4, \n",
    "                rel_5, \n",
    "                rel_6, \n",
    "                rel_7, \n",
    "                rel_8, \n",
    "                rel_9,\n",
    "                rel_10,\n",
    "                rel_11,\n",
    "                rel_12,\n",
    "                rel_13,\n",
    "                rel_14,\n",
    "                rel_15,\n",
    "                rel_16,\n",
    "                rel_17,\n",
    "                rel_18,\n",
    "                rel_19,\n",
    "                rel_20,\n",
    "                rel_21,\n",
    "                cult_0,\n",
    "                cult_1,\n",
    "                cult_2,\n",
    "                cult_3,\n",
    "                cult_4,\n",
    "                cult_5,\n",
    "                cult_6,\n",
    "                cult_7,\n",
    "                cult_8,\n",
    "                cult_9,\n",
    "                cult_10,\n",
    "                cult_11,\n",
    "                cult_12,\n",
    "                cult_13,\n",
    "                cult_14,\n",
    "                cult_15,\n",
    "                cult_16,\n",
    "                cult_17,\n",
    "                cult_18,\n",
    "                cult_19,\n",
    "                cult_20,\n",
    "                cult_21], axis=0)"
   ]
  },
  {
   "cell_type": "code",
   "execution_count": 30,
   "id": "square-brown",
   "metadata": {},
   "outputs": [],
   "source": [
    "#assigning the dataframe to only keep the four columns I need\n",
    "df = df[['subreddit','id','title','selftext']]"
   ]
  },
  {
   "cell_type": "code",
   "execution_count": 31,
   "id": "central-argument",
   "metadata": {},
   "outputs": [
    {
     "data": {
      "text/plain": [
       "(4400, 4)"
      ]
     },
     "execution_count": 31,
     "metadata": {},
     "output_type": "execute_result"
    }
   ],
   "source": [
    "#Using df.shape to know how many rows and columns my new dataframes has:\n",
    "df.shape"
   ]
  },
  {
   "cell_type": "code",
   "execution_count": 32,
   "id": "guided-headline",
   "metadata": {},
   "outputs": [],
   "source": [
    "#saving my combined Data set to a csv file just incase.\n",
    "df.to_csv('religion_cults_reddit.csv',index=False)"
   ]
  },
  {
   "cell_type": "markdown",
   "id": "iraqi-florence",
   "metadata": {},
   "source": [
    "<a id='datacleanEDA'></a>"
   ]
  },
  {
   "cell_type": "markdown",
   "id": "transsexual-entrepreneur",
   "metadata": {},
   "source": [
    "# Data Cleaning\n",
    "\n",
    "---"
   ]
  },
  {
   "cell_type": "markdown",
   "id": "olive-observer",
   "metadata": {},
   "source": [
    "### 1) Data Cleaning : Missing values"
   ]
  },
  {
   "cell_type": "code",
   "execution_count": 565,
   "id": "cathedral-fabric",
   "metadata": {},
   "outputs": [],
   "source": [
    "df = pd.read_csv('./religion_cults_reddit.csv')"
   ]
  },
  {
   "cell_type": "code",
   "execution_count": 566,
   "id": "dental-capacity",
   "metadata": {},
   "outputs": [
    {
     "name": "stdout",
     "output_type": "stream",
     "text": [
      "<class 'pandas.core.frame.DataFrame'>\n",
      "RangeIndex: 4400 entries, 0 to 4399\n",
      "Data columns (total 4 columns):\n",
      " #   Column     Non-Null Count  Dtype \n",
      "---  ------     --------------  ----- \n",
      " 0   subreddit  4400 non-null   object\n",
      " 1   id         4400 non-null   object\n",
      " 2   title      4400 non-null   object\n",
      " 3   selftext   2616 non-null   object\n",
      "dtypes: object(4)\n",
      "memory usage: 137.6+ KB\n"
     ]
    }
   ],
   "source": [
    "df.info()"
   ]
  },
  {
   "cell_type": "code",
   "execution_count": 567,
   "id": "vertical-relevance",
   "metadata": {},
   "outputs": [
    {
     "data": {
      "text/plain": [
       "1784"
      ]
     },
     "execution_count": 567,
     "metadata": {},
     "output_type": "execute_result"
    }
   ],
   "source": [
    "#finding the total number of missing values in the selftext column\n",
    "df['selftext'].isnull().sum()"
   ]
  },
  {
   "cell_type": "code",
   "execution_count": 568,
   "id": "plain-boost",
   "metadata": {},
   "outputs": [
    {
     "data": {
      "text/html": [
       "<div>\n",
       "<style scoped>\n",
       "    .dataframe tbody tr th:only-of-type {\n",
       "        vertical-align: middle;\n",
       "    }\n",
       "\n",
       "    .dataframe tbody tr th {\n",
       "        vertical-align: top;\n",
       "    }\n",
       "\n",
       "    .dataframe thead th {\n",
       "        text-align: right;\n",
       "    }\n",
       "</style>\n",
       "<table border=\"1\" class=\"dataframe\">\n",
       "  <thead>\n",
       "    <tr style=\"text-align: right;\">\n",
       "      <th></th>\n",
       "      <th>subreddit</th>\n",
       "      <th>id</th>\n",
       "      <th>title</th>\n",
       "      <th>selftext</th>\n",
       "    </tr>\n",
       "    <tr>\n",
       "      <th>subreddit</th>\n",
       "      <th></th>\n",
       "      <th></th>\n",
       "      <th></th>\n",
       "      <th></th>\n",
       "    </tr>\n",
       "  </thead>\n",
       "  <tbody>\n",
       "    <tr>\n",
       "      <th>cults</th>\n",
       "      <td>0.0</td>\n",
       "      <td>0.0</td>\n",
       "      <td>0.0</td>\n",
       "      <td>0.458182</td>\n",
       "    </tr>\n",
       "    <tr>\n",
       "      <th>religion</th>\n",
       "      <td>0.0</td>\n",
       "      <td>0.0</td>\n",
       "      <td>0.0</td>\n",
       "      <td>0.352727</td>\n",
       "    </tr>\n",
       "  </tbody>\n",
       "</table>\n",
       "</div>"
      ],
      "text/plain": [
       "           subreddit   id  title  selftext\n",
       "subreddit                                 \n",
       "cults            0.0  0.0    0.0  0.458182\n",
       "religion         0.0  0.0    0.0  0.352727"
      ]
     },
     "execution_count": 568,
     "metadata": {},
     "output_type": "execute_result"
    }
   ],
   "source": [
    "#using groupby and a lambda function to see the percentage of missing values by each subreddit\n",
    "df.groupby(\"subreddit\").apply(lambda x: x.isnull().mean())"
   ]
  },
  {
   "cell_type": "markdown",
   "id": "rocky-danger",
   "metadata": {},
   "source": [
    "---\n",
    "\n",
    "**Missing Values:**\n",
    "\n",
    "Based on the .info() pull each post has a value under title, but there are 1,784 post without selftext data. This means those post might not have any text in the contents of the post but inturn have a link, video, image etc. The table above shows that **45%** of the cult subreddit post have no selftext and **35%** of the relgion subreddits have no selftext. \n",
    "\n",
    "**What are my options:**\n",
    "\n",
    "\n",
    "Assuming I want to use both the title and the selftext in my model:\n",
    "\n",
    "**1. I could drop the missing rows which would leave me with with less data.** \n",
    "- This does not seem like a great option becasue it leaves me with a lot less data to train/test/split my model on and cause a poor output for my model.\n",
    "\n",
    "Assuming I only need one of these columns for my model:\n",
    "\n",
    "**2. I could drop the entire 'selftext column** \n",
    "- and only use the 'title column to predict the subbreddit. Since I have yet to even explore the data at this point I do not feel great about this option. The title might not be enough to determine the topic and the subtext could deliver some very interest insights on the topics at hand. \n",
    "\n",
    "---\n",
    "**Descsion:** \n",
    "I originally requested the data with a range(11) after determining that a could precentage of my rows would have NaN for **selftext** I went back and re-requested my data pull from the API with double the range(22). I decided to do this becasue now I can drop those rose and still remain with 2,616 rows of data as a healthy dataset size for modeling.  \n",
    "\n",
    "---"
   ]
  },
  {
   "cell_type": "code",
   "execution_count": 569,
   "id": "parental-wallet",
   "metadata": {},
   "outputs": [
    {
     "data": {
      "text/html": [
       "<div>\n",
       "<style scoped>\n",
       "    .dataframe tbody tr th:only-of-type {\n",
       "        vertical-align: middle;\n",
       "    }\n",
       "\n",
       "    .dataframe tbody tr th {\n",
       "        vertical-align: top;\n",
       "    }\n",
       "\n",
       "    .dataframe thead th {\n",
       "        text-align: right;\n",
       "    }\n",
       "</style>\n",
       "<table border=\"1\" class=\"dataframe\">\n",
       "  <thead>\n",
       "    <tr style=\"text-align: right;\">\n",
       "      <th></th>\n",
       "      <th>subreddit</th>\n",
       "      <th>id</th>\n",
       "      <th>title</th>\n",
       "      <th>selftext</th>\n",
       "    </tr>\n",
       "  </thead>\n",
       "  <tbody>\n",
       "    <tr>\n",
       "      <th>0</th>\n",
       "      <td>religion</td>\n",
       "      <td>lwi96e</td>\n",
       "      <td>my boyfriends parents don't want him with me b...</td>\n",
       "      <td>[removed]</td>\n",
       "    </tr>\n",
       "    <tr>\n",
       "      <th>1</th>\n",
       "      <td>religion</td>\n",
       "      <td>lwhxen</td>\n",
       "      <td>Demasiado Natural.</td>\n",
       "      <td>NaN</td>\n",
       "    </tr>\n",
       "    <tr>\n",
       "      <th>2</th>\n",
       "      <td>religion</td>\n",
       "      <td>lwgtbw</td>\n",
       "      <td>signs of the end times</td>\n",
       "      <td>NaN</td>\n",
       "    </tr>\n",
       "    <tr>\n",
       "      <th>3</th>\n",
       "      <td>religion</td>\n",
       "      <td>lwgq4r</td>\n",
       "      <td>What is the text of Isaiah 14:12-17 in the Torah?</td>\n",
       "      <td>I'm having a discussion elsewhere and the post...</td>\n",
       "    </tr>\n",
       "    <tr>\n",
       "      <th>4</th>\n",
       "      <td>religion</td>\n",
       "      <td>lwgefv</td>\n",
       "      <td>Is Joe Biden allowed to do this?</td>\n",
       "      <td>I am not Catholic but is Joe Biden allowed to ...</td>\n",
       "    </tr>\n",
       "  </tbody>\n",
       "</table>\n",
       "</div>"
      ],
      "text/plain": [
       "  subreddit      id                                              title  \\\n",
       "0  religion  lwi96e  my boyfriends parents don't want him with me b...   \n",
       "1  religion  lwhxen                                 Demasiado Natural.   \n",
       "2  religion  lwgtbw                             signs of the end times   \n",
       "3  religion  lwgq4r  What is the text of Isaiah 14:12-17 in the Torah?   \n",
       "4  religion  lwgefv                   Is Joe Biden allowed to do this?   \n",
       "\n",
       "                                            selftext  \n",
       "0                                          [removed]  \n",
       "1                                                NaN  \n",
       "2                                                NaN  \n",
       "3  I'm having a discussion elsewhere and the post...  \n",
       "4  I am not Catholic but is Joe Biden allowed to ...  "
      ]
     },
     "execution_count": 569,
     "metadata": {},
     "output_type": "execute_result"
    }
   ],
   "source": [
    "df.head()"
   ]
  },
  {
   "cell_type": "markdown",
   "id": "infectious-granny",
   "metadata": {},
   "source": [
    "It looks like there is also a value in selftext that say [removed] which could be that the content of the post was removed. I will also drop rows with that value as well."
   ]
  },
  {
   "cell_type": "code",
   "execution_count": 571,
   "id": "tribal-pledge",
   "metadata": {},
   "outputs": [
    {
     "data": {
      "text/html": [
       "<div>\n",
       "<style scoped>\n",
       "    .dataframe tbody tr th:only-of-type {\n",
       "        vertical-align: middle;\n",
       "    }\n",
       "\n",
       "    .dataframe tbody tr th {\n",
       "        vertical-align: top;\n",
       "    }\n",
       "\n",
       "    .dataframe thead th {\n",
       "        text-align: right;\n",
       "    }\n",
       "</style>\n",
       "<table border=\"1\" class=\"dataframe\">\n",
       "  <thead>\n",
       "    <tr style=\"text-align: right;\">\n",
       "      <th></th>\n",
       "      <th>subreddit</th>\n",
       "      <th>id</th>\n",
       "      <th>title</th>\n",
       "      <th>selftext</th>\n",
       "    </tr>\n",
       "  </thead>\n",
       "  <tbody>\n",
       "    <tr>\n",
       "      <th>0</th>\n",
       "      <td>religion</td>\n",
       "      <td>lwi96e</td>\n",
       "      <td>my boyfriends parents don't want him with me b...</td>\n",
       "      <td>[removed]</td>\n",
       "    </tr>\n",
       "    <tr>\n",
       "      <th>5</th>\n",
       "      <td>religion</td>\n",
       "      <td>lwgazb</td>\n",
       "      <td>I (24M) have tried to talk to my friend (21M) ...</td>\n",
       "      <td>[removed]</td>\n",
       "    </tr>\n",
       "    <tr>\n",
       "      <th>13</th>\n",
       "      <td>religion</td>\n",
       "      <td>lwao0g</td>\n",
       "      <td>What was your experience like with Eastern Ort...</td>\n",
       "      <td>[removed]</td>\n",
       "    </tr>\n",
       "    <tr>\n",
       "      <th>14</th>\n",
       "      <td>religion</td>\n",
       "      <td>lwad22</td>\n",
       "      <td>Video on the origin of creation of man by Jeff...</td>\n",
       "      <td>[removed]</td>\n",
       "    </tr>\n",
       "    <tr>\n",
       "      <th>19</th>\n",
       "      <td>religion</td>\n",
       "      <td>lw8qd3</td>\n",
       "      <td>Come And See</td>\n",
       "      <td>[removed]</td>\n",
       "    </tr>\n",
       "    <tr>\n",
       "      <th>...</th>\n",
       "      <td>...</td>\n",
       "      <td>...</td>\n",
       "      <td>...</td>\n",
       "      <td>...</td>\n",
       "    </tr>\n",
       "    <tr>\n",
       "      <th>4105</th>\n",
       "      <td>cults</td>\n",
       "      <td>hz7u8x</td>\n",
       "      <td>23-year-old woman had to flee danger from her ...</td>\n",
       "      <td>[removed]</td>\n",
       "    </tr>\n",
       "    <tr>\n",
       "      <th>4210</th>\n",
       "      <td>cults</td>\n",
       "      <td>hsskab</td>\n",
       "      <td>I want to join Occult for money ritual +234706...</td>\n",
       "      <td>[removed]</td>\n",
       "    </tr>\n",
       "    <tr>\n",
       "      <th>4304</th>\n",
       "      <td>cults</td>\n",
       "      <td>ho33ir</td>\n",
       "      <td>Become a Genius</td>\n",
       "      <td>[removed]</td>\n",
       "    </tr>\n",
       "    <tr>\n",
       "      <th>4358</th>\n",
       "      <td>cults</td>\n",
       "      <td>hivj1b</td>\n",
       "      <td>https://bsusa01.wixsite.com/ringizmorocket</td>\n",
       "      <td>[removed]</td>\n",
       "    </tr>\n",
       "    <tr>\n",
       "      <th>4379</th>\n",
       "      <td>cults</td>\n",
       "      <td>hh2jbm</td>\n",
       "      <td>Cult in Missouri Abusing girls</td>\n",
       "      <td>[removed]</td>\n",
       "    </tr>\n",
       "  </tbody>\n",
       "</table>\n",
       "<p>489 rows × 4 columns</p>\n",
       "</div>"
      ],
      "text/plain": [
       "     subreddit      id                                              title  \\\n",
       "0     religion  lwi96e  my boyfriends parents don't want him with me b...   \n",
       "5     religion  lwgazb  I (24M) have tried to talk to my friend (21M) ...   \n",
       "13    religion  lwao0g  What was your experience like with Eastern Ort...   \n",
       "14    religion  lwad22  Video on the origin of creation of man by Jeff...   \n",
       "19    religion  lw8qd3                                       Come And See   \n",
       "...        ...     ...                                                ...   \n",
       "4105     cults  hz7u8x  23-year-old woman had to flee danger from her ...   \n",
       "4210     cults  hsskab  I want to join Occult for money ritual +234706...   \n",
       "4304     cults  ho33ir                                    Become a Genius   \n",
       "4358     cults  hivj1b         https://bsusa01.wixsite.com/ringizmorocket   \n",
       "4379     cults  hh2jbm                     Cult in Missouri Abusing girls   \n",
       "\n",
       "       selftext  \n",
       "0     [removed]  \n",
       "5     [removed]  \n",
       "13    [removed]  \n",
       "14    [removed]  \n",
       "19    [removed]  \n",
       "...         ...  \n",
       "4105  [removed]  \n",
       "4210  [removed]  \n",
       "4304  [removed]  \n",
       "4358  [removed]  \n",
       "4379  [removed]  \n",
       "\n",
       "[489 rows x 4 columns]"
      ]
     },
     "execution_count": 571,
     "metadata": {},
     "output_type": "execute_result"
    }
   ],
   "source": [
    "df[df['selftext']== '[removed]']"
   ]
  },
  {
   "cell_type": "code",
   "execution_count": 572,
   "id": "effective-receiver",
   "metadata": {},
   "outputs": [
    {
     "data": {
      "text/html": [
       "<div>\n",
       "<style scoped>\n",
       "    .dataframe tbody tr th:only-of-type {\n",
       "        vertical-align: middle;\n",
       "    }\n",
       "\n",
       "    .dataframe tbody tr th {\n",
       "        vertical-align: top;\n",
       "    }\n",
       "\n",
       "    .dataframe thead th {\n",
       "        text-align: right;\n",
       "    }\n",
       "</style>\n",
       "<table border=\"1\" class=\"dataframe\">\n",
       "  <thead>\n",
       "    <tr style=\"text-align: right;\">\n",
       "      <th></th>\n",
       "      <th>subreddit</th>\n",
       "      <th>id</th>\n",
       "      <th>title</th>\n",
       "      <th>selftext</th>\n",
       "    </tr>\n",
       "  </thead>\n",
       "  <tbody>\n",
       "    <tr>\n",
       "      <th>37</th>\n",
       "      <td>religion</td>\n",
       "      <td>ltvmmk</td>\n",
       "      <td>Why do people think America was built on Chris...</td>\n",
       "      <td>[deleted]</td>\n",
       "    </tr>\n",
       "    <tr>\n",
       "      <th>53</th>\n",
       "      <td>religion</td>\n",
       "      <td>ltr054</td>\n",
       "      <td>I'm Looking for outcasted religious people who...</td>\n",
       "      <td>[deleted]</td>\n",
       "    </tr>\n",
       "    <tr>\n",
       "      <th>63</th>\n",
       "      <td>religion</td>\n",
       "      <td>ltnu25</td>\n",
       "      <td>Muslims, I am sure you get this all the time b...</td>\n",
       "      <td>[deleted]</td>\n",
       "    </tr>\n",
       "    <tr>\n",
       "      <th>66</th>\n",
       "      <td>religion</td>\n",
       "      <td>ltlqjn</td>\n",
       "      <td>I want to convert to Islam, but I need your help</td>\n",
       "      <td>[deleted]</td>\n",
       "    </tr>\n",
       "    <tr>\n",
       "      <th>74</th>\n",
       "      <td>religion</td>\n",
       "      <td>ltekkv</td>\n",
       "      <td>How, precisely, does confession work?</td>\n",
       "      <td>[deleted]</td>\n",
       "    </tr>\n",
       "    <tr>\n",
       "      <th>...</th>\n",
       "      <td>...</td>\n",
       "      <td>...</td>\n",
       "      <td>...</td>\n",
       "      <td>...</td>\n",
       "    </tr>\n",
       "    <tr>\n",
       "      <th>4142</th>\n",
       "      <td>cults</td>\n",
       "      <td>hwq518</td>\n",
       "      <td>Looking for articles/links that explore the na...</td>\n",
       "      <td>[deleted]</td>\n",
       "    </tr>\n",
       "    <tr>\n",
       "      <th>4156</th>\n",
       "      <td>cults</td>\n",
       "      <td>hvm7ov</td>\n",
       "      <td>4 psychological techniques cults use to recrui...</td>\n",
       "      <td>[deleted]</td>\n",
       "    </tr>\n",
       "    <tr>\n",
       "      <th>4184</th>\n",
       "      <td>cults</td>\n",
       "      <td>huawsr</td>\n",
       "      <td>Mike Rinder goes \"further, harder, deeper, and...</td>\n",
       "      <td>[deleted]</td>\n",
       "    </tr>\n",
       "    <tr>\n",
       "      <th>4254</th>\n",
       "      <td>cults</td>\n",
       "      <td>hr549r</td>\n",
       "      <td>Mgtow cult investigation</td>\n",
       "      <td>[deleted]</td>\n",
       "    </tr>\n",
       "    <tr>\n",
       "      <th>4325</th>\n",
       "      <td>cults</td>\n",
       "      <td>hlppqx</td>\n",
       "      <td>Do any of you know anything about this symbol?</td>\n",
       "      <td>[deleted]</td>\n",
       "    </tr>\n",
       "  </tbody>\n",
       "</table>\n",
       "<p>86 rows × 4 columns</p>\n",
       "</div>"
      ],
      "text/plain": [
       "     subreddit      id                                              title  \\\n",
       "37    religion  ltvmmk  Why do people think America was built on Chris...   \n",
       "53    religion  ltr054  I'm Looking for outcasted religious people who...   \n",
       "63    religion  ltnu25  Muslims, I am sure you get this all the time b...   \n",
       "66    religion  ltlqjn   I want to convert to Islam, but I need your help   \n",
       "74    religion  ltekkv              How, precisely, does confession work?   \n",
       "...        ...     ...                                                ...   \n",
       "4142     cults  hwq518  Looking for articles/links that explore the na...   \n",
       "4156     cults  hvm7ov  4 psychological techniques cults use to recrui...   \n",
       "4184     cults  huawsr  Mike Rinder goes \"further, harder, deeper, and...   \n",
       "4254     cults  hr549r                           Mgtow cult investigation   \n",
       "4325     cults  hlppqx     Do any of you know anything about this symbol?   \n",
       "\n",
       "       selftext  \n",
       "37    [deleted]  \n",
       "53    [deleted]  \n",
       "63    [deleted]  \n",
       "66    [deleted]  \n",
       "74    [deleted]  \n",
       "...         ...  \n",
       "4142  [deleted]  \n",
       "4156  [deleted]  \n",
       "4184  [deleted]  \n",
       "4254  [deleted]  \n",
       "4325  [deleted]  \n",
       "\n",
       "[86 rows x 4 columns]"
      ]
     },
     "execution_count": 572,
     "metadata": {},
     "output_type": "execute_result"
    }
   ],
   "source": [
    "df[df['selftext'] == '[deleted]']"
   ]
  },
  {
   "cell_type": "markdown",
   "id": "injured-presence",
   "metadata": {},
   "source": [
    "In the above code I filtered for selfttext values that contain the str [removed] and that equals 489 rows. I am going to change these values a NaN value. Once I drop alll the NaN values I should have just over 2000 rows left.  "
   ]
  },
  {
   "cell_type": "code",
   "execution_count": 573,
   "id": "bridal-penny",
   "metadata": {},
   "outputs": [],
   "source": [
    "#defining a function to find and replace all cells with [removed] with NaN\n",
    "#this will allow me to drop all these rows in one go with .dropna\n",
    "def clean_selftext(text_val):\n",
    "    #iterate through the row values to find ['removed']\n",
    "    if text_val == '[removed]':\n",
    "        #return NaN if the value is [removed]\n",
    "        return ''\n",
    "    if text_val == '[deleted]':\n",
    "         return ''\n",
    "    if text_val == '[':\n",
    "        return ''\n",
    "    #if NOT [removed] than leave the text as is. \n",
    "    else:\n",
    "        return text_val"
   ]
  },
  {
   "cell_type": "code",
   "execution_count": 574,
   "id": "necessary-thirty",
   "metadata": {},
   "outputs": [],
   "source": [
    "#using .map to call my clean_selfttext function on the 'selftext' column. Then reassigning it to the column\n",
    "#to make it stick\n",
    "df['selftext'] = df['selftext'].map(clean_selftext)"
   ]
  },
  {
   "cell_type": "code",
   "execution_count": 575,
   "id": "promising-spare",
   "metadata": {},
   "outputs": [
    {
     "data": {
      "text/plain": [
       "1784"
      ]
     },
     "execution_count": 575,
     "metadata": {},
     "output_type": "execute_result"
    }
   ],
   "source": [
    "#I now have 2273 NaN values\n",
    "df['selftext'].isnull().sum()"
   ]
  },
  {
   "cell_type": "code",
   "execution_count": 576,
   "id": "received-barrel",
   "metadata": {},
   "outputs": [
    {
     "data": {
      "text/plain": [
       "(4400, 4)"
      ]
     },
     "execution_count": 576,
     "metadata": {},
     "output_type": "execute_result"
    }
   ],
   "source": [
    "#droping all the NaN values and getting dataframe shape\n",
    "df = df.fillna('')\n",
    "df.shape"
   ]
  },
  {
   "cell_type": "code",
   "execution_count": 577,
   "id": "departmental-seating",
   "metadata": {},
   "outputs": [],
   "source": [
    "df['text'] = df['title']  + ' ' + df['selftext']\n",
    "df['subreddit_class'] = [1 if i == 'religion' else 0 for i in df['subreddit']]"
   ]
  },
  {
   "cell_type": "code",
   "execution_count": 578,
   "id": "judicial-idaho",
   "metadata": {},
   "outputs": [
    {
     "data": {
      "text/html": [
       "<div>\n",
       "<style scoped>\n",
       "    .dataframe tbody tr th:only-of-type {\n",
       "        vertical-align: middle;\n",
       "    }\n",
       "\n",
       "    .dataframe tbody tr th {\n",
       "        vertical-align: top;\n",
       "    }\n",
       "\n",
       "    .dataframe thead th {\n",
       "        text-align: right;\n",
       "    }\n",
       "</style>\n",
       "<table border=\"1\" class=\"dataframe\">\n",
       "  <thead>\n",
       "    <tr style=\"text-align: right;\">\n",
       "      <th></th>\n",
       "      <th>subreddit</th>\n",
       "      <th>id</th>\n",
       "      <th>title</th>\n",
       "      <th>selftext</th>\n",
       "      <th>text</th>\n",
       "      <th>subreddit_class</th>\n",
       "    </tr>\n",
       "  </thead>\n",
       "  <tbody>\n",
       "    <tr>\n",
       "      <th>0</th>\n",
       "      <td>religion</td>\n",
       "      <td>lwi96e</td>\n",
       "      <td>my boyfriends parents don't want him with me b...</td>\n",
       "      <td></td>\n",
       "      <td>my boyfriends parents don't want him with me b...</td>\n",
       "      <td>1</td>\n",
       "    </tr>\n",
       "    <tr>\n",
       "      <th>1</th>\n",
       "      <td>religion</td>\n",
       "      <td>lwhxen</td>\n",
       "      <td>Demasiado Natural.</td>\n",
       "      <td></td>\n",
       "      <td>Demasiado Natural.</td>\n",
       "      <td>1</td>\n",
       "    </tr>\n",
       "    <tr>\n",
       "      <th>2</th>\n",
       "      <td>religion</td>\n",
       "      <td>lwgtbw</td>\n",
       "      <td>signs of the end times</td>\n",
       "      <td></td>\n",
       "      <td>signs of the end times</td>\n",
       "      <td>1</td>\n",
       "    </tr>\n",
       "    <tr>\n",
       "      <th>3</th>\n",
       "      <td>religion</td>\n",
       "      <td>lwgq4r</td>\n",
       "      <td>What is the text of Isaiah 14:12-17 in the Torah?</td>\n",
       "      <td>I'm having a discussion elsewhere and the post...</td>\n",
       "      <td>What is the text of Isaiah 14:12-17 in the Tor...</td>\n",
       "      <td>1</td>\n",
       "    </tr>\n",
       "    <tr>\n",
       "      <th>4</th>\n",
       "      <td>religion</td>\n",
       "      <td>lwgefv</td>\n",
       "      <td>Is Joe Biden allowed to do this?</td>\n",
       "      <td>I am not Catholic but is Joe Biden allowed to ...</td>\n",
       "      <td>Is Joe Biden allowed to do this? I am not Cath...</td>\n",
       "      <td>1</td>\n",
       "    </tr>\n",
       "  </tbody>\n",
       "</table>\n",
       "</div>"
      ],
      "text/plain": [
       "  subreddit      id                                              title  \\\n",
       "0  religion  lwi96e  my boyfriends parents don't want him with me b...   \n",
       "1  religion  lwhxen                                 Demasiado Natural.   \n",
       "2  religion  lwgtbw                             signs of the end times   \n",
       "3  religion  lwgq4r  What is the text of Isaiah 14:12-17 in the Torah?   \n",
       "4  religion  lwgefv                   Is Joe Biden allowed to do this?   \n",
       "\n",
       "                                            selftext  \\\n",
       "0                                                      \n",
       "1                                                      \n",
       "2                                                      \n",
       "3  I'm having a discussion elsewhere and the post...   \n",
       "4  I am not Catholic but is Joe Biden allowed to ...   \n",
       "\n",
       "                                                text  subreddit_class  \n",
       "0  my boyfriends parents don't want him with me b...                1  \n",
       "1                                Demasiado Natural.                 1  \n",
       "2                            signs of the end times                 1  \n",
       "3  What is the text of Isaiah 14:12-17 in the Tor...                1  \n",
       "4  Is Joe Biden allowed to do this? I am not Cath...                1  "
      ]
     },
     "execution_count": 578,
     "metadata": {},
     "output_type": "execute_result"
    }
   ],
   "source": [
    "df.head()"
   ]
  },
  {
   "cell_type": "code",
   "execution_count": 579,
   "id": "laden-sewing",
   "metadata": {},
   "outputs": [
    {
     "data": {
      "text/plain": [
       "0    2200\n",
       "1    2200\n",
       "Name: subreddit_class, dtype: int64"
      ]
     },
     "execution_count": 579,
     "metadata": {},
     "output_type": "execute_result"
    }
   ],
   "source": [
    "df['subreddit_class'].value_counts()"
   ]
  },
  {
   "cell_type": "code",
   "execution_count": 580,
   "id": "least-gothic",
   "metadata": {},
   "outputs": [],
   "source": [
    "#saving my combined Data set to a csv file just incase.\n",
    "df.to_csv('religion_cults_reddit_preprocessing.csv',index=False)"
   ]
  },
  {
   "cell_type": "markdown",
   "id": "popular-eleven",
   "metadata": {},
   "source": [
    "# Pre-Processing \n",
    "\n",
    "When dealing with text data, I want to make some pre-processing steps in order to have clean test data.\n",
    "\n",
    "- lowercase\n",
    "- replacing any http/s url strings\n",
    "- removing punctuation\n",
    "- removing numbers\n",
    "- removing words less than 2 letters and all english stopwords\n",
    "- remove any unwanted characters or symbols"
   ]
  },
  {
   "cell_type": "code",
   "execution_count": 369,
   "id": "muslim-publisher",
   "metadata": {},
   "outputs": [],
   "source": [
    "#(source: https://stackoverflow.com/questions/54396405/how-can-i-preprocess-nlp-text-lowercase-remove-special-characters-remove-numb)\n",
    "import nltk\n",
    "from nltk.tokenize import RegexpTokenizer\n",
    "from nltk.stem import WordNetLemmatizer,PorterStemmer\n",
    "from nltk.corpus import stopwords\n",
    "import re\n",
    "lemmatizer = WordNetLemmatizer()\n",
    "stemmer = PorterStemmer() \n",
    "\n",
    "def preprocess(sentence):\n",
    "    sentence=str(sentence)\n",
    "    sentence = sentence.lower()\n",
    "    sentence=sentence.replace('{html}',\"\") \n",
    "    cleanr = re.compile('<.*?>')\n",
    "    cleantext = re.sub(cleanr, '', sentence)\n",
    "    rem_url=re.sub(r'http\\S+', '',cleantext)\n",
    "    rem_num = re.sub('[0-9]+', '', rem_url)\n",
    "    tokenizer = RegexpTokenizer(r'\\w+')\n",
    "    tokens = tokenizer.tokenize(rem_num)  \n",
    "    filtered_words = [w for w in tokens if len(w) > 2 if not w in stopwords.words('english')]\n",
    "    stem_words=[stemmer.stem(w) for w in filtered_words]\n",
    "    lemma_words=[lemmatizer.lemmatize(w) for w in stem_words]\n",
    "    return \" \".join(filtered_words)"
   ]
  },
  {
   "cell_type": "code",
   "execution_count": 370,
   "id": "dimensional-immune",
   "metadata": {},
   "outputs": [],
   "source": [
    "#going to clean the combined title and selftext colum \n",
    "df['cleanText']=df['text'].map(lambda s:preprocess(s))\n",
    "\n",
    "#creating title_clean column of just the title cleaned\n",
    "df['cleanTitle']=df['title'].map(lambda s:preprocess(s))\n"
   ]
  },
  {
   "cell_type": "code",
   "execution_count": 372,
   "id": "eight-fantasy",
   "metadata": {},
   "outputs": [
    {
     "data": {
      "text/html": [
       "<div>\n",
       "<style scoped>\n",
       "    .dataframe tbody tr th:only-of-type {\n",
       "        vertical-align: middle;\n",
       "    }\n",
       "\n",
       "    .dataframe tbody tr th {\n",
       "        vertical-align: top;\n",
       "    }\n",
       "\n",
       "    .dataframe thead th {\n",
       "        text-align: right;\n",
       "    }\n",
       "</style>\n",
       "<table border=\"1\" class=\"dataframe\">\n",
       "  <thead>\n",
       "    <tr style=\"text-align: right;\">\n",
       "      <th></th>\n",
       "      <th>subreddit</th>\n",
       "      <th>id</th>\n",
       "      <th>title</th>\n",
       "      <th>selftext</th>\n",
       "      <th>text</th>\n",
       "      <th>subreddit_class</th>\n",
       "      <th>cleanText</th>\n",
       "      <th>cleanTitle</th>\n",
       "    </tr>\n",
       "  </thead>\n",
       "  <tbody>\n",
       "    <tr>\n",
       "      <th>0</th>\n",
       "      <td>religion</td>\n",
       "      <td>lwi96e</td>\n",
       "      <td>my boyfriends parents don't want him with me b...</td>\n",
       "      <td></td>\n",
       "      <td>my boyfriends parents don't want him with me b...</td>\n",
       "      <td>1</td>\n",
       "      <td>boyfriends parents want christian</td>\n",
       "      <td>boyfriends parents want christian</td>\n",
       "    </tr>\n",
       "    <tr>\n",
       "      <th>1</th>\n",
       "      <td>religion</td>\n",
       "      <td>lwhxen</td>\n",
       "      <td>Demasiado Natural.</td>\n",
       "      <td></td>\n",
       "      <td>Demasiado Natural.</td>\n",
       "      <td>1</td>\n",
       "      <td>demasiado natural</td>\n",
       "      <td>demasiado natural</td>\n",
       "    </tr>\n",
       "    <tr>\n",
       "      <th>2</th>\n",
       "      <td>religion</td>\n",
       "      <td>lwgtbw</td>\n",
       "      <td>signs of the end times</td>\n",
       "      <td></td>\n",
       "      <td>signs of the end times</td>\n",
       "      <td>1</td>\n",
       "      <td>signs end times</td>\n",
       "      <td>signs end times</td>\n",
       "    </tr>\n",
       "    <tr>\n",
       "      <th>3</th>\n",
       "      <td>religion</td>\n",
       "      <td>lwgq4r</td>\n",
       "      <td>What is the text of Isaiah 14:12-17 in the Torah?</td>\n",
       "      <td>I'm having a discussion elsewhere and the post...</td>\n",
       "      <td>What is the text of Isaiah 14:12-17 in the Tor...</td>\n",
       "      <td>1</td>\n",
       "      <td>text isaiah torah discussion elsewhere poster ...</td>\n",
       "      <td>text isaiah torah</td>\n",
       "    </tr>\n",
       "    <tr>\n",
       "      <th>4</th>\n",
       "      <td>religion</td>\n",
       "      <td>lwgefv</td>\n",
       "      <td>Is Joe Biden allowed to do this?</td>\n",
       "      <td>I am not Catholic but is Joe Biden allowed to ...</td>\n",
       "      <td>Is Joe Biden allowed to do this? I am not Cath...</td>\n",
       "      <td>1</td>\n",
       "      <td>joe biden allowed catholic joe biden allowed p...</td>\n",
       "      <td>joe biden allowed</td>\n",
       "    </tr>\n",
       "  </tbody>\n",
       "</table>\n",
       "</div>"
      ],
      "text/plain": [
       "  subreddit      id                                              title  \\\n",
       "0  religion  lwi96e  my boyfriends parents don't want him with me b...   \n",
       "1  religion  lwhxen                                 Demasiado Natural.   \n",
       "2  religion  lwgtbw                             signs of the end times   \n",
       "3  religion  lwgq4r  What is the text of Isaiah 14:12-17 in the Torah?   \n",
       "4  religion  lwgefv                   Is Joe Biden allowed to do this?   \n",
       "\n",
       "                                            selftext  \\\n",
       "0                                                      \n",
       "1                                                      \n",
       "2                                                      \n",
       "3  I'm having a discussion elsewhere and the post...   \n",
       "4  I am not Catholic but is Joe Biden allowed to ...   \n",
       "\n",
       "                                                text  subreddit_class  \\\n",
       "0  my boyfriends parents don't want him with me b...                1   \n",
       "1                                Demasiado Natural.                 1   \n",
       "2                            signs of the end times                 1   \n",
       "3  What is the text of Isaiah 14:12-17 in the Tor...                1   \n",
       "4  Is Joe Biden allowed to do this? I am not Cath...                1   \n",
       "\n",
       "                                           cleanText  \\\n",
       "0                  boyfriends parents want christian   \n",
       "1                                  demasiado natural   \n",
       "2                                    signs end times   \n",
       "3  text isaiah torah discussion elsewhere poster ...   \n",
       "4  joe biden allowed catholic joe biden allowed p...   \n",
       "\n",
       "                          cleanTitle  \n",
       "0  boyfriends parents want christian  \n",
       "1                  demasiado natural  \n",
       "2                    signs end times  \n",
       "3                  text isaiah torah  \n",
       "4                  joe biden allowed  "
      ]
     },
     "execution_count": 372,
     "metadata": {},
     "output_type": "execute_result"
    }
   ],
   "source": [
    "df.head()"
   ]
  },
  {
   "cell_type": "code",
   "execution_count": 515,
   "id": "altered-february",
   "metadata": {},
   "outputs": [],
   "source": [
    "df.to_csv('religion_cults_reddit_preprocessed.csv',index=False)"
   ]
  },
  {
   "cell_type": "markdown",
   "id": "architectural-hamilton",
   "metadata": {},
   "source": [
    " In the next notebook I will be doing exploratory analysis across these two subreddit datasets with natural language processing techniques such as CountVectorizing and TIFD.\n",
    "\n",
    "**[Exploratory Analysis Notebook](3-2_ExploratoryDataAnalysis.ipynb)** \n",
    " \n",
    "---"
   ]
  }
 ],
 "metadata": {
  "kernelspec": {
   "display_name": "Python 3",
   "language": "python",
   "name": "python3"
  },
  "language_info": {
   "codemirror_mode": {
    "name": "ipython",
    "version": 3
   },
   "file_extension": ".py",
   "mimetype": "text/x-python",
   "name": "python",
   "nbconvert_exporter": "python",
   "pygments_lexer": "ipython3",
   "version": "3.8.5"
  }
 },
 "nbformat": 4,
 "nbformat_minor": 5
}
