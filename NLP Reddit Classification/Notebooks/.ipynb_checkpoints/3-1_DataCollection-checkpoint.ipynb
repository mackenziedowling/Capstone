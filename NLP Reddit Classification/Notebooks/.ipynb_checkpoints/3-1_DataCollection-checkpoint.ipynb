{
 "cells": [
  {
   "cell_type": "markdown",
   "id": "hollow-garbage",
   "metadata": {},
   "source": [
    "# Project Three: Web APIs & NLP\n",
    "\n",
    "______"
   ]
  },
  {
   "cell_type": "markdown",
   "id": "brown-anderson",
   "metadata": {},
   "source": [
    "---\n",
    "### Table of Contents\n",
    "---\n",
    "1. [**Problem Statement**](#problemstatement)\n",
    "2. [**Data Collection**](#dc)\n",
    "3. [**Data Cleaning & EDA**](#datacleanEDA)\n",
    "4. [**Preprocessing and Modeling**](#ppmodeling)\n",
    "5. [**Evaluation**](#evaluation)\n",
    "6. [**Conclusion**](#conclusion)\n",
    "\n",
    "---"
   ]
  },
  {
   "cell_type": "markdown",
   "id": "honest-individual",
   "metadata": {},
   "source": [
    "<a id='problemstatement'></a>"
   ]
  },
  {
   "cell_type": "markdown",
   "id": "colonial-superintendent",
   "metadata": {},
   "source": [
    "## Problem Statement"
   ]
  },
  {
   "cell_type": "markdown",
   "id": "improving-reference",
   "metadata": {},
   "source": [
    "For project 3, the assignment is two-fold:\n",
    "\n",
    "- Using Pushshift's API, you'll collect posts from two subreddits of your choosing.\n",
    "- You'll then use NLP to train a classifier on which subreddit a given post came from. This is a binary classification problem.\n",
    "\n",
    "\n",
    "Today in the enligh-speaking world the term **cult** has become a widely used and popular term. It is typical used in a connoting tone and seen in most scenarios as an *ad hominem* attack on a group with different practices and doctrines. The term **cult** defined on X is described as: \n",
    "“definition” \n",
    "\n",
    "This can easily be a way to describe religion thus causing the confusion on how we define the these two words. Even within sociology studies there is prominent debate on how to define this word due to the amount of cultural, historical, and vastly differing situation that this word is used for. \n",
    "\n",
    "The initiative to develop better definitions for these words stems from desire to be able to identify groups that may be dangerous vs those that are more benign. Defining these two terms comes with its own controversy because by limiting the definition of religion it could lead to interfering with freedom of religion while a term to broad could allow for more dangerous and abusive groups to arise and excuse them from legal obligations. \n",
    "\n",
    "For this project the goal is to accurately predict if someone is speaking in reference to a cult or a religion to further develop how sociologist define these two terms, but also be an initial step in creating ML that will allow the identification of a potential dangerous cult to be identified and not mistaken for a religion. Using natural language process techniques on over 4,400 post from the two subreddits: **r/religion** and **r/cults** our goal is to identify keywords, part-of-speach language, and sentiment analysis trend too ultimately and accurately predict the correct subreddit for each post. \n"
   ]
  },
  {
   "cell_type": "markdown",
   "id": "structured-russian",
   "metadata": {},
   "source": [
    "<a id='dc'></a>"
   ]
  },
  {
   "cell_type": "markdown",
   "id": "imported-robinson",
   "metadata": {},
   "source": [
    "## Data Collection: API \n",
    "---\n"
   ]
  },
  {
   "cell_type": "markdown",
   "id": "reasonable-sigma",
   "metadata": {},
   "source": [
    "### 1) First Import necessary packages:"
   ]
  },
  {
   "cell_type": "code",
   "execution_count": 14,
   "id": "skilled-composer",
   "metadata": {},
   "outputs": [],
   "source": [
    "#Import Packages \n",
    "import requests\n",
    "import pandas as pd\n",
    "import matplotlib.pyplot as plt\n",
    "import numpy as np "
   ]
  },
  {
   "cell_type": "markdown",
   "id": "deadly-memory",
   "metadata": {},
   "source": [
    "### 2) Use API to request post data from reddit:"
   ]
  },
  {
   "cell_type": "markdown",
   "id": "compatible-berkeley",
   "metadata": {},
   "source": [
    "### Below I am requesting post data from two subreddits by using the [PullShift]('https://github.com/pushshift/api') API. \n",
    "- The Pullshift API has a limit of a max of 100 posts per request. Because I am aiming for around 2,000 rows of data I will need to request data multiple times. Pullshift has a param called **'before'** that I will use to distinguish the date of the post to pull from, without this the pull request would all be the same posts. \n"
   ]
  },
  {
   "cell_type": "code",
   "execution_count": 162,
   "id": "parallel-potential",
   "metadata": {},
   "outputs": [],
   "source": [
    "#defining the function name as load_data\n",
    "#giving it two variables:\n",
    "#1) url: this the pullshift api url for reddit submission (aka posts)\n",
    "#2) params: this will specify the subbreddit thread we are interested in requesting \n",
    "def load_data(url, params):\n",
    "    #Setting the limit of each pull at 100 (the max allowed by pullshift api)\n",
    "    limit = 100\n",
    "    \n",
    "    #creating a for loop to iterate through and setting the range at 11 \n",
    "    #becasue I want 1000 post per subbredit by the end\n",
    "    for i in range(22):\n",
    "        \n",
    "        #setting requests = to res\n",
    "        #and requesting with my url and params from the API\n",
    "        res = requests.get(url, params)\n",
    "        \n",
    "        #Creating if statement to determine if our data is 'good' = '200'\n",
    "        if res.status_code == 200:\n",
    "            #defining our requested json as data\n",
    "            data = res.json()\n",
    "            #iterating through the list of the data to pull out the submission and defining them as posts \n",
    "            posts = data['data']\n",
    "            \n",
    "            #saving the posts list to a panda dataframe\n",
    "            df = pd.DataFrame(posts)\n",
    "            #saving the panda dataframe as a csv and using the subbredit and pull request to name it\n",
    "            df.to_csv(f\"./{params['subreddit']}_{i}.csv\")\n",
    "            #finding the created_utc code within the last or (min) post of the df\n",
    "            created_utc = df['created_utc'].min()\n",
    "            #setting the param 'before' to the identified created_utc\n",
    "            params['before'] = created_utc\n",
    "      \n",
    "        #if none of this works tell me it failed    \n",
    "        else:\n",
    "            print(\"Failed to load data from reddit\")\n",
    "            #Give me the dataaaa\n",
    "            return "
   ]
  },
  {
   "cell_type": "markdown",
   "id": "above-tokyo",
   "metadata": {},
   "source": [
    "###  Requesting my Data through my function load_data():"
   ]
  },
  {
   "cell_type": "markdown",
   "id": "antique-virgin",
   "metadata": {},
   "source": [
    "1.  r/religion:"
   ]
  },
  {
   "cell_type": "code",
   "execution_count": 163,
   "id": "pursuant-kitty",
   "metadata": {},
   "outputs": [],
   "source": [
    "#Url and param variables for the first of my subreddits: religion\n",
    "url = 'https://api.pushshift.io/reddit/search/submission'\n",
    "params = {'subreddit': 'religion', 'size': 100}"
   ]
  },
  {
   "cell_type": "code",
   "execution_count": 164,
   "id": "exposed-performance",
   "metadata": {},
   "outputs": [],
   "source": [
    "#running the function\n",
    "load_data(url,params)"
   ]
  },
  {
   "cell_type": "markdown",
   "id": "numeric-wrong",
   "metadata": {},
   "source": [
    " After running this funciton I have 21 .csv files saved to my computer. Each file includes data on 100 posts from the subbreddit: religion. \n",
    "\n",
    "---"
   ]
  },
  {
   "cell_type": "markdown",
   "id": "included-cargo",
   "metadata": {},
   "source": [
    "2. r/cults"
   ]
  },
  {
   "cell_type": "code",
   "execution_count": 165,
   "id": "basic-peeing",
   "metadata": {},
   "outputs": [],
   "source": [
    "#Url and param variables for the 2nd of my subreddits: cult\n",
    "url_2 = 'https://api.pushshift.io/reddit/search/submission'\n",
    "params_2 = {'subreddit': 'cults', 'size':100}"
   ]
  },
  {
   "cell_type": "code",
   "execution_count": 166,
   "id": "senior-milton",
   "metadata": {},
   "outputs": [],
   "source": [
    "#running the function\n",
    "load_data(url_2,params_2)"
   ]
  },
  {
   "cell_type": "markdown",
   "id": "covered-rogers",
   "metadata": {},
   "source": [
    "After running this funciton I have 21 .csv files saved to my computer. Each file includes data on 100 posts from the subbreddit: cults.\n",
    "\n",
    "---"
   ]
  },
  {
   "cell_type": "markdown",
   "id": "integral-cross",
   "metadata": {},
   "source": [
    "###  3) Reading in the csv files:"
   ]
  },
  {
   "cell_type": "code",
   "execution_count": 24,
   "id": "proud-compiler",
   "metadata": {},
   "outputs": [],
   "source": [
    "#reading in all 10 cult csv files as panda dataframes\n",
    "cult_0 = pd.read_csv('./api_output/cults_0.csv')\n",
    "cult_1 = pd.read_csv('./api_output/cults_1.csv')\n",
    "cult_2 = pd.read_csv('./api_output/cults_2.csv')\n",
    "cult_3 = pd.read_csv('./api_output/cults_3.csv')\n",
    "cult_4 = pd.read_csv('./api_output/cults_4.csv')\n",
    "cult_5 = pd.read_csv('./api_output/cults_5.csv')\n",
    "cult_6 = pd.read_csv('./api_output/cults_6.csv')\n",
    "cult_7 = pd.read_csv('./api_output/cults_7.csv')\n",
    "cult_8 = pd.read_csv('./api_output/cults_8.csv')\n",
    "cult_9 = pd.read_csv('./api_output/cults_9.csv')\n",
    "cult_10 = pd.read_csv('./api_output/cults_10.csv')\n",
    "cult_11 = pd.read_csv('./api_output/cults_11.csv')\n",
    "cult_12 = pd.read_csv('./api_output/cults_12.csv')\n",
    "cult_13 = pd.read_csv('./api_output/cults_13.csv')\n",
    "cult_14 = pd.read_csv('./api_output/cults_14.csv')\n",
    "cult_15 = pd.read_csv('./api_output/cults_15.csv')\n",
    "cult_16 = pd.read_csv('./api_output/cults_16.csv')\n",
    "cult_17 = pd.read_csv('./api_output/cults_17.csv')\n",
    "cult_18 = pd.read_csv('./api_output/cults_18.csv')\n",
    "cult_19 = pd.read_csv('./api_output/cults_19.csv')\n",
    "cult_20 = pd.read_csv('./api_output/cults_20.csv')\n",
    "cult_21 = pd.read_csv('./api_output/cults_21.csv')\n"
   ]
  },
  {
   "cell_type": "code",
   "execution_count": 25,
   "id": "signed-reader",
   "metadata": {},
   "outputs": [],
   "source": [
    "#Reading in all 10 religion csv files as panda dataframes\n",
    "rel_0 = pd.read_csv('./api_output/religion_0.csv')\n",
    "rel_1 = pd.read_csv('./api_output/religion_1.csv')\n",
    "rel_2 = pd.read_csv('./api_output/religion_2.csv')\n",
    "rel_3 = pd.read_csv('./api_output/religion_3.csv')\n",
    "rel_4 = pd.read_csv('./api_output/religion_4.csv')\n",
    "rel_5 = pd.read_csv('./api_output/religion_5.csv')\n",
    "rel_6 = pd.read_csv('./api_output/religion_6.csv')\n",
    "rel_7 = pd.read_csv('./api_output/religion_7.csv')\n",
    "rel_8 = pd.read_csv('./api_output/religion_8.csv')\n",
    "rel_9 = pd.read_csv('./api_output/religion_9.csv')\n",
    "rel_10 = pd.read_csv('./api_output/religion_10.csv')\n",
    "rel_11 = pd.read_csv('./api_output/religion_11.csv')\n",
    "rel_12 = pd.read_csv('./api_output/religion_12.csv')\n",
    "rel_13 = pd.read_csv('./api_output/religion_13.csv')\n",
    "rel_14 = pd.read_csv('./api_output/religion_14.csv')\n",
    "rel_15 = pd.read_csv('./api_output/religion_15.csv')\n",
    "rel_16 = pd.read_csv('./api_output/religion_16.csv')\n",
    "rel_17 = pd.read_csv('./api_output/religion_17.csv')\n",
    "rel_18 = pd.read_csv('./api_output/religion_18.csv')\n",
    "rel_19 = pd.read_csv('./api_output/religion_19.csv')\n",
    "rel_20 = pd.read_csv('./api_output/religion_20.csv')\n",
    "rel_21 = pd.read_csv('./api_output/religion_21.csv')"
   ]
  },
  {
   "cell_type": "markdown",
   "id": "centered-chosen",
   "metadata": {},
   "source": [
    "---\n",
    "### Panda Dataframe rel_0:\n",
    "\n",
    "My goal is to merge all these panda datafames together. Before I do this I am going to explore my first panda dataframe rel_0 to get a sense of the shape, types of columns, and what columns I will want in my final dataframes. \n",
    "\n",
    "---"
   ]
  },
  {
   "cell_type": "code",
   "execution_count": 26,
   "id": "tropical-marathon",
   "metadata": {},
   "outputs": [
    {
     "name": "stdout",
     "output_type": "stream",
     "text": [
      "<class 'pandas.core.frame.DataFrame'>\n",
      "RangeIndex: 100 entries, 0 to 99\n",
      "Data columns (total 72 columns):\n",
      " #   Column                         Non-Null Count  Dtype  \n",
      "---  ------                         --------------  -----  \n",
      " 0   Unnamed: 0                     100 non-null    int64  \n",
      " 1   all_awardings                  100 non-null    object \n",
      " 2   allow_live_comments            100 non-null    bool   \n",
      " 3   author                         100 non-null    object \n",
      " 4   author_flair_css_class         1 non-null      object \n",
      " 5   author_flair_richtext          93 non-null     object \n",
      " 6   author_flair_text              8 non-null      object \n",
      " 7   author_flair_type              93 non-null     object \n",
      " 8   author_fullname                93 non-null     object \n",
      " 9   author_patreon_flair           93 non-null     object \n",
      " 10  author_premium                 93 non-null     object \n",
      " 11  awarders                       100 non-null    object \n",
      " 12  can_mod_post                   100 non-null    bool   \n",
      " 13  contest_mode                   100 non-null    bool   \n",
      " 14  created_utc                    100 non-null    int64  \n",
      " 15  domain                         100 non-null    object \n",
      " 16  full_link                      100 non-null    object \n",
      " 17  gildings                       100 non-null    object \n",
      " 18  id                             100 non-null    object \n",
      " 19  is_crosspostable               100 non-null    bool   \n",
      " 20  is_meta                        100 non-null    bool   \n",
      " 21  is_original_content            100 non-null    bool   \n",
      " 22  is_reddit_media_domain         100 non-null    bool   \n",
      " 23  is_robot_indexable             100 non-null    bool   \n",
      " 24  is_self                        100 non-null    bool   \n",
      " 25  is_video                       100 non-null    bool   \n",
      " 26  link_flair_background_color    0 non-null      float64\n",
      " 27  link_flair_richtext            100 non-null    object \n",
      " 28  link_flair_text_color          100 non-null    object \n",
      " 29  link_flair_type                100 non-null    object \n",
      " 30  locked                         100 non-null    bool   \n",
      " 31  media_only                     100 non-null    bool   \n",
      " 32  no_follow                      100 non-null    bool   \n",
      " 33  num_comments                   100 non-null    int64  \n",
      " 34  num_crossposts                 100 non-null    int64  \n",
      " 35  over_18                        100 non-null    bool   \n",
      " 36  parent_whitelist_status        100 non-null    object \n",
      " 37  permalink                      100 non-null    object \n",
      " 38  pinned                         100 non-null    bool   \n",
      " 39  pwls                           100 non-null    int64  \n",
      " 40  removed_by_category            43 non-null     object \n",
      " 41  retrieved_on                   100 non-null    int64  \n",
      " 42  score                          100 non-null    int64  \n",
      " 43  selftext                       64 non-null     object \n",
      " 44  send_replies                   100 non-null    bool   \n",
      " 45  spoiler                        100 non-null    bool   \n",
      " 46  stickied                       100 non-null    bool   \n",
      " 47  subreddit                      100 non-null    object \n",
      " 48  subreddit_id                   100 non-null    object \n",
      " 49  subreddit_subscribers          100 non-null    int64  \n",
      " 50  subreddit_type                 100 non-null    object \n",
      " 51  thumbnail                      100 non-null    object \n",
      " 52  title                          100 non-null    object \n",
      " 53  total_awards_received          100 non-null    int64  \n",
      " 54  treatment_tags                 100 non-null    object \n",
      " 55  upvote_ratio                   100 non-null    float64\n",
      " 56  url                            100 non-null    object \n",
      " 57  whitelist_status               100 non-null    object \n",
      " 58  wls                            100 non-null    int64  \n",
      " 59  post_hint                      19 non-null     object \n",
      " 60  preview                        19 non-null     object \n",
      " 61  thumbnail_height               26 non-null     float64\n",
      " 62  thumbnail_width                26 non-null     float64\n",
      " 63  url_overridden_by_dest         29 non-null     object \n",
      " 64  author_flair_background_color  0 non-null      float64\n",
      " 65  author_flair_text_color        16 non-null     object \n",
      " 66  media                          9 non-null      object \n",
      " 67  media_embed                    8 non-null      object \n",
      " 68  secure_media                   9 non-null      object \n",
      " 69  secure_media_embed             8 non-null      object \n",
      " 70  author_flair_template_id       8 non-null      object \n",
      " 71  edited                         5 non-null      float64\n",
      "dtypes: bool(18), float64(6), int64(10), object(38)\n",
      "memory usage: 44.1+ KB\n"
     ]
    }
   ],
   "source": [
    "rel_0.info()"
   ]
  },
  {
   "cell_type": "code",
   "execution_count": 27,
   "id": "lyric-frequency",
   "metadata": {},
   "outputs": [
    {
     "data": {
      "text/plain": [
       "(100, 72)"
      ]
     },
     "execution_count": 27,
     "metadata": {},
     "output_type": "execute_result"
    }
   ],
   "source": [
    "rel_0.shape"
   ]
  },
  {
   "cell_type": "code",
   "execution_count": 28,
   "id": "popular-designer",
   "metadata": {},
   "outputs": [
    {
     "data": {
      "text/html": [
       "<div>\n",
       "<style scoped>\n",
       "    .dataframe tbody tr th:only-of-type {\n",
       "        vertical-align: middle;\n",
       "    }\n",
       "\n",
       "    .dataframe tbody tr th {\n",
       "        vertical-align: top;\n",
       "    }\n",
       "\n",
       "    .dataframe thead th {\n",
       "        text-align: right;\n",
       "    }\n",
       "</style>\n",
       "<table border=\"1\" class=\"dataframe\">\n",
       "  <thead>\n",
       "    <tr style=\"text-align: right;\">\n",
       "      <th></th>\n",
       "      <th>subreddit</th>\n",
       "      <th>id</th>\n",
       "      <th>title</th>\n",
       "      <th>selftext</th>\n",
       "      <th>created_utc</th>\n",
       "    </tr>\n",
       "  </thead>\n",
       "  <tbody>\n",
       "    <tr>\n",
       "      <th>0</th>\n",
       "      <td>religion</td>\n",
       "      <td>lwi96e</td>\n",
       "      <td>my boyfriends parents don't want him with me b...</td>\n",
       "      <td>[removed]</td>\n",
       "      <td>1614736208</td>\n",
       "    </tr>\n",
       "    <tr>\n",
       "      <th>1</th>\n",
       "      <td>religion</td>\n",
       "      <td>lwhxen</td>\n",
       "      <td>Demasiado Natural.</td>\n",
       "      <td>NaN</td>\n",
       "      <td>1614735154</td>\n",
       "    </tr>\n",
       "    <tr>\n",
       "      <th>2</th>\n",
       "      <td>religion</td>\n",
       "      <td>lwgtbw</td>\n",
       "      <td>signs of the end times</td>\n",
       "      <td>NaN</td>\n",
       "      <td>1614731605</td>\n",
       "    </tr>\n",
       "    <tr>\n",
       "      <th>3</th>\n",
       "      <td>religion</td>\n",
       "      <td>lwgq4r</td>\n",
       "      <td>What is the text of Isaiah 14:12-17 in the Torah?</td>\n",
       "      <td>I'm having a discussion elsewhere and the post...</td>\n",
       "      <td>1614731322</td>\n",
       "    </tr>\n",
       "    <tr>\n",
       "      <th>4</th>\n",
       "      <td>religion</td>\n",
       "      <td>lwgefv</td>\n",
       "      <td>Is Joe Biden allowed to do this?</td>\n",
       "      <td>I am not Catholic but is Joe Biden allowed to ...</td>\n",
       "      <td>1614730304</td>\n",
       "    </tr>\n",
       "  </tbody>\n",
       "</table>\n",
       "</div>"
      ],
      "text/plain": [
       "  subreddit      id                                              title  \\\n",
       "0  religion  lwi96e  my boyfriends parents don't want him with me b...   \n",
       "1  religion  lwhxen                                 Demasiado Natural.   \n",
       "2  religion  lwgtbw                             signs of the end times   \n",
       "3  religion  lwgq4r  What is the text of Isaiah 14:12-17 in the Torah?   \n",
       "4  religion  lwgefv                   Is Joe Biden allowed to do this?   \n",
       "\n",
       "                                            selftext  created_utc  \n",
       "0                                          [removed]   1614736208  \n",
       "1                                                NaN   1614735154  \n",
       "2                                                NaN   1614731605  \n",
       "3  I'm having a discussion elsewhere and the post...   1614731322  \n",
       "4  I am not Catholic but is Joe Biden allowed to ...   1614730304  "
      ]
     },
     "execution_count": 28,
     "metadata": {},
     "output_type": "execute_result"
    }
   ],
   "source": [
    "rel_0[['subreddit','id','title','selftext','created_utc']].head(5)"
   ]
  },
  {
   "cell_type": "markdown",
   "id": "effective-spread",
   "metadata": {},
   "source": [
    "My panda dataframe has 100 rows (as expected), and 72 columns. Based on the .info() request I can tell there are a lot of columns in the dataframe that I will not use for my model. Since the goal of this model is two use text data to determine the subbreddit I am only going to concatanate the panda dataframes on the columns I will need. \n",
    "\n",
    "---\n",
    "**The columns I am concatanating are:**\n",
    "- **subreddit:** the name of the subbreddit the post came from\n",
    "- **id:** post id\n",
    "- **title:** title of the post\n",
    "- **selftext:** the description text or also reffered to as the context of the post"
   ]
  },
  {
   "cell_type": "code",
   "execution_count": 29,
   "id": "crude-heaven",
   "metadata": {},
   "outputs": [],
   "source": [
    "#using pd.concat to concatanate all 22 panda dataframes\n",
    "df = pd.concat([rel_0,\n",
    "                rel_1, \n",
    "                rel_2, \n",
    "                rel_3, \n",
    "                rel_4, \n",
    "                rel_5, \n",
    "                rel_6, \n",
    "                rel_7, \n",
    "                rel_8, \n",
    "                rel_9,\n",
    "                rel_10,\n",
    "                rel_11,\n",
    "                rel_12,\n",
    "                rel_13,\n",
    "                rel_14,\n",
    "                rel_15,\n",
    "                rel_16,\n",
    "                rel_17,\n",
    "                rel_18,\n",
    "                rel_19,\n",
    "                rel_20,\n",
    "                rel_21,\n",
    "                cult_0,\n",
    "                cult_1,\n",
    "                cult_2,\n",
    "                cult_3,\n",
    "                cult_4,\n",
    "                cult_5,\n",
    "                cult_6,\n",
    "                cult_7,\n",
    "                cult_8,\n",
    "                cult_9,\n",
    "                cult_10,\n",
    "                cult_11,\n",
    "                cult_12,\n",
    "                cult_13,\n",
    "                cult_14,\n",
    "                cult_15,\n",
    "                cult_16,\n",
    "                cult_17,\n",
    "                cult_18,\n",
    "                cult_19,\n",
    "                cult_20,\n",
    "                cult_21], axis=0)"
   ]
  },
  {
   "cell_type": "code",
   "execution_count": 30,
   "id": "square-brown",
   "metadata": {},
   "outputs": [],
   "source": [
    "#assigning the dataframe to only keep the four columns I need\n",
    "df = df[['subreddit','id','title','selftext']]"
   ]
  },
  {
   "cell_type": "code",
   "execution_count": 31,
   "id": "central-argument",
   "metadata": {},
   "outputs": [
    {
     "data": {
      "text/plain": [
       "(4400, 4)"
      ]
     },
     "execution_count": 31,
     "metadata": {},
     "output_type": "execute_result"
    }
   ],
   "source": [
    "#Using df.shape to know how many rows and columns my new dataframes has:\n",
    "df.shape"
   ]
  },
  {
   "cell_type": "code",
   "execution_count": 32,
   "id": "guided-headline",
   "metadata": {},
   "outputs": [],
   "source": [
    "#saving my combined Data set to a csv file just incase.\n",
    "df.to_csv('religion_cults_reddit.csv',index=False)"
   ]
  },
  {
   "cell_type": "markdown",
   "id": "iraqi-florence",
   "metadata": {},
   "source": [
    "<a id='datacleanEDA'></a>"
   ]
  },
  {
   "cell_type": "markdown",
   "id": "transsexual-entrepreneur",
   "metadata": {},
   "source": [
    "# Data Cleaning\n",
    "\n",
    "---"
   ]
  },
  {
   "cell_type": "markdown",
   "id": "olive-observer",
   "metadata": {},
   "source": [
    "### 1) Data Cleaning : Missing values"
   ]
  },
  {
   "cell_type": "code",
   "execution_count": 565,
   "id": "cathedral-fabric",
   "metadata": {},
   "outputs": [],
   "source": [
    "df = pd.read_csv('./religion_cults_reddit.csv')"
   ]
  },
  {
   "cell_type": "code",
   "execution_count": 566,
   "id": "dental-capacity",
   "metadata": {},
   "outputs": [
    {
     "name": "stdout",
     "output_type": "stream",
     "text": [
      "<class 'pandas.core.frame.DataFrame'>\n",
      "RangeIndex: 4400 entries, 0 to 4399\n",
      "Data columns (total 4 columns):\n",
      " #   Column     Non-Null Count  Dtype \n",
      "---  ------     --------------  ----- \n",
      " 0   subreddit  4400 non-null   object\n",
      " 1   id         4400 non-null   object\n",
      " 2   title      4400 non-null   object\n",
      " 3   selftext   2616 non-null   object\n",
      "dtypes: object(4)\n",
      "memory usage: 137.6+ KB\n"
     ]
    }
   ],
   "source": [
    "df.info()"
   ]
  },
  {
   "cell_type": "code",
   "execution_count": 567,
   "id": "vertical-relevance",
   "metadata": {},
   "outputs": [
    {
     "data": {
      "text/plain": [
       "1784"
      ]
     },
     "execution_count": 567,
     "metadata": {},
     "output_type": "execute_result"
    }
   ],
   "source": [
    "#finding the total number of missing values in the selftext column\n",
    "df['selftext'].isnull().sum()"
   ]
  },
  {
   "cell_type": "code",
   "execution_count": 568,
   "id": "plain-boost",
   "metadata": {},
   "outputs": [
    {
     "data": {
      "text/html": [
       "<div>\n",
       "<style scoped>\n",
       "    .dataframe tbody tr th:only-of-type {\n",
       "        vertical-align: middle;\n",
       "    }\n",
       "\n",
       "    .dataframe tbody tr th {\n",
       "        vertical-align: top;\n",
       "    }\n",
       "\n",
       "    .dataframe thead th {\n",
       "        text-align: right;\n",
       "    }\n",
       "</style>\n",
       "<table border=\"1\" class=\"dataframe\">\n",
       "  <thead>\n",
       "    <tr style=\"text-align: right;\">\n",
       "      <th></th>\n",
       "      <th>subreddit</th>\n",
       "      <th>id</th>\n",
       "      <th>title</th>\n",
       "      <th>selftext</th>\n",
       "    </tr>\n",
       "    <tr>\n",
       "      <th>subreddit</th>\n",
       "      <th></th>\n",
       "      <th></th>\n",
       "      <th></th>\n",
       "      <th></th>\n",
       "    </tr>\n",
       "  </thead>\n",
       "  <tbody>\n",
       "    <tr>\n",
       "      <th>cults</th>\n",
       "      <td>0.0</td>\n",
       "      <td>0.0</td>\n",
       "      <td>0.0</td>\n",
       "      <td>0.458182</td>\n",
       "    </tr>\n",
       "    <tr>\n",
       "      <th>religion</th>\n",
       "      <td>0.0</td>\n",
       "      <td>0.0</td>\n",
       "      <td>0.0</td>\n",
       "      <td>0.352727</td>\n",
       "    </tr>\n",
       "  </tbody>\n",
       "</table>\n",
       "</div>"
      ],
      "text/plain": [
       "           subreddit   id  title  selftext\n",
       "subreddit                                 \n",
       "cults            0.0  0.0    0.0  0.458182\n",
       "religion         0.0  0.0    0.0  0.352727"
      ]
     },
     "execution_count": 568,
     "metadata": {},
     "output_type": "execute_result"
    }
   ],
   "source": [
    "#using groupby and a lambda function to see the percentage of missing values by each subreddit\n",
    "df.groupby(\"subreddit\").apply(lambda x: x.isnull().mean())"
   ]
  },
  {
   "cell_type": "markdown",
   "id": "rocky-danger",
   "metadata": {},
   "source": [
    "---\n",
    "\n",
    "**Missing Values:**\n",
    "\n",
    "Based on the .info() pull each post has a value under title, but there are 1,784 post without selftext data. This means those post might not have any text in the contents of the post but inturn have a link, video, image etc. The table above shows that **45%** of the cult subreddit post have no selftext and **35%** of the relgion subreddits have no selftext. \n",
    "\n",
    "**What are my options:**\n",
    "\n",
    "\n",
    "Assuming I want to use both the title and the selftext in my model:\n",
    "\n",
    "**1. I could drop the missing rows which would leave me with with less data.** \n",
    "- This does not seem like a great option becasue it leaves me with a lot less data to train/test/split my model on and cause a poor output for my model.\n",
    "\n",
    "Assuming I only need one of these columns for my model:\n",
    "\n",
    "**2. I could drop the entire 'selftext column** \n",
    "- and only use the 'title column to predict the subbreddit. Since I have yet to even explore the data at this point I do not feel great about this option. The title might not be enough to determine the topic and the subtext could deliver some very interest insights on the topics at hand. \n",
    "\n",
    "---\n",
    "**Descsion:** \n",
    "I originally requested the data with a range(11) after determining that a could precentage of my rows would have NaN for **selftext** I went back and re-requested my data pull from the API with double the range(22). I decided to do this becasue now I can drop those rose and still remain with 2,616 rows of data as a healthy dataset size for modeling.  \n",
    "\n",
    "---"
   ]
  },
  {
   "cell_type": "code",
   "execution_count": 569,
   "id": "parental-wallet",
   "metadata": {},
   "outputs": [
    {
     "data": {
      "text/html": [
       "<div>\n",
       "<style scoped>\n",
       "    .dataframe tbody tr th:only-of-type {\n",
       "        vertical-align: middle;\n",
       "    }\n",
       "\n",
       "    .dataframe tbody tr th {\n",
       "        vertical-align: top;\n",
       "    }\n",
       "\n",
       "    .dataframe thead th {\n",
       "        text-align: right;\n",
       "    }\n",
       "</style>\n",
       "<table border=\"1\" class=\"dataframe\">\n",
       "  <thead>\n",
       "    <tr style=\"text-align: right;\">\n",
       "      <th></th>\n",
       "      <th>subreddit</th>\n",
       "      <th>id</th>\n",
       "      <th>title</th>\n",
       "      <th>selftext</th>\n",
       "    </tr>\n",
       "  </thead>\n",
       "  <tbody>\n",
       "    <tr>\n",
       "      <th>0</th>\n",
       "      <td>religion</td>\n",
       "      <td>lwi96e</td>\n",
       "      <td>my boyfriends parents don't want him with me b...</td>\n",
       "      <td>[removed]</td>\n",
       "    </tr>\n",
       "    <tr>\n",
       "      <th>1</th>\n",
       "      <td>religion</td>\n",
       "      <td>lwhxen</td>\n",
       "      <td>Demasiado Natural.</td>\n",
       "      <td>NaN</td>\n",
       "    </tr>\n",
       "    <tr>\n",
       "      <th>2</th>\n",
       "      <td>religion</td>\n",
       "      <td>lwgtbw</td>\n",
       "      <td>signs of the end times</td>\n",
       "      <td>NaN</td>\n",
       "    </tr>\n",
       "    <tr>\n",
       "      <th>3</th>\n",
       "      <td>religion</td>\n",
       "      <td>lwgq4r</td>\n",
       "      <td>What is the text of Isaiah 14:12-17 in the Torah?</td>\n",
       "      <td>I'm having a discussion elsewhere and the post...</td>\n",
       "    </tr>\n",
       "    <tr>\n",
       "      <th>4</th>\n",
       "      <td>religion</td>\n",
       "      <td>lwgefv</td>\n",
       "      <td>Is Joe Biden allowed to do this?</td>\n",
       "      <td>I am not Catholic but is Joe Biden allowed to ...</td>\n",
       "    </tr>\n",
       "  </tbody>\n",
       "</table>\n",
       "</div>"
      ],
      "text/plain": [
       "  subreddit      id                                              title  \\\n",
       "0  religion  lwi96e  my boyfriends parents don't want him with me b...   \n",
       "1  religion  lwhxen                                 Demasiado Natural.   \n",
       "2  religion  lwgtbw                             signs of the end times   \n",
       "3  religion  lwgq4r  What is the text of Isaiah 14:12-17 in the Torah?   \n",
       "4  religion  lwgefv                   Is Joe Biden allowed to do this?   \n",
       "\n",
       "                                            selftext  \n",
       "0                                          [removed]  \n",
       "1                                                NaN  \n",
       "2                                                NaN  \n",
       "3  I'm having a discussion elsewhere and the post...  \n",
       "4  I am not Catholic but is Joe Biden allowed to ...  "
      ]
     },
     "execution_count": 569,
     "metadata": {},
     "output_type": "execute_result"
    }
   ],
   "source": [
    "df.head()"
   ]
  },
  {
   "cell_type": "markdown",
   "id": "infectious-granny",
   "metadata": {},
   "source": [
    "It looks like there is also a value in selftext that say [removed] which could be that the content of the post was removed. I will also drop rows with that value as well."
   ]
  },
  {
   "cell_type": "code",
   "execution_count": 571,
   "id": "tribal-pledge",
   "metadata": {},
   "outputs": [
    {
     "data": {
      "text/html": [
       "<div>\n",
       "<style scoped>\n",
       "    .dataframe tbody tr th:only-of-type {\n",
       "        vertical-align: middle;\n",
       "    }\n",
       "\n",
       "    .dataframe tbody tr th {\n",
       "        vertical-align: top;\n",
       "    }\n",
       "\n",
       "    .dataframe thead th {\n",
       "        text-align: right;\n",
       "    }\n",
       "</style>\n",
       "<table border=\"1\" class=\"dataframe\">\n",
       "  <thead>\n",
       "    <tr style=\"text-align: right;\">\n",
       "      <th></th>\n",
       "      <th>subreddit</th>\n",
       "      <th>id</th>\n",
       "      <th>title</th>\n",
       "      <th>selftext</th>\n",
       "    </tr>\n",
       "  </thead>\n",
       "  <tbody>\n",
       "    <tr>\n",
       "      <th>0</th>\n",
       "      <td>religion</td>\n",
       "      <td>lwi96e</td>\n",
       "      <td>my boyfriends parents don't want him with me b...</td>\n",
       "      <td>[removed]</td>\n",
       "    </tr>\n",
       "    <tr>\n",
       "      <th>5</th>\n",
       "      <td>religion</td>\n",
       "      <td>lwgazb</td>\n",
       "      <td>I (24M) have tried to talk to my friend (21M) ...</td>\n",
       "      <td>[removed]</td>\n",
       "    </tr>\n",
       "    <tr>\n",
       "      <th>13</th>\n",
       "      <td>religion</td>\n",
       "      <td>lwao0g</td>\n",
       "      <td>What was your experience like with Eastern Ort...</td>\n",
       "      <td>[removed]</td>\n",
       "    </tr>\n",
       "    <tr>\n",
       "      <th>14</th>\n",
       "      <td>religion</td>\n",
       "      <td>lwad22</td>\n",
       "      <td>Video on the origin of creation of man by Jeff...</td>\n",
       "      <td>[removed]</td>\n",
       "    </tr>\n",
       "    <tr>\n",
       "      <th>19</th>\n",
       "      <td>religion</td>\n",
       "      <td>lw8qd3</td>\n",
       "      <td>Come And See</td>\n",
       "      <td>[removed]</td>\n",
       "    </tr>\n",
       "    <tr>\n",
       "      <th>...</th>\n",
       "      <td>...</td>\n",
       "      <td>...</td>\n",
       "      <td>...</td>\n",
       "      <td>...</td>\n",
       "    </tr>\n",
       "    <tr>\n",
       "      <th>4105</th>\n",
       "      <td>cults</td>\n",
       "      <td>hz7u8x</td>\n",
       "      <td>23-year-old woman had to flee danger from her ...</td>\n",
       "      <td>[removed]</td>\n",
       "    </tr>\n",
       "    <tr>\n",
       "      <th>4210</th>\n",
       "      <td>cults</td>\n",
       "      <td>hsskab</td>\n",
       "      <td>I want to join Occult for money ritual +234706...</td>\n",
       "      <td>[removed]</td>\n",
       "    </tr>\n",
       "    <tr>\n",
       "      <th>4304</th>\n",
       "      <td>cults</td>\n",
       "      <td>ho33ir</td>\n",
       "      <td>Become a Genius</td>\n",
       "      <td>[removed]</td>\n",
       "    </tr>\n",
       "    <tr>\n",
       "      <th>4358</th>\n",
       "      <td>cults</td>\n",
       "      <td>hivj1b</td>\n",
       "      <td>https://bsusa01.wixsite.com/ringizmorocket</td>\n",
       "      <td>[removed]</td>\n",
       "    </tr>\n",
       "    <tr>\n",
       "      <th>4379</th>\n",
       "      <td>cults</td>\n",
       "      <td>hh2jbm</td>\n",
       "      <td>Cult in Missouri Abusing girls</td>\n",
       "      <td>[removed]</td>\n",
       "    </tr>\n",
       "  </tbody>\n",
       "</table>\n",
       "<p>489 rows × 4 columns</p>\n",
       "</div>"
      ],
      "text/plain": [
       "     subreddit      id                                              title  \\\n",
       "0     religion  lwi96e  my boyfriends parents don't want him with me b...   \n",
       "5     religion  lwgazb  I (24M) have tried to talk to my friend (21M) ...   \n",
       "13    religion  lwao0g  What was your experience like with Eastern Ort...   \n",
       "14    religion  lwad22  Video on the origin of creation of man by Jeff...   \n",
       "19    religion  lw8qd3                                       Come And See   \n",
       "...        ...     ...                                                ...   \n",
       "4105     cults  hz7u8x  23-year-old woman had to flee danger from her ...   \n",
       "4210     cults  hsskab  I want to join Occult for money ritual +234706...   \n",
       "4304     cults  ho33ir                                    Become a Genius   \n",
       "4358     cults  hivj1b         https://bsusa01.wixsite.com/ringizmorocket   \n",
       "4379     cults  hh2jbm                     Cult in Missouri Abusing girls   \n",
       "\n",
       "       selftext  \n",
       "0     [removed]  \n",
       "5     [removed]  \n",
       "13    [removed]  \n",
       "14    [removed]  \n",
       "19    [removed]  \n",
       "...         ...  \n",
       "4105  [removed]  \n",
       "4210  [removed]  \n",
       "4304  [removed]  \n",
       "4358  [removed]  \n",
       "4379  [removed]  \n",
       "\n",
       "[489 rows x 4 columns]"
      ]
     },
     "execution_count": 571,
     "metadata": {},
     "output_type": "execute_result"
    }
   ],
   "source": [
    "df[df['selftext']== '[removed]']"
   ]
  },
  {
   "cell_type": "code",
   "execution_count": 572,
   "id": "effective-receiver",
   "metadata": {},
   "outputs": [
    {
     "data": {
      "text/html": [
       "<div>\n",
       "<style scoped>\n",
       "    .dataframe tbody tr th:only-of-type {\n",
       "        vertical-align: middle;\n",
       "    }\n",
       "\n",
       "    .dataframe tbody tr th {\n",
       "        vertical-align: top;\n",
       "    }\n",
       "\n",
       "    .dataframe thead th {\n",
       "        text-align: right;\n",
       "    }\n",
       "</style>\n",
       "<table border=\"1\" class=\"dataframe\">\n",
       "  <thead>\n",
       "    <tr style=\"text-align: right;\">\n",
       "      <th></th>\n",
       "      <th>subreddit</th>\n",
       "      <th>id</th>\n",
       "      <th>title</th>\n",
       "      <th>selftext</th>\n",
       "    </tr>\n",
       "  </thead>\n",
       "  <tbody>\n",
       "    <tr>\n",
       "      <th>37</th>\n",
       "      <td>religion</td>\n",
       "      <td>ltvmmk</td>\n",
       "      <td>Why do people think America was built on Chris...</td>\n",
       "      <td>[deleted]</td>\n",
       "    </tr>\n",
       "    <tr>\n",
       "      <th>53</th>\n",
       "      <td>religion</td>\n",
       "      <td>ltr054</td>\n",
       "      <td>I'm Looking for outcasted religious people who...</td>\n",
       "      <td>[deleted]</td>\n",
       "    </tr>\n",
       "    <tr>\n",
       "      <th>63</th>\n",
       "      <td>religion</td>\n",
       "      <td>ltnu25</td>\n",
       "      <td>Muslims, I am sure you get this all the time b...</td>\n",
       "      <td>[deleted]</td>\n",
       "    </tr>\n",
       "    <tr>\n",
       "      <th>66</th>\n",
       "      <td>religion</td>\n",
       "      <td>ltlqjn</td>\n",
       "      <td>I want to convert to Islam, but I need your help</td>\n",
       "      <td>[deleted]</td>\n",
       "    </tr>\n",
       "    <tr>\n",
       "      <th>74</th>\n",
       "      <td>religion</td>\n",
       "      <td>ltekkv</td>\n",
       "      <td>How, precisely, does confession work?</td>\n",
       "      <td>[deleted]</td>\n",
       "    </tr>\n",
       "    <tr>\n",
       "      <th>...</th>\n",
       "      <td>...</td>\n",
       "      <td>...</td>\n",
       "      <td>...</td>\n",
       "      <td>...</td>\n",
       "    </tr>\n",
       "    <tr>\n",
       "      <th>4142</th>\n",
       "      <td>cults</td>\n",
       "      <td>hwq518</td>\n",
       "      <td>Looking for articles/links that explore the na...</td>\n",
       "      <td>[deleted]</td>\n",
       "    </tr>\n",
       "    <tr>\n",
       "      <th>4156</th>\n",
       "      <td>cults</td>\n",
       "      <td>hvm7ov</td>\n",
       "      <td>4 psychological techniques cults use to recrui...</td>\n",
       "      <td>[deleted]</td>\n",
       "    </tr>\n",
       "    <tr>\n",
       "      <th>4184</th>\n",
       "      <td>cults</td>\n",
       "      <td>huawsr</td>\n",
       "      <td>Mike Rinder goes \"further, harder, deeper, and...</td>\n",
       "      <td>[deleted]</td>\n",
       "    </tr>\n",
       "    <tr>\n",
       "      <th>4254</th>\n",
       "      <td>cults</td>\n",
       "      <td>hr549r</td>\n",
       "      <td>Mgtow cult investigation</td>\n",
       "      <td>[deleted]</td>\n",
       "    </tr>\n",
       "    <tr>\n",
       "      <th>4325</th>\n",
       "      <td>cults</td>\n",
       "      <td>hlppqx</td>\n",
       "      <td>Do any of you know anything about this symbol?</td>\n",
       "      <td>[deleted]</td>\n",
       "    </tr>\n",
       "  </tbody>\n",
       "</table>\n",
       "<p>86 rows × 4 columns</p>\n",
       "</div>"
      ],
      "text/plain": [
       "     subreddit      id                                              title  \\\n",
       "37    religion  ltvmmk  Why do people think America was built on Chris...   \n",
       "53    religion  ltr054  I'm Looking for outcasted religious people who...   \n",
       "63    religion  ltnu25  Muslims, I am sure you get this all the time b...   \n",
       "66    religion  ltlqjn   I want to convert to Islam, but I need your help   \n",
       "74    religion  ltekkv              How, precisely, does confession work?   \n",
       "...        ...     ...                                                ...   \n",
       "4142     cults  hwq518  Looking for articles/links that explore the na...   \n",
       "4156     cults  hvm7ov  4 psychological techniques cults use to recrui...   \n",
       "4184     cults  huawsr  Mike Rinder goes \"further, harder, deeper, and...   \n",
       "4254     cults  hr549r                           Mgtow cult investigation   \n",
       "4325     cults  hlppqx     Do any of you know anything about this symbol?   \n",
       "\n",
       "       selftext  \n",
       "37    [deleted]  \n",
       "53    [deleted]  \n",
       "63    [deleted]  \n",
       "66    [deleted]  \n",
       "74    [deleted]  \n",
       "...         ...  \n",
       "4142  [deleted]  \n",
       "4156  [deleted]  \n",
       "4184  [deleted]  \n",
       "4254  [deleted]  \n",
       "4325  [deleted]  \n",
       "\n",
       "[86 rows x 4 columns]"
      ]
     },
     "execution_count": 572,
     "metadata": {},
     "output_type": "execute_result"
    }
   ],
   "source": [
    "df[df['selftext'] == '[deleted]']"
   ]
  },
  {
   "cell_type": "markdown",
   "id": "injured-presence",
   "metadata": {},
   "source": [
    "In the above code I filtered for selfttext values that contain the str [removed] and that equals 489 rows. I am going to change these values a NaN value. Once I drop alll the NaN values I should have just over 2000 rows left.  "
   ]
  },
  {
   "cell_type": "code",
   "execution_count": 573,
   "id": "bridal-penny",
   "metadata": {},
   "outputs": [],
   "source": [
    "#defining a function to find and replace all cells with [removed] with NaN\n",
    "#this will allow me to drop all these rows in one go with .dropna\n",
    "def clean_selftext(text_val):\n",
    "    #iterate through the row values to find ['removed']\n",
    "    if text_val == '[removed]':\n",
    "        #return NaN if the value is [removed]\n",
    "        return ''\n",
    "    if text_val == '[deleted]':\n",
    "         return ''\n",
    "    if text_val == '[':\n",
    "        return ''\n",
    "    #if NOT [removed] than leave the text as is. \n",
    "    else:\n",
    "        return text_val"
   ]
  },
  {
   "cell_type": "code",
   "execution_count": 574,
   "id": "necessary-thirty",
   "metadata": {},
   "outputs": [],
   "source": [
    "#using .map to call my clean_selfttext function on the 'selftext' column. Then reassigning it to the column\n",
    "#to make it stick\n",
    "df['selftext'] = df['selftext'].map(clean_selftext)"
   ]
  },
  {
   "cell_type": "code",
   "execution_count": 575,
   "id": "promising-spare",
   "metadata": {},
   "outputs": [
    {
     "data": {
      "text/plain": [
       "1784"
      ]
     },
     "execution_count": 575,
     "metadata": {},
     "output_type": "execute_result"
    }
   ],
   "source": [
    "#I now have 2273 NaN values\n",
    "df['selftext'].isnull().sum()"
   ]
  },
  {
   "cell_type": "code",
   "execution_count": 576,
   "id": "received-barrel",
   "metadata": {},
   "outputs": [
    {
     "data": {
      "text/plain": [
       "(4400, 4)"
      ]
     },
     "execution_count": 576,
     "metadata": {},
     "output_type": "execute_result"
    }
   ],
   "source": [
    "#droping all the NaN values and getting dataframe shape\n",
    "df = df.fillna('')\n",
    "df.shape"
   ]
  },
  {
   "cell_type": "code",
   "execution_count": 577,
   "id": "departmental-seating",
   "metadata": {},
   "outputs": [],
   "source": [
    "df['text'] = df['title']  + ' ' + df['selftext']\n",
    "df['subreddit_class'] = [1 if i == 'religion' else 0 for i in df['subreddit']]"
   ]
  },
  {
   "cell_type": "code",
   "execution_count": 578,
   "id": "judicial-idaho",
   "metadata": {},
   "outputs": [
    {
     "data": {
      "text/html": [
       "<div>\n",
       "<style scoped>\n",
       "    .dataframe tbody tr th:only-of-type {\n",
       "        vertical-align: middle;\n",
       "    }\n",
       "\n",
       "    .dataframe tbody tr th {\n",
       "        vertical-align: top;\n",
       "    }\n",
       "\n",
       "    .dataframe thead th {\n",
       "        text-align: right;\n",
       "    }\n",
       "</style>\n",
       "<table border=\"1\" class=\"dataframe\">\n",
       "  <thead>\n",
       "    <tr style=\"text-align: right;\">\n",
       "      <th></th>\n",
       "      <th>subreddit</th>\n",
       "      <th>id</th>\n",
       "      <th>title</th>\n",
       "      <th>selftext</th>\n",
       "      <th>text</th>\n",
       "      <th>subreddit_class</th>\n",
       "    </tr>\n",
       "  </thead>\n",
       "  <tbody>\n",
       "    <tr>\n",
       "      <th>0</th>\n",
       "      <td>religion</td>\n",
       "      <td>lwi96e</td>\n",
       "      <td>my boyfriends parents don't want him with me b...</td>\n",
       "      <td></td>\n",
       "      <td>my boyfriends parents don't want him with me b...</td>\n",
       "      <td>1</td>\n",
       "    </tr>\n",
       "    <tr>\n",
       "      <th>1</th>\n",
       "      <td>religion</td>\n",
       "      <td>lwhxen</td>\n",
       "      <td>Demasiado Natural.</td>\n",
       "      <td></td>\n",
       "      <td>Demasiado Natural.</td>\n",
       "      <td>1</td>\n",
       "    </tr>\n",
       "    <tr>\n",
       "      <th>2</th>\n",
       "      <td>religion</td>\n",
       "      <td>lwgtbw</td>\n",
       "      <td>signs of the end times</td>\n",
       "      <td></td>\n",
       "      <td>signs of the end times</td>\n",
       "      <td>1</td>\n",
       "    </tr>\n",
       "    <tr>\n",
       "      <th>3</th>\n",
       "      <td>religion</td>\n",
       "      <td>lwgq4r</td>\n",
       "      <td>What is the text of Isaiah 14:12-17 in the Torah?</td>\n",
       "      <td>I'm having a discussion elsewhere and the post...</td>\n",
       "      <td>What is the text of Isaiah 14:12-17 in the Tor...</td>\n",
       "      <td>1</td>\n",
       "    </tr>\n",
       "    <tr>\n",
       "      <th>4</th>\n",
       "      <td>religion</td>\n",
       "      <td>lwgefv</td>\n",
       "      <td>Is Joe Biden allowed to do this?</td>\n",
       "      <td>I am not Catholic but is Joe Biden allowed to ...</td>\n",
       "      <td>Is Joe Biden allowed to do this? I am not Cath...</td>\n",
       "      <td>1</td>\n",
       "    </tr>\n",
       "  </tbody>\n",
       "</table>\n",
       "</div>"
      ],
      "text/plain": [
       "  subreddit      id                                              title  \\\n",
       "0  religion  lwi96e  my boyfriends parents don't want him with me b...   \n",
       "1  religion  lwhxen                                 Demasiado Natural.   \n",
       "2  religion  lwgtbw                             signs of the end times   \n",
       "3  religion  lwgq4r  What is the text of Isaiah 14:12-17 in the Torah?   \n",
       "4  religion  lwgefv                   Is Joe Biden allowed to do this?   \n",
       "\n",
       "                                            selftext  \\\n",
       "0                                                      \n",
       "1                                                      \n",
       "2                                                      \n",
       "3  I'm having a discussion elsewhere and the post...   \n",
       "4  I am not Catholic but is Joe Biden allowed to ...   \n",
       "\n",
       "                                                text  subreddit_class  \n",
       "0  my boyfriends parents don't want him with me b...                1  \n",
       "1                                Demasiado Natural.                 1  \n",
       "2                            signs of the end times                 1  \n",
       "3  What is the text of Isaiah 14:12-17 in the Tor...                1  \n",
       "4  Is Joe Biden allowed to do this? I am not Cath...                1  "
      ]
     },
     "execution_count": 578,
     "metadata": {},
     "output_type": "execute_result"
    }
   ],
   "source": [
    "df.head()"
   ]
  },
  {
   "cell_type": "code",
   "execution_count": 579,
   "id": "laden-sewing",
   "metadata": {},
   "outputs": [
    {
     "data": {
      "text/plain": [
       "0    2200\n",
       "1    2200\n",
       "Name: subreddit_class, dtype: int64"
      ]
     },
     "execution_count": 579,
     "metadata": {},
     "output_type": "execute_result"
    }
   ],
   "source": [
    "df['subreddit_class'].value_counts()"
   ]
  },
  {
   "cell_type": "code",
   "execution_count": 580,
   "id": "least-gothic",
   "metadata": {},
   "outputs": [],
   "source": [
    "#saving my combined Data set to a csv file just incase.\n",
    "df.to_csv('religion_cults_reddit_preprocessing.csv',index=False)"
   ]
  },
  {
   "cell_type": "markdown",
   "id": "popular-eleven",
   "metadata": {},
   "source": [
    "# Pre-Processing \n",
    "\n",
    "When dealing with text data, I want to make some pre-processing steps in order to have clean test data.\n",
    "\n",
    "- lowercase\n",
    "- replacing any http/s url strings\n",
    "- removing punctuation\n",
    "- removing numbers\n",
    "- removing words less than 2 letters and all english stopwords\n",
    "- remove any unwanted characters or symbols"
   ]
  },
  {
   "cell_type": "code",
   "execution_count": 369,
   "id": "muslim-publisher",
   "metadata": {},
   "outputs": [],
   "source": [
    "#(source: https://stackoverflow.com/questions/54396405/how-can-i-preprocess-nlp-text-lowercase-remove-special-characters-remove-numb)\n",
    "import nltk\n",
    "from nltk.tokenize import RegexpTokenizer\n",
    "from nltk.stem import WordNetLemmatizer,PorterStemmer\n",
    "from nltk.corpus import stopwords\n",
    "import re\n",
    "lemmatizer = WordNetLemmatizer()\n",
    "stemmer = PorterStemmer() \n",
    "\n",
    "def preprocess(sentence):\n",
    "    sentence=str(sentence)\n",
    "    sentence = sentence.lower()\n",
    "    sentence=sentence.replace('{html}',\"\") \n",
    "    cleanr = re.compile('<.*?>')\n",
    "    cleantext = re.sub(cleanr, '', sentence)\n",
    "    rem_url=re.sub(r'http\\S+', '',cleantext)\n",
    "    rem_num = re.sub('[0-9]+', '', rem_url)\n",
    "    tokenizer = RegexpTokenizer(r'\\w+')\n",
    "    tokens = tokenizer.tokenize(rem_num)  \n",
    "    filtered_words = [w for w in tokens if len(w) > 2 if not w in stopwords.words('english')]\n",
    "    stem_words=[stemmer.stem(w) for w in filtered_words]\n",
    "    lemma_words=[lemmatizer.lemmatize(w) for w in stem_words]\n",
    "    return \" \".join(filtered_words)"
   ]
  },
  {
   "cell_type": "code",
   "execution_count": 370,
   "id": "dimensional-immune",
   "metadata": {},
   "outputs": [],
   "source": [
    "#going to clean the combined title and selftext colum \n",
    "df['cleanText']=df['text'].map(lambda s:preprocess(s))\n",
    "\n",
    "#creating title_clean column of just the title cleaned\n",
    "df['cleanTitle']=df['title'].map(lambda s:preprocess(s))\n"
   ]
  },
  {
   "cell_type": "code",
   "execution_count": 372,
   "id": "eight-fantasy",
   "metadata": {},
   "outputs": [
    {
     "data": {
      "text/html": [
       "<div>\n",
       "<style scoped>\n",
       "    .dataframe tbody tr th:only-of-type {\n",
       "        vertical-align: middle;\n",
       "    }\n",
       "\n",
       "    .dataframe tbody tr th {\n",
       "        vertical-align: top;\n",
       "    }\n",
       "\n",
       "    .dataframe thead th {\n",
       "        text-align: right;\n",
       "    }\n",
       "</style>\n",
       "<table border=\"1\" class=\"dataframe\">\n",
       "  <thead>\n",
       "    <tr style=\"text-align: right;\">\n",
       "      <th></th>\n",
       "      <th>subreddit</th>\n",
       "      <th>id</th>\n",
       "      <th>title</th>\n",
       "      <th>selftext</th>\n",
       "      <th>text</th>\n",
       "      <th>subreddit_class</th>\n",
       "      <th>cleanText</th>\n",
       "      <th>cleanTitle</th>\n",
       "    </tr>\n",
       "  </thead>\n",
       "  <tbody>\n",
       "    <tr>\n",
       "      <th>0</th>\n",
       "      <td>religion</td>\n",
       "      <td>lwi96e</td>\n",
       "      <td>my boyfriends parents don't want him with me b...</td>\n",
       "      <td></td>\n",
       "      <td>my boyfriends parents don't want him with me b...</td>\n",
       "      <td>1</td>\n",
       "      <td>boyfriends parents want christian</td>\n",
       "      <td>boyfriends parents want christian</td>\n",
       "    </tr>\n",
       "    <tr>\n",
       "      <th>1</th>\n",
       "      <td>religion</td>\n",
       "      <td>lwhxen</td>\n",
       "      <td>Demasiado Natural.</td>\n",
       "      <td></td>\n",
       "      <td>Demasiado Natural.</td>\n",
       "      <td>1</td>\n",
       "      <td>demasiado natural</td>\n",
       "      <td>demasiado natural</td>\n",
       "    </tr>\n",
       "    <tr>\n",
       "      <th>2</th>\n",
       "      <td>religion</td>\n",
       "      <td>lwgtbw</td>\n",
       "      <td>signs of the end times</td>\n",
       "      <td></td>\n",
       "      <td>signs of the end times</td>\n",
       "      <td>1</td>\n",
       "      <td>signs end times</td>\n",
       "      <td>signs end times</td>\n",
       "    </tr>\n",
       "    <tr>\n",
       "      <th>3</th>\n",
       "      <td>religion</td>\n",
       "      <td>lwgq4r</td>\n",
       "      <td>What is the text of Isaiah 14:12-17 in the Torah?</td>\n",
       "      <td>I'm having a discussion elsewhere and the post...</td>\n",
       "      <td>What is the text of Isaiah 14:12-17 in the Tor...</td>\n",
       "      <td>1</td>\n",
       "      <td>text isaiah torah discussion elsewhere poster ...</td>\n",
       "      <td>text isaiah torah</td>\n",
       "    </tr>\n",
       "    <tr>\n",
       "      <th>4</th>\n",
       "      <td>religion</td>\n",
       "      <td>lwgefv</td>\n",
       "      <td>Is Joe Biden allowed to do this?</td>\n",
       "      <td>I am not Catholic but is Joe Biden allowed to ...</td>\n",
       "      <td>Is Joe Biden allowed to do this? I am not Cath...</td>\n",
       "      <td>1</td>\n",
       "      <td>joe biden allowed catholic joe biden allowed p...</td>\n",
       "      <td>joe biden allowed</td>\n",
       "    </tr>\n",
       "  </tbody>\n",
       "</table>\n",
       "</div>"
      ],
      "text/plain": [
       "  subreddit      id                                              title  \\\n",
       "0  religion  lwi96e  my boyfriends parents don't want him with me b...   \n",
       "1  religion  lwhxen                                 Demasiado Natural.   \n",
       "2  religion  lwgtbw                             signs of the end times   \n",
       "3  religion  lwgq4r  What is the text of Isaiah 14:12-17 in the Torah?   \n",
       "4  religion  lwgefv                   Is Joe Biden allowed to do this?   \n",
       "\n",
       "                                            selftext  \\\n",
       "0                                                      \n",
       "1                                                      \n",
       "2                                                      \n",
       "3  I'm having a discussion elsewhere and the post...   \n",
       "4  I am not Catholic but is Joe Biden allowed to ...   \n",
       "\n",
       "                                                text  subreddit_class  \\\n",
       "0  my boyfriends parents don't want him with me b...                1   \n",
       "1                                Demasiado Natural.                 1   \n",
       "2                            signs of the end times                 1   \n",
       "3  What is the text of Isaiah 14:12-17 in the Tor...                1   \n",
       "4  Is Joe Biden allowed to do this? I am not Cath...                1   \n",
       "\n",
       "                                           cleanText  \\\n",
       "0                  boyfriends parents want christian   \n",
       "1                                  demasiado natural   \n",
       "2                                    signs end times   \n",
       "3  text isaiah torah discussion elsewhere poster ...   \n",
       "4  joe biden allowed catholic joe biden allowed p...   \n",
       "\n",
       "                          cleanTitle  \n",
       "0  boyfriends parents want christian  \n",
       "1                  demasiado natural  \n",
       "2                    signs end times  \n",
       "3                  text isaiah torah  \n",
       "4                  joe biden allowed  "
      ]
     },
     "execution_count": 372,
     "metadata": {},
     "output_type": "execute_result"
    }
   ],
   "source": [
    "df.head()"
   ]
  },
  {
   "cell_type": "code",
   "execution_count": 515,
   "id": "altered-february",
   "metadata": {},
   "outputs": [],
   "source": [
    "df.to_csv('religion_cults_reddit_preprocessed.csv',index=False)"
   ]
  },
  {
   "cell_type": "markdown",
   "id": "stupid-bracket",
   "metadata": {},
   "source": [
    "# Exploratory Data Analysis\n",
    "\n",
    "***\n",
    "\n",
    "- average word count by subreddit\n",
    "- common phrases\n",
    "- common words\n",
    "- sentiment analysis?\n",
    "- particular topics associated with each subreddit\n"
   ]
  },
  {
   "cell_type": "markdown",
   "id": "metallic-austria",
   "metadata": {},
   "source": [
    "### Word Count by Subbreddit"
   ]
  },
  {
   "cell_type": "markdown",
   "id": "interracial-wages",
   "metadata": {},
   "source": [
    "Below I am creating a column for both the original **title** column and the **selftext** column to understand how the lengths of these posts are distributed across each of these subreddits."
   ]
  },
  {
   "cell_type": "code",
   "execution_count": 581,
   "id": "legislative-analysis",
   "metadata": {},
   "outputs": [],
   "source": [
    "#creating a column title_word_count\n",
    "df['title_word_count'] = df['title'].map(lambda x: len(x.split()))\n",
    "\n",
    "#crating a column selftext word_count\n",
    "df['post_word_count'] = df['selftext'].map(lambda x: len(x.split()))"
   ]
  },
  {
   "cell_type": "code",
   "execution_count": 587,
   "id": "polar-friendly",
   "metadata": {},
   "outputs": [
    {
     "data": {
      "image/png": "[encoded data removed]",
      "text/plain": [
       "<Figure size 432x288 with 1 Axes>"
      ]
     },
     "metadata": {},
     "output_type": "display_data"
    }
   ],
   "source": [
    "plt.style.use('fivethirtyeight')\n",
    "df.groupby('subreddit')['post_word_count'].mean().plot.bar()\n",
    "plt.title('Mean word count by Post of Subbreddits');"
   ]
  },
  {
   "cell_type": "code",
   "execution_count": 588,
   "id": "global-support",
   "metadata": {},
   "outputs": [
    {
     "data": {
      "text/plain": [
       "subreddit\n",
       "cults       11.657727\n",
       "religion    10.174091\n",
       "Name: title_word_count, dtype: float64"
      ]
     },
     "execution_count": 588,
     "metadata": {},
     "output_type": "execute_result"
    }
   ],
   "source": [
    "df.groupby('subreddit')['title_word_count'].mean()"
   ]
  },
  {
   "cell_type": "code",
   "execution_count": 589,
   "id": "chemical-header",
   "metadata": {},
   "outputs": [
    {
     "data": {
      "image/png": "[encoded data removed]",
      "text/plain": [
       "<Figure size 432x288 with 1 Axes>"
      ]
     },
     "metadata": {},
     "output_type": "display_data"
    }
   ],
   "source": [
    "plt.style.use('fivethirtyeight')\n",
    "df.groupby('subreddit')['title_word_count'].mean().plot.bar()\n",
    "plt.title('Mean word count by Title of Subbreddits');"
   ]
  },
  {
   "cell_type": "code",
   "execution_count": 376,
   "id": "armed-possession",
   "metadata": {},
   "outputs": [
    {
     "data": {
      "text/plain": [
       "0.14582491939574738"
      ]
     },
     "execution_count": 376,
     "metadata": {},
     "output_type": "execute_result"
    }
   ],
   "source": [
    "#Calcuating the % change\n",
    "(11.657727-10.174091)/10.174091"
   ]
  },
  {
   "cell_type": "markdown",
   "id": "architectural-hamilton",
   "metadata": {},
   "source": [
    "In the above bar graph we are looking at the wordcount by title. Based on this visualization we can the subreddit **r/cults** has a higher average word count than **r/religion**. When calculating the % difference the average word count for **r/cults** is **14%** higher than the average word count of **r/religion**. As continure to explore the text data below we can see how certain topics or words might contribute to longer or shorter titles.\n",
    "\n",
    "---"
   ]
  },
  {
   "cell_type": "markdown",
   "id": "sharing-graphics",
   "metadata": {},
   "source": [
    "## EDA: Common Phrases"
   ]
  },
  {
   "cell_type": "code",
   "execution_count": null,
   "id": "stretch-pixel",
   "metadata": {},
   "outputs": [],
   "source": []
  },
  {
   "cell_type": "code",
   "execution_count": null,
   "id": "hindu-residence",
   "metadata": {},
   "outputs": [],
   "source": []
  },
  {
   "cell_type": "code",
   "execution_count": 377,
   "id": "meaningful-refund",
   "metadata": {},
   "outputs": [],
   "source": [
    "cv = CountVectorizer(stop_words='english', ngram_range=(2,3))\n",
    "cv.fit(df['cleanTitle'])\n",
    "\n",
    "title_cv = cv.transform(df['cleanTitle'])\n",
    "title_df = pd.DataFrame(title_cv.todense(), columns=cv.get_feature_names())"
   ]
  },
  {
   "cell_type": "code",
   "execution_count": 392,
   "id": "monthly-analysis",
   "metadata": {},
   "outputs": [
    {
     "data": {
      "text/plain": [
       "cult leader    42\n",
       "mer rof        37\n",
       "mer rof mer    37\n",
       "rof mer        37\n",
       "rof mer rof    36\n",
       "dtype: int64"
      ]
     },
     "execution_count": 392,
     "metadata": {},
     "output_type": "execute_result"
    }
   ],
   "source": [
    "cleanTitle_50.head()"
   ]
  },
  {
   "cell_type": "markdown",
   "id": "removed-generic",
   "metadata": {},
   "source": [
    "#### Wait! What is rof mer rof?\n",
    "\n",
    "Okay, given the nature of the topic cults vs religion I did expet to come across some werid things, but this little side exploration was quite creepy. As we can see above I set out to see the most common 50 phrases across the cleaned title text. As first glance when looking at the .head() four of the enteries has this patter **rof mern**. I went back to the subbreddit **r/cults** to see if there was more detail within the comments or anywherene else on reddit. The specifc post I found is linked [here.](https://www.reddit.com/r/cults/comments/k0ypmn/mer_rof_mer_rof_mer_rof_mer_rof_mer_rof_mer_rof/)\n",
    "- after translating the comments that were in morse code I found out that this is a name\n",
    "- another morse code comment said \"he is watching you\" and \"you have been chose\"\n",
    "- And there was a really creepy youtube video."
   ]
  },
  {
   "cell_type": "markdown",
   "id": "straight-progressive",
   "metadata": {},
   "source": [
    "### Common Phrases in title's for r/religion and r/cults:"
   ]
  },
  {
   "cell_type": "code",
   "execution_count": 379,
   "id": "double-appearance",
   "metadata": {},
   "outputs": [],
   "source": [
    "#concatenating the subreddit columnm with the vectorized title df \n",
    "title_subreddit_cv = pd.concat([title_df, df['subreddit']], axis=1)\n",
    "\n",
    "############## r/cults ###################################################\n",
    "\n",
    "\n",
    "#filter for subreddit r/cults\n",
    "cults_cv_title = title_subreddit_cv[title_subreddit_cv['subreddit']== 'cults']\n",
    "\n",
    "#Dropping subreddit column to sort vectorize text \n",
    "cults_cv_title = cults_cv_title.drop(['subreddit'], axis=1)\n",
    "\n",
    "#selecting top 50\n",
    "cults_cv_title_50 = cults_cv_title.sum().sort_values(ascending=False).head(50)\n",
    "\n",
    "\n",
    "############## r/religion ###################################################\n",
    "\n",
    "#filter for subreddit r/religion\n",
    "religion_cv_title = title_subreddit_cv[title_subreddit_cv['subreddit']== 'religion']\n",
    "\n",
    "#Dropping subreddit column to sort vectorize text \n",
    "religion_cv_title = religion_cv_title.drop(['subreddit'], axis=1)\n",
    "\n",
    "#selecting top 50\n",
    "religion_cv_title_50 = religion_cv_title.sum().sort_values(ascending=False).head(50)"
   ]
  },
  {
   "cell_type": "code",
   "execution_count": 380,
   "id": "innocent-gilbert",
   "metadata": {},
   "outputs": [
    {
     "data": {
      "image/png": "[encoded data removed]",
      "text/plain": [
       "<Figure size 1080x720 with 2 Axes>"
      ]
     },
     "metadata": {},
     "output_type": "display_data"
    }
   ],
   "source": [
    "import seaborn as sns\n",
    "plt.style.use('fivethirtyeight')\n",
    "\n",
    "# plot results\n",
    "fit, ax = plt.subplots(nrows = 1, ncols = 2, figsize=(15,10), sharex = True)\n",
    "\n",
    "sns.barplot(y=religion_cv_title_50.index.values, x = religion_cv_title_50,color='turquoise',ax=ax[0])\n",
    "ax[0].set_title('top 50 words in r/religion posts',fontsize=16)\n",
    "ax[0].set_xlabel('count of words/phrases', fontsize=13)\n",
    "plt.setp(ax[0].get_yticklabels(), fontsize=14)\n",
    "\n",
    "sns.barplot(y=cults_cv_title_50.index.values, x = cults_cv_title_50,color='teal',ax=ax[1])\n",
    "ax[1].set_title('top 50 words in r/cults posts',fontsize=16)\n",
    "ax[1].set_xlabel('count of words/phrases', fontsize=13)\n",
    "plt.setp(ax[1].get_yticklabels(), fontsize=14)\n",
    "\n",
    "plt.tight_layout()"
   ]
  },
  {
   "cell_type": "markdown",
   "id": "consecutive-anatomy",
   "metadata": {},
   "source": [
    "#### From the graphs above, a few necessary steps become clear:\n",
    "1. additional stopwords need to be added to the default sklearn stopwords, such as *religion, religious, cult*. These words are an obvious dead giveaway to the subreddit they belong to and will not be used when modeling so for EDA purposes they do not serve much purpose either.\n",
    "2. Since my project is based on natural language processing in english, filteing out non-english words or translating them will help decrease noise. \n",
    "3. Decreasing noise caused by references to links, videos, other non-text media. \n",
    "\n",
    "\n",
    "#### Despite the noise in these two graphs (outlined above) some inital takeaways are:\n",
    "- In **r/religion** top phrase includes the word ***katholisch***, after a quick google search I've identified this word as a german word for catholic. \n",
    "- The term ***heaven*** apears in both the **top 12 most common phrases**.\n",
    "- The **r/cults** subreddit appears to have words that are more colloquial terms surrounding the notion of a *social group* with words such as *join / joined , member , socicety*. We also can see a more empatic sense of this with terms such as, *leader, secret, prise, and raised*. Additionaly there is this sense of otherness with terms such as *inside, left*.\n",
    "- In the **r/religion** subreddit there is a very apparant use of various religious faith based words.\n",
    "\n",
    "Based on these graphs it could be interesting to explore the commnuication styles further. By not extracting the english stopwords we might discover a more prominant trend of **otherness** with words used such as: *us, they, them, theirs, others, inside, outside*. To extend this idea further we might look into pronoun usage within the two subreddits to distinguish if there is a presense of this sociological idea of 'otherness' that is typically comon is destructive cults. \n",
    "\n",
    "\n",
    "----"
   ]
  },
  {
   "cell_type": "markdown",
   "id": "sixth-galaxy",
   "metadata": {},
   "source": [
    "keyword analysis, key semantic tag analysis, and key part-of-speech analysis"
   ]
  },
  {
   "cell_type": "markdown",
   "id": "modified-continent",
   "metadata": {},
   "source": [
    "#### Below I am looking further at common phrases but now extracting the subreddit words, ***religion, religious, cults, cult***. I am also taking this a little durther by instead of just viewing common title phrase I will be vectorize the combined title and text column of cleanedText."
   ]
  },
  {
   "cell_type": "code",
   "execution_count": 439,
   "id": "difficult-madrid",
   "metadata": {},
   "outputs": [],
   "source": [
    "cv = CountVectorizer(stop_words=['religion','religious','religions','cult','cults'],ngram_range=(2,2),max_features=600, min_df=10)\n",
    "cv.fit(df['cleanText'])\n",
    "\n",
    "text_cv = cv.transform(df['cleanText'])\n",
    "text_df = pd.DataFrame(text_cv.todense(), columns=cv.get_feature_names())"
   ]
  },
  {
   "cell_type": "code",
   "execution_count": 440,
   "id": "after-observation",
   "metadata": {},
   "outputs": [],
   "source": [
    "text_df = pd.concat([text_df, df['subreddit']], axis=1)"
   ]
  },
  {
   "cell_type": "code",
   "execution_count": 441,
   "id": "champion-terrorist",
   "metadata": {},
   "outputs": [],
   "source": [
    "############## r/cults ###################################################\n",
    "\n",
    "\n",
    "#filter for subreddit r/cults\n",
    "cults_cv_text = text_df[text_df['subreddit']== 'cults']\n",
    "\n",
    "#Dropping subreddit column to sort vectorize text \n",
    "cults_cv_text = cults_cv_text.drop(['subreddit'], axis=1)\n",
    "\n",
    "#selecting top 50\n",
    "cults_cv_text_50 = cults_cv_text.sum().sort_values(ascending=False).head(50)\n",
    "\n",
    "\n",
    "############## r/religion ###################################################\n",
    "\n",
    "#filter for subreddit r/religion\n",
    "religion_cv_text = text_df[text_df['subreddit']== 'religion']\n",
    "\n",
    "#Dropping subreddit column to sort vectorize text \n",
    "religion_cv_text = religion_cv_text.drop(['subreddit'], axis=1)\n",
    "\n",
    "#selecting top 50\n",
    "religion_cv_text_50 = religion_cv_text.sum().sort_values(ascending=False).head(50)"
   ]
  },
  {
   "cell_type": "code",
   "execution_count": 442,
   "id": "fewer-binding",
   "metadata": {},
   "outputs": [
    {
     "data": {
      "image/png": "[encoded data removed]",
      "text/plain": [
       "<Figure size 1080x720 with 2 Axes>"
      ]
     },
     "metadata": {},
     "output_type": "display_data"
    }
   ],
   "source": [
    "plt.style.use('fivethirtyeight')\n",
    "\n",
    "# plot results\n",
    "fit, ax = plt.subplots(nrows = 1, ncols = 2, figsize=(15,10), sharex = True)\n",
    "\n",
    "sns.barplot(y=religion_cv_text_50.index.values, x = religion_cv_text_50,color='turquoise',ax=ax[0])\n",
    "ax[0].set_title('top 50 words in r/religion posts',fontsize=16)\n",
    "ax[0].set_xlabel('count of words/phrases', fontsize=13)\n",
    "plt.setp(ax[0].get_yticklabels(), fontsize=14)\n",
    "\n",
    "sns.barplot(y=cults_cv_text_50.index.values, x = cults_cv_text_50,color='teal',ax=ax[1])\n",
    "ax[1].set_title('top 50 words in r/cults posts',fontsize=16)\n",
    "ax[1].set_xlabel('count of words/phrases', fontsize=13)\n",
    "plt.setp(ax[1].get_yticklabels(), fontsize=14)\n",
    "\n",
    "plt.tight_layout()"
   ]
  },
  {
   "cell_type": "code",
   "execution_count": 443,
   "id": "decreased-prize",
   "metadata": {},
   "outputs": [
    {
     "data": {
      "image/png": "[encoded data removed]",
      "text/plain": [
       "<Figure size 432x288 with 1 Axes>"
      ]
     },
     "metadata": {},
     "output_type": "display_data"
    }
   ],
   "source": [
    "from matplotlib_venn import venn2\n",
    "\n",
    "venn2([set(religion_cv_text_50.index), set(cults_cv_text_50.index)], set_labels = ('r/religion','r/cults'))\n",
    "plt.title('top 50 words in text', fontsize=14)\n",
    "plt.tight_layout()"
   ]
  },
  {
   "cell_type": "markdown",
   "id": "challenging-monday",
   "metadata": {},
   "source": [
    "#### I'm also curious about extracting keywords, and key part-of-speech analysis, and possible sentiment. \n",
    "My goal in the below is to:\n",
    "1) Idenify the top 100 keywords into a vocabulary \n",
    "\n",
    "2) Investigate any trends with part-of-speech \n",
    "\n",
    "3) create sentiment analysis \n"
   ]
  },
  {
   "cell_type": "markdown",
   "id": "bibliographic-preservation",
   "metadata": {},
   "source": [
    "## Identifying KeyWords:"
   ]
  },
  {
   "cell_type": "code",
   "execution_count": 538,
   "id": "exact-comfort",
   "metadata": {},
   "outputs": [],
   "source": [
    "#create a vocabulary of words, \n",
    "#ignore words that appear in 85% of documents, \n",
    "#eliminate stop words\n",
    "cv=CountVectorizer(max_df=0.85,stop_words=['religion','religious','religions','cult','cults'],max_features=1000)\n",
    "vocab_vector=cv.fit_transform(df['cleanText'])"
   ]
  },
  {
   "cell_type": "code",
   "execution_count": 536,
   "id": "underlying-temperature",
   "metadata": {},
   "outputs": [],
   "source": [
    "vocab_df = pd.DataFrame(vocab_vector.todense(), columns=cv.get_feature_names())\n",
    "vocab_df = pd.concat([vocab_df, df['subreddit']], axis=1)"
   ]
  },
  {
   "cell_type": "code",
   "execution_count": 537,
   "id": "senior-shame",
   "metadata": {},
   "outputs": [
    {
     "ename": "KeyboardInterrupt",
     "evalue": "",
     "output_type": "error",
     "traceback": [
      "\u001b[0;31m---------------------------------------------------------------------------\u001b[0m",
      "\u001b[0;31mKeyboardInterrupt\u001b[0m                         Traceback (most recent call last)",
      "\u001b[0;32m<ipython-input-537-5861cdfc1418>\u001b[0m in \u001b[0;36m<module>\u001b[0;34m\u001b[0m\n\u001b[0;32m----> 1\u001b[0;31m \u001b[0mvocab_df_cult\u001b[0m \u001b[0;34m=\u001b[0m \u001b[0mvocab_df\u001b[0m\u001b[0;34m[\u001b[0m\u001b[0mvocab_df\u001b[0m\u001b[0;34m[\u001b[0m\u001b[0;34m'subreddit'\u001b[0m\u001b[0;34m]\u001b[0m\u001b[0;34m==\u001b[0m \u001b[0;34m'cults'\u001b[0m\u001b[0;34m]\u001b[0m\u001b[0;34m\u001b[0m\u001b[0;34m\u001b[0m\u001b[0m\n\u001b[0m\u001b[1;32m      2\u001b[0m \u001b[0mvocab_df_cult\u001b[0m \u001b[0;34m=\u001b[0m \u001b[0mvocab_df_cult\u001b[0m\u001b[0;34m.\u001b[0m\u001b[0mdrop\u001b[0m\u001b[0;34m(\u001b[0m\u001b[0;34m[\u001b[0m\u001b[0;34m'subreddit'\u001b[0m\u001b[0;34m]\u001b[0m\u001b[0;34m,\u001b[0m \u001b[0maxis\u001b[0m\u001b[0;34m=\u001b[0m\u001b[0;36m1\u001b[0m\u001b[0;34m)\u001b[0m\u001b[0;34m\u001b[0m\u001b[0;34m\u001b[0m\u001b[0m\n",
      "\u001b[0;32m/opt/anaconda3/envs/dsi/lib/python3.8/site-packages/pandas/core/frame.py\u001b[0m in \u001b[0;36m__getitem__\u001b[0;34m(self, key)\u001b[0m\n\u001b[1;32m   3009\u001b[0m         \u001b[0;31m# Do we have a (boolean) DataFrame?\u001b[0m\u001b[0;34m\u001b[0m\u001b[0;34m\u001b[0m\u001b[0;34m\u001b[0m\u001b[0m\n\u001b[1;32m   3010\u001b[0m         \u001b[0;32mif\u001b[0m \u001b[0misinstance\u001b[0m\u001b[0;34m(\u001b[0m\u001b[0mkey\u001b[0m\u001b[0;34m,\u001b[0m \u001b[0mDataFrame\u001b[0m\u001b[0;34m)\u001b[0m\u001b[0;34m:\u001b[0m\u001b[0;34m\u001b[0m\u001b[0;34m\u001b[0m\u001b[0m\n\u001b[0;32m-> 3011\u001b[0;31m             \u001b[0;32mreturn\u001b[0m \u001b[0mself\u001b[0m\u001b[0;34m.\u001b[0m\u001b[0mwhere\u001b[0m\u001b[0;34m(\u001b[0m\u001b[0mkey\u001b[0m\u001b[0;34m)\u001b[0m\u001b[0;34m\u001b[0m\u001b[0;34m\u001b[0m\u001b[0m\n\u001b[0m\u001b[1;32m   3012\u001b[0m \u001b[0;34m\u001b[0m\u001b[0m\n\u001b[1;32m   3013\u001b[0m         \u001b[0;31m# Do we have a (boolean) 1d indexer?\u001b[0m\u001b[0;34m\u001b[0m\u001b[0;34m\u001b[0m\u001b[0;34m\u001b[0m\u001b[0m\n",
      "\u001b[0;32m/opt/anaconda3/envs/dsi/lib/python3.8/site-packages/pandas/core/generic.py\u001b[0m in \u001b[0;36mwhere\u001b[0;34m(self, cond, other, inplace, axis, level, errors, try_cast)\u001b[0m\n\u001b[1;32m   9279\u001b[0m         \"\"\"\n\u001b[1;32m   9280\u001b[0m         \u001b[0mother\u001b[0m \u001b[0;34m=\u001b[0m \u001b[0mcom\u001b[0m\u001b[0;34m.\u001b[0m\u001b[0mapply_if_callable\u001b[0m\u001b[0;34m(\u001b[0m\u001b[0mother\u001b[0m\u001b[0;34m,\u001b[0m \u001b[0mself\u001b[0m\u001b[0;34m)\u001b[0m\u001b[0;34m\u001b[0m\u001b[0;34m\u001b[0m\u001b[0m\n\u001b[0;32m-> 9281\u001b[0;31m         return self._where(\n\u001b[0m\u001b[1;32m   9282\u001b[0m             \u001b[0mcond\u001b[0m\u001b[0;34m,\u001b[0m \u001b[0mother\u001b[0m\u001b[0;34m,\u001b[0m \u001b[0minplace\u001b[0m\u001b[0;34m,\u001b[0m \u001b[0maxis\u001b[0m\u001b[0;34m,\u001b[0m \u001b[0mlevel\u001b[0m\u001b[0;34m,\u001b[0m \u001b[0merrors\u001b[0m\u001b[0;34m=\u001b[0m\u001b[0merrors\u001b[0m\u001b[0;34m,\u001b[0m \u001b[0mtry_cast\u001b[0m\u001b[0;34m=\u001b[0m\u001b[0mtry_cast\u001b[0m\u001b[0;34m\u001b[0m\u001b[0;34m\u001b[0m\u001b[0m\n\u001b[1;32m   9283\u001b[0m         )\n",
      "\u001b[0;32m/opt/anaconda3/envs/dsi/lib/python3.8/site-packages/pandas/core/generic.py\u001b[0m in \u001b[0;36m_where\u001b[0;34m(self, cond, other, inplace, axis, level, errors, try_cast)\u001b[0m\n\u001b[1;32m   9024\u001b[0m         \u001b[0;31m# make sure we are boolean\u001b[0m\u001b[0;34m\u001b[0m\u001b[0;34m\u001b[0m\u001b[0;34m\u001b[0m\u001b[0m\n\u001b[1;32m   9025\u001b[0m         \u001b[0mfill_value\u001b[0m \u001b[0;34m=\u001b[0m \u001b[0mbool\u001b[0m\u001b[0;34m(\u001b[0m\u001b[0minplace\u001b[0m\u001b[0;34m)\u001b[0m\u001b[0;34m\u001b[0m\u001b[0;34m\u001b[0m\u001b[0m\n\u001b[0;32m-> 9026\u001b[0;31m         \u001b[0mcond\u001b[0m \u001b[0;34m=\u001b[0m \u001b[0mcond\u001b[0m\u001b[0;34m.\u001b[0m\u001b[0mfillna\u001b[0m\u001b[0;34m(\u001b[0m\u001b[0mfill_value\u001b[0m\u001b[0;34m)\u001b[0m\u001b[0;34m\u001b[0m\u001b[0;34m\u001b[0m\u001b[0m\n\u001b[0m\u001b[1;32m   9027\u001b[0m \u001b[0;34m\u001b[0m\u001b[0m\n\u001b[1;32m   9028\u001b[0m         \u001b[0mmsg\u001b[0m \u001b[0;34m=\u001b[0m \u001b[0;34m\"Boolean array expected for the condition, not {dtype}\"\u001b[0m\u001b[0;34m\u001b[0m\u001b[0;34m\u001b[0m\u001b[0m\n",
      "\u001b[0;32m/opt/anaconda3/envs/dsi/lib/python3.8/site-packages/pandas/core/frame.py\u001b[0m in \u001b[0;36mfillna\u001b[0;34m(self, value, method, axis, inplace, limit, downcast)\u001b[0m\n\u001b[1;32m   4457\u001b[0m         \u001b[0mdowncast\u001b[0m\u001b[0;34m=\u001b[0m\u001b[0;32mNone\u001b[0m\u001b[0;34m,\u001b[0m\u001b[0;34m\u001b[0m\u001b[0;34m\u001b[0m\u001b[0m\n\u001b[1;32m   4458\u001b[0m     ) -> Optional[DataFrame]:\n\u001b[0;32m-> 4459\u001b[0;31m         return super().fillna(\n\u001b[0m\u001b[1;32m   4460\u001b[0m             \u001b[0mvalue\u001b[0m\u001b[0;34m=\u001b[0m\u001b[0mvalue\u001b[0m\u001b[0;34m,\u001b[0m\u001b[0;34m\u001b[0m\u001b[0;34m\u001b[0m\u001b[0m\n\u001b[1;32m   4461\u001b[0m             \u001b[0mmethod\u001b[0m\u001b[0;34m=\u001b[0m\u001b[0mmethod\u001b[0m\u001b[0;34m,\u001b[0m\u001b[0;34m\u001b[0m\u001b[0;34m\u001b[0m\u001b[0m\n",
      "\u001b[0;32m/opt/anaconda3/envs/dsi/lib/python3.8/site-packages/pandas/core/generic.py\u001b[0m in \u001b[0;36mfillna\u001b[0;34m(self, value, method, axis, inplace, limit, downcast)\u001b[0m\n\u001b[1;32m   6424\u001b[0m \u001b[0;34m\u001b[0m\u001b[0m\n\u001b[1;32m   6425\u001b[0m             \u001b[0;32melif\u001b[0m \u001b[0;32mnot\u001b[0m \u001b[0mis_list_like\u001b[0m\u001b[0;34m(\u001b[0m\u001b[0mvalue\u001b[0m\u001b[0;34m)\u001b[0m\u001b[0;34m:\u001b[0m\u001b[0;34m\u001b[0m\u001b[0;34m\u001b[0m\u001b[0m\n\u001b[0;32m-> 6426\u001b[0;31m                 new_data = self._mgr.fillna(\n\u001b[0m\u001b[1;32m   6427\u001b[0m                     \u001b[0mvalue\u001b[0m\u001b[0;34m=\u001b[0m\u001b[0mvalue\u001b[0m\u001b[0;34m,\u001b[0m \u001b[0mlimit\u001b[0m\u001b[0;34m=\u001b[0m\u001b[0mlimit\u001b[0m\u001b[0;34m,\u001b[0m \u001b[0minplace\u001b[0m\u001b[0;34m=\u001b[0m\u001b[0minplace\u001b[0m\u001b[0;34m,\u001b[0m \u001b[0mdowncast\u001b[0m\u001b[0;34m=\u001b[0m\u001b[0mdowncast\u001b[0m\u001b[0;34m\u001b[0m\u001b[0;34m\u001b[0m\u001b[0m\n\u001b[1;32m   6428\u001b[0m                 )\n",
      "\u001b[0;32m/opt/anaconda3/envs/dsi/lib/python3.8/site-packages/pandas/core/internals/managers.py\u001b[0m in \u001b[0;36mfillna\u001b[0;34m(self, value, limit, inplace, downcast)\u001b[0m\n\u001b[1;32m    619\u001b[0m \u001b[0;34m\u001b[0m\u001b[0m\n\u001b[1;32m    620\u001b[0m     \u001b[0;32mdef\u001b[0m \u001b[0mfillna\u001b[0m\u001b[0;34m(\u001b[0m\u001b[0mself\u001b[0m\u001b[0;34m,\u001b[0m \u001b[0mvalue\u001b[0m\u001b[0;34m,\u001b[0m \u001b[0mlimit\u001b[0m\u001b[0;34m,\u001b[0m \u001b[0minplace\u001b[0m\u001b[0;34m:\u001b[0m \u001b[0mbool\u001b[0m\u001b[0;34m,\u001b[0m \u001b[0mdowncast\u001b[0m\u001b[0;34m)\u001b[0m \u001b[0;34m->\u001b[0m \u001b[0;34m\"BlockManager\"\u001b[0m\u001b[0;34m:\u001b[0m\u001b[0;34m\u001b[0m\u001b[0;34m\u001b[0m\u001b[0m\n\u001b[0;32m--> 621\u001b[0;31m         return self.apply(\n\u001b[0m\u001b[1;32m    622\u001b[0m             \u001b[0;34m\"fillna\"\u001b[0m\u001b[0;34m,\u001b[0m \u001b[0mvalue\u001b[0m\u001b[0;34m=\u001b[0m\u001b[0mvalue\u001b[0m\u001b[0;34m,\u001b[0m \u001b[0mlimit\u001b[0m\u001b[0;34m=\u001b[0m\u001b[0mlimit\u001b[0m\u001b[0;34m,\u001b[0m \u001b[0minplace\u001b[0m\u001b[0;34m=\u001b[0m\u001b[0minplace\u001b[0m\u001b[0;34m,\u001b[0m \u001b[0mdowncast\u001b[0m\u001b[0;34m=\u001b[0m\u001b[0mdowncast\u001b[0m\u001b[0;34m\u001b[0m\u001b[0;34m\u001b[0m\u001b[0m\n\u001b[1;32m    623\u001b[0m         )\n",
      "\u001b[0;32m/opt/anaconda3/envs/dsi/lib/python3.8/site-packages/pandas/core/internals/managers.py\u001b[0m in \u001b[0;36mapply\u001b[0;34m(self, f, align_keys, ignore_failures, **kwargs)\u001b[0m\n\u001b[1;32m    425\u001b[0m                     \u001b[0mapplied\u001b[0m \u001b[0;34m=\u001b[0m \u001b[0mb\u001b[0m\u001b[0;34m.\u001b[0m\u001b[0mapply\u001b[0m\u001b[0;34m(\u001b[0m\u001b[0mf\u001b[0m\u001b[0;34m,\u001b[0m \u001b[0;34m**\u001b[0m\u001b[0mkwargs\u001b[0m\u001b[0;34m)\u001b[0m\u001b[0;34m\u001b[0m\u001b[0;34m\u001b[0m\u001b[0m\n\u001b[1;32m    426\u001b[0m                 \u001b[0;32melse\u001b[0m\u001b[0;34m:\u001b[0m\u001b[0;34m\u001b[0m\u001b[0;34m\u001b[0m\u001b[0m\n\u001b[0;32m--> 427\u001b[0;31m                     \u001b[0mapplied\u001b[0m \u001b[0;34m=\u001b[0m \u001b[0mgetattr\u001b[0m\u001b[0;34m(\u001b[0m\u001b[0mb\u001b[0m\u001b[0;34m,\u001b[0m \u001b[0mf\u001b[0m\u001b[0;34m)\u001b[0m\u001b[0;34m(\u001b[0m\u001b[0;34m**\u001b[0m\u001b[0mkwargs\u001b[0m\u001b[0;34m)\u001b[0m\u001b[0;34m\u001b[0m\u001b[0;34m\u001b[0m\u001b[0m\n\u001b[0m\u001b[1;32m    428\u001b[0m             \u001b[0;32mexcept\u001b[0m \u001b[0;34m(\u001b[0m\u001b[0mTypeError\u001b[0m\u001b[0;34m,\u001b[0m \u001b[0mNotImplementedError\u001b[0m\u001b[0;34m)\u001b[0m\u001b[0;34m:\u001b[0m\u001b[0;34m\u001b[0m\u001b[0;34m\u001b[0m\u001b[0m\n\u001b[1;32m    429\u001b[0m                 \u001b[0;32mif\u001b[0m \u001b[0;32mnot\u001b[0m \u001b[0mignore_failures\u001b[0m\u001b[0;34m:\u001b[0m\u001b[0;34m\u001b[0m\u001b[0;34m\u001b[0m\u001b[0m\n",
      "\u001b[0;32m/opt/anaconda3/envs/dsi/lib/python3.8/site-packages/pandas/core/internals/blocks.py\u001b[0m in \u001b[0;36mfillna\u001b[0;34m(self, value, limit, inplace, downcast)\u001b[0m\n\u001b[1;32m    459\u001b[0m             \u001b[0;32mreturn\u001b[0m \u001b[0mblock\u001b[0m\u001b[0;34m.\u001b[0m\u001b[0mfillna\u001b[0m\u001b[0;34m(\u001b[0m\u001b[0mvalue\u001b[0m\u001b[0;34m,\u001b[0m \u001b[0mlimit\u001b[0m\u001b[0;34m=\u001b[0m\u001b[0mlimit\u001b[0m\u001b[0;34m,\u001b[0m \u001b[0minplace\u001b[0m\u001b[0;34m=\u001b[0m\u001b[0minplace\u001b[0m\u001b[0;34m,\u001b[0m \u001b[0mdowncast\u001b[0m\u001b[0;34m=\u001b[0m\u001b[0;32mNone\u001b[0m\u001b[0;34m)\u001b[0m\u001b[0;34m\u001b[0m\u001b[0;34m\u001b[0m\u001b[0m\n\u001b[1;32m    460\u001b[0m \u001b[0;34m\u001b[0m\u001b[0m\n\u001b[0;32m--> 461\u001b[0;31m         \u001b[0;32mreturn\u001b[0m \u001b[0mself\u001b[0m\u001b[0;34m.\u001b[0m\u001b[0msplit_and_operate\u001b[0m\u001b[0;34m(\u001b[0m\u001b[0;32mNone\u001b[0m\u001b[0;34m,\u001b[0m \u001b[0mf\u001b[0m\u001b[0;34m,\u001b[0m \u001b[0minplace\u001b[0m\u001b[0;34m)\u001b[0m\u001b[0;34m\u001b[0m\u001b[0;34m\u001b[0m\u001b[0m\n\u001b[0m\u001b[1;32m    462\u001b[0m \u001b[0;34m\u001b[0m\u001b[0m\n\u001b[1;32m    463\u001b[0m     \u001b[0;32mdef\u001b[0m \u001b[0m_split\u001b[0m\u001b[0;34m(\u001b[0m\u001b[0mself\u001b[0m\u001b[0;34m)\u001b[0m \u001b[0;34m->\u001b[0m \u001b[0mList\u001b[0m\u001b[0;34m[\u001b[0m\u001b[0;34m\"Block\"\u001b[0m\u001b[0;34m]\u001b[0m\u001b[0;34m:\u001b[0m\u001b[0;34m\u001b[0m\u001b[0;34m\u001b[0m\u001b[0m\n",
      "\u001b[0;32m/opt/anaconda3/envs/dsi/lib/python3.8/site-packages/pandas/core/internals/blocks.py\u001b[0m in \u001b[0;36msplit_and_operate\u001b[0;34m(self, mask, f, inplace, ignore_failures)\u001b[0m\n\u001b[1;32m    531\u001b[0m                 \u001b[0;31m#  reduction that is dropping nuisance columns GH#37827\u001b[0m\u001b[0;34m\u001b[0m\u001b[0;34m\u001b[0m\u001b[0;34m\u001b[0m\u001b[0m\n\u001b[1;32m    532\u001b[0m                 \u001b[0;32mtry\u001b[0m\u001b[0;34m:\u001b[0m\u001b[0;34m\u001b[0m\u001b[0;34m\u001b[0m\u001b[0m\n\u001b[0;32m--> 533\u001b[0;31m                     \u001b[0mnv\u001b[0m \u001b[0;34m=\u001b[0m \u001b[0mf\u001b[0m\u001b[0;34m(\u001b[0m\u001b[0mm\u001b[0m\u001b[0;34m,\u001b[0m \u001b[0mv\u001b[0m\u001b[0;34m,\u001b[0m \u001b[0mi\u001b[0m\u001b[0;34m)\u001b[0m\u001b[0;34m\u001b[0m\u001b[0;34m\u001b[0m\u001b[0m\n\u001b[0m\u001b[1;32m    534\u001b[0m                 \u001b[0;32mexcept\u001b[0m \u001b[0mTypeError\u001b[0m\u001b[0;34m:\u001b[0m\u001b[0;34m\u001b[0m\u001b[0;34m\u001b[0m\u001b[0m\n\u001b[1;32m    535\u001b[0m                     \u001b[0;32mif\u001b[0m \u001b[0mignore_failures\u001b[0m\u001b[0;34m:\u001b[0m\u001b[0;34m\u001b[0m\u001b[0;34m\u001b[0m\u001b[0m\n",
      "\u001b[0;32m/opt/anaconda3/envs/dsi/lib/python3.8/site-packages/pandas/core/internals/blocks.py\u001b[0m in \u001b[0;36mf\u001b[0;34m(mask, val, idx)\u001b[0m\n\u001b[1;32m    451\u001b[0m         \u001b[0;31m# operate column-by-column\u001b[0m\u001b[0;34m\u001b[0m\u001b[0;34m\u001b[0m\u001b[0;34m\u001b[0m\u001b[0m\n\u001b[1;32m    452\u001b[0m         \u001b[0;32mdef\u001b[0m \u001b[0mf\u001b[0m\u001b[0;34m(\u001b[0m\u001b[0mmask\u001b[0m\u001b[0;34m,\u001b[0m \u001b[0mval\u001b[0m\u001b[0;34m,\u001b[0m \u001b[0midx\u001b[0m\u001b[0;34m)\u001b[0m\u001b[0;34m:\u001b[0m\u001b[0;34m\u001b[0m\u001b[0;34m\u001b[0m\u001b[0m\n\u001b[0;32m--> 453\u001b[0;31m             \u001b[0mblock\u001b[0m \u001b[0;34m=\u001b[0m \u001b[0mself\u001b[0m\u001b[0;34m.\u001b[0m\u001b[0mcoerce_to_target_dtype\u001b[0m\u001b[0;34m(\u001b[0m\u001b[0mvalue\u001b[0m\u001b[0;34m)\u001b[0m\u001b[0;34m\u001b[0m\u001b[0;34m\u001b[0m\u001b[0m\n\u001b[0m\u001b[1;32m    454\u001b[0m \u001b[0;34m\u001b[0m\u001b[0m\n\u001b[1;32m    455\u001b[0m             \u001b[0;31m# slice out our block\u001b[0m\u001b[0;34m\u001b[0m\u001b[0;34m\u001b[0m\u001b[0;34m\u001b[0m\u001b[0m\n",
      "\u001b[0;32m/opt/anaconda3/envs/dsi/lib/python3.8/site-packages/pandas/core/internals/blocks.py\u001b[0m in \u001b[0;36mcoerce_to_target_dtype\u001b[0;34m(self, other)\u001b[0m\n\u001b[1;32m   1202\u001b[0m         \u001b[0;32mif\u001b[0m \u001b[0mself\u001b[0m\u001b[0;34m.\u001b[0m\u001b[0mis_bool\u001b[0m \u001b[0;32mor\u001b[0m \u001b[0mis_object_dtype\u001b[0m\u001b[0;34m(\u001b[0m\u001b[0mdtype\u001b[0m\u001b[0;34m)\u001b[0m \u001b[0;32mor\u001b[0m \u001b[0mis_bool_dtype\u001b[0m\u001b[0;34m(\u001b[0m\u001b[0mdtype\u001b[0m\u001b[0;34m)\u001b[0m\u001b[0;34m:\u001b[0m\u001b[0;34m\u001b[0m\u001b[0;34m\u001b[0m\u001b[0m\n\u001b[1;32m   1203\u001b[0m             \u001b[0;31m# we don't upcast to bool\u001b[0m\u001b[0;34m\u001b[0m\u001b[0;34m\u001b[0m\u001b[0;34m\u001b[0m\u001b[0m\n\u001b[0;32m-> 1204\u001b[0;31m             \u001b[0;32mreturn\u001b[0m \u001b[0mself\u001b[0m\u001b[0;34m.\u001b[0m\u001b[0mastype\u001b[0m\u001b[0;34m(\u001b[0m\u001b[0mobject\u001b[0m\u001b[0;34m)\u001b[0m\u001b[0;34m\u001b[0m\u001b[0;34m\u001b[0m\u001b[0m\n\u001b[0m\u001b[1;32m   1205\u001b[0m \u001b[0;34m\u001b[0m\u001b[0m\n\u001b[1;32m   1206\u001b[0m         elif (self.is_float or self.is_complex) and (\n",
      "\u001b[0;32m/opt/anaconda3/envs/dsi/lib/python3.8/site-packages/pandas/core/internals/blocks.py\u001b[0m in \u001b[0;36mastype\u001b[0;34m(self, dtype, copy, errors)\u001b[0m\n\u001b[1;32m    666\u001b[0m \u001b[0;34m\u001b[0m\u001b[0m\n\u001b[1;32m    667\u001b[0m             \u001b[0;32melse\u001b[0m\u001b[0;34m:\u001b[0m\u001b[0;34m\u001b[0m\u001b[0;34m\u001b[0m\u001b[0m\n\u001b[0;32m--> 668\u001b[0;31m                 \u001b[0mvalues\u001b[0m \u001b[0;34m=\u001b[0m \u001b[0mself\u001b[0m\u001b[0;34m.\u001b[0m\u001b[0mget_values\u001b[0m\u001b[0;34m(\u001b[0m\u001b[0mdtype\u001b[0m\u001b[0;34m=\u001b[0m\u001b[0mdtype\u001b[0m\u001b[0;34m)\u001b[0m\u001b[0;34m\u001b[0m\u001b[0;34m\u001b[0m\u001b[0m\n\u001b[0m\u001b[1;32m    669\u001b[0m \u001b[0;34m\u001b[0m\u001b[0m\n\u001b[1;32m    670\u001b[0m             \u001b[0;31m# _astype_nansafe works fine with 1-d only\u001b[0m\u001b[0;34m\u001b[0m\u001b[0;34m\u001b[0m\u001b[0;34m\u001b[0m\u001b[0m\n",
      "\u001b[0;32m/opt/anaconda3/envs/dsi/lib/python3.8/site-packages/pandas/core/internals/blocks.py\u001b[0m in \u001b[0;36mget_values\u001b[0;34m(self, dtype)\u001b[0m\n\u001b[1;32m    249\u001b[0m         \"\"\"\n\u001b[1;32m    250\u001b[0m         \u001b[0;32mif\u001b[0m \u001b[0mis_object_dtype\u001b[0m\u001b[0;34m(\u001b[0m\u001b[0mdtype\u001b[0m\u001b[0;34m)\u001b[0m\u001b[0;34m:\u001b[0m\u001b[0;34m\u001b[0m\u001b[0;34m\u001b[0m\u001b[0m\n\u001b[0;32m--> 251\u001b[0;31m             \u001b[0;32mreturn\u001b[0m \u001b[0mself\u001b[0m\u001b[0;34m.\u001b[0m\u001b[0mvalues\u001b[0m\u001b[0;34m.\u001b[0m\u001b[0mastype\u001b[0m\u001b[0;34m(\u001b[0m\u001b[0mobject\u001b[0m\u001b[0;34m)\u001b[0m\u001b[0;34m\u001b[0m\u001b[0;34m\u001b[0m\u001b[0m\n\u001b[0m\u001b[1;32m    252\u001b[0m         \u001b[0;32mreturn\u001b[0m \u001b[0mself\u001b[0m\u001b[0;34m.\u001b[0m\u001b[0mvalues\u001b[0m\u001b[0;34m\u001b[0m\u001b[0;34m\u001b[0m\u001b[0m\n\u001b[1;32m    253\u001b[0m \u001b[0;34m\u001b[0m\u001b[0m\n",
      "\u001b[0;31mKeyboardInterrupt\u001b[0m: "
     ]
    }
   ],
   "source": [
    "vocab_df_cult = vocab_df[vocab_df['subreddit']== 'cults']\n",
    "vocab_df_cult = vocab_df_cult.drop(['subreddit'], axis=1)"
   ]
  },
  {
   "cell_type": "code",
   "execution_count": 527,
   "id": "rolled-framework",
   "metadata": {},
   "outputs": [
    {
     "data": {
      "text/plain": [
       "like      920\n",
       "people    918\n",
       "would     695\n",
       "one       678\n",
       "know      606\n",
       "dtype: int64"
      ]
     },
     "execution_count": 527,
     "metadata": {},
     "output_type": "execute_result"
    }
   ],
   "source": [
    "vocab_df_cult.sum().sort_values(ascending=False).head(5)"
   ]
  },
  {
   "cell_type": "markdown",
   "id": "biblical-branch",
   "metadata": {},
   "source": [
    "## VOCAB"
   ]
  },
  {
   "cell_type": "code",
   "execution_count": 555,
   "id": "global-meditation",
   "metadata": {},
   "outputs": [
    {
     "data": {
      "text/plain": [
       "TfidfTransformer()"
      ]
     },
     "execution_count": 555,
     "metadata": {},
     "output_type": "execute_result"
    }
   ],
   "source": [
    "tfidf_transformer=TfidfTransformer(smooth_idf=True,use_idf=True) \n",
    "tfidf_transformer.fit(vocab_vector)"
   ]
  },
  {
   "cell_type": "code",
   "execution_count": 558,
   "id": "signed-eight",
   "metadata": {},
   "outputs": [
    {
     "data": {
      "text/html": [
       "<div>\n",
       "<style scoped>\n",
       "    .dataframe tbody tr th:only-of-type {\n",
       "        vertical-align: middle;\n",
       "    }\n",
       "\n",
       "    .dataframe tbody tr th {\n",
       "        vertical-align: top;\n",
       "    }\n",
       "\n",
       "    .dataframe thead th {\n",
       "        text-align: right;\n",
       "    }\n",
       "</style>\n",
       "<table border=\"1\" class=\"dataframe\">\n",
       "  <thead>\n",
       "    <tr style=\"text-align: right;\">\n",
       "      <th></th>\n",
       "      <th>idf_weights</th>\n",
       "    </tr>\n",
       "  </thead>\n",
       "  <tbody>\n",
       "    <tr>\n",
       "      <th>rof</th>\n",
       "      <td>8.696440</td>\n",
       "    </tr>\n",
       "    <tr>\n",
       "      <th>mer</th>\n",
       "      <td>8.696440</td>\n",
       "    </tr>\n",
       "    <tr>\n",
       "      <th>nonexistence</th>\n",
       "      <td>7.443677</td>\n",
       "    </tr>\n",
       "    <tr>\n",
       "      <th>ikeda</th>\n",
       "      <td>7.443677</td>\n",
       "    </tr>\n",
       "    <tr>\n",
       "      <th>nichiren</th>\n",
       "      <td>7.443677</td>\n",
       "    </tr>\n",
       "    <tr>\n",
       "      <th>...</th>\n",
       "      <td>...</td>\n",
       "    </tr>\n",
       "    <tr>\n",
       "      <th>god</th>\n",
       "      <td>2.994325</td>\n",
       "    </tr>\n",
       "    <tr>\n",
       "      <th>one</th>\n",
       "      <td>2.953437</td>\n",
       "    </tr>\n",
       "    <tr>\n",
       "      <th>know</th>\n",
       "      <td>2.883803</td>\n",
       "    </tr>\n",
       "    <tr>\n",
       "      <th>people</th>\n",
       "      <td>2.811726</td>\n",
       "    </tr>\n",
       "    <tr>\n",
       "      <th>like</th>\n",
       "      <td>2.753641</td>\n",
       "    </tr>\n",
       "  </tbody>\n",
       "</table>\n",
       "<p>1000 rows × 1 columns</p>\n",
       "</div>"
      ],
      "text/plain": [
       "              idf_weights\n",
       "rof              8.696440\n",
       "mer              8.696440\n",
       "nonexistence     7.443677\n",
       "ikeda            7.443677\n",
       "nichiren         7.443677\n",
       "...                   ...\n",
       "god              2.994325\n",
       "one              2.953437\n",
       "know             2.883803\n",
       "people           2.811726\n",
       "like             2.753641\n",
       "\n",
       "[1000 rows x 1 columns]"
      ]
     },
     "execution_count": 558,
     "metadata": {},
     "output_type": "execute_result"
    }
   ],
   "source": [
    "# print idf values \n",
    "df_idf = pd.DataFrame(tfidf_transformer.idf_, index=cv.get_feature_names(),columns=[\"idf_weights\"]) \n",
    " \n",
    "# sort ascending \n",
    "df_idf.sort_values(by=['idf_weights'], ascending=False)"
   ]
  },
  {
   "cell_type": "code",
   "execution_count": 559,
   "id": "exempt-timothy",
   "metadata": {},
   "outputs": [],
   "source": [
    "# count matrix \n",
    "count_vector=cv.transform(df['cleanText']) \n",
    " \n",
    "# tf-idf scores \n",
    "tf_idf_vector=tfidf_transformer.transform(count_vector)"
   ]
  },
  {
   "cell_type": "code",
   "execution_count": 563,
   "id": "julian-perth",
   "metadata": {},
   "outputs": [
    {
     "ename": "ValueError",
     "evalue": "Shape of passed values is (1000, 4400), indices imply (1000, 1)",
     "output_type": "error",
     "traceback": [
      "\u001b[0;31m---------------------------------------------------------------------------\u001b[0m",
      "\u001b[0;31mValueError\u001b[0m                                Traceback (most recent call last)",
      "\u001b[0;32m/opt/anaconda3/envs/dsi/lib/python3.8/site-packages/pandas/core/internals/managers.py\u001b[0m in \u001b[0;36mcreate_block_manager_from_blocks\u001b[0;34m(blocks, axes)\u001b[0m\n\u001b[1;32m   1674\u001b[0m                 blocks = [\n\u001b[0;32m-> 1675\u001b[0;31m                     make_block(\n\u001b[0m\u001b[1;32m   1676\u001b[0m                         \u001b[0mvalues\u001b[0m\u001b[0;34m=\u001b[0m\u001b[0mblocks\u001b[0m\u001b[0;34m[\u001b[0m\u001b[0;36m0\u001b[0m\u001b[0;34m]\u001b[0m\u001b[0;34m,\u001b[0m \u001b[0mplacement\u001b[0m\u001b[0;34m=\u001b[0m\u001b[0mslice\u001b[0m\u001b[0;34m(\u001b[0m\u001b[0;36m0\u001b[0m\u001b[0;34m,\u001b[0m \u001b[0mlen\u001b[0m\u001b[0;34m(\u001b[0m\u001b[0maxes\u001b[0m\u001b[0;34m[\u001b[0m\u001b[0;36m0\u001b[0m\u001b[0;34m]\u001b[0m\u001b[0;34m)\u001b[0m\u001b[0;34m)\u001b[0m\u001b[0;34m,\u001b[0m \u001b[0mndim\u001b[0m\u001b[0;34m=\u001b[0m\u001b[0;36m2\u001b[0m\u001b[0;34m\u001b[0m\u001b[0;34m\u001b[0m\u001b[0m\n",
      "\u001b[0;32m/opt/anaconda3/envs/dsi/lib/python3.8/site-packages/pandas/core/internals/blocks.py\u001b[0m in \u001b[0;36mmake_block\u001b[0;34m(values, placement, klass, ndim, dtype)\u001b[0m\n\u001b[1;32m   2731\u001b[0m \u001b[0;34m\u001b[0m\u001b[0m\n\u001b[0;32m-> 2732\u001b[0;31m     \u001b[0;32mreturn\u001b[0m \u001b[0mklass\u001b[0m\u001b[0;34m(\u001b[0m\u001b[0mvalues\u001b[0m\u001b[0;34m,\u001b[0m \u001b[0mndim\u001b[0m\u001b[0;34m=\u001b[0m\u001b[0mndim\u001b[0m\u001b[0;34m,\u001b[0m \u001b[0mplacement\u001b[0m\u001b[0;34m=\u001b[0m\u001b[0mplacement\u001b[0m\u001b[0;34m)\u001b[0m\u001b[0;34m\u001b[0m\u001b[0;34m\u001b[0m\u001b[0m\n\u001b[0m\u001b[1;32m   2733\u001b[0m \u001b[0;34m\u001b[0m\u001b[0m\n",
      "\u001b[0;32m/opt/anaconda3/envs/dsi/lib/python3.8/site-packages/pandas/core/internals/blocks.py\u001b[0m in \u001b[0;36m__init__\u001b[0;34m(self, values, placement, ndim)\u001b[0m\n\u001b[1;32m    141\u001b[0m         \u001b[0;32mif\u001b[0m \u001b[0mself\u001b[0m\u001b[0;34m.\u001b[0m\u001b[0m_validate_ndim\u001b[0m \u001b[0;32mand\u001b[0m \u001b[0mself\u001b[0m\u001b[0;34m.\u001b[0m\u001b[0mndim\u001b[0m \u001b[0;32mand\u001b[0m \u001b[0mlen\u001b[0m\u001b[0;34m(\u001b[0m\u001b[0mself\u001b[0m\u001b[0;34m.\u001b[0m\u001b[0mmgr_locs\u001b[0m\u001b[0;34m)\u001b[0m \u001b[0;34m!=\u001b[0m \u001b[0mlen\u001b[0m\u001b[0;34m(\u001b[0m\u001b[0mself\u001b[0m\u001b[0;34m.\u001b[0m\u001b[0mvalues\u001b[0m\u001b[0;34m)\u001b[0m\u001b[0;34m:\u001b[0m\u001b[0;34m\u001b[0m\u001b[0;34m\u001b[0m\u001b[0m\n\u001b[0;32m--> 142\u001b[0;31m             raise ValueError(\n\u001b[0m\u001b[1;32m    143\u001b[0m                 \u001b[0;34mf\"Wrong number of items passed {len(self.values)}, \"\u001b[0m\u001b[0;34m\u001b[0m\u001b[0;34m\u001b[0m\u001b[0m\n",
      "\u001b[0;31mValueError\u001b[0m: Wrong number of items passed 4400, placement implies 1",
      "\nDuring handling of the above exception, another exception occurred:\n",
      "\u001b[0;31mValueError\u001b[0m                                Traceback (most recent call last)",
      "\u001b[0;32m<ipython-input-563-dbbf4dad3f1d>\u001b[0m in \u001b[0;36m<module>\u001b[0;34m\u001b[0m\n\u001b[1;32m      5\u001b[0m \u001b[0;34m\u001b[0m\u001b[0m\n\u001b[1;32m      6\u001b[0m \u001b[0;31m#print the scores\u001b[0m\u001b[0;34m\u001b[0m\u001b[0;34m\u001b[0m\u001b[0;34m\u001b[0m\u001b[0m\n\u001b[0;32m----> 7\u001b[0;31m \u001b[0mdf\u001b[0m \u001b[0;34m=\u001b[0m \u001b[0mpd\u001b[0m\u001b[0;34m.\u001b[0m\u001b[0mDataFrame\u001b[0m\u001b[0;34m(\u001b[0m\u001b[0mtf_idf_vector\u001b[0m\u001b[0;34m.\u001b[0m\u001b[0mT\u001b[0m\u001b[0;34m.\u001b[0m\u001b[0mtodense\u001b[0m\u001b[0;34m(\u001b[0m\u001b[0;34m)\u001b[0m\u001b[0;34m,\u001b[0m \u001b[0mindex\u001b[0m\u001b[0;34m=\u001b[0m\u001b[0mfeature_names\u001b[0m\u001b[0;34m,\u001b[0m \u001b[0mcolumns\u001b[0m\u001b[0;34m=\u001b[0m\u001b[0;34m[\u001b[0m\u001b[0;34m\"tfidf\"\u001b[0m\u001b[0;34m]\u001b[0m\u001b[0;34m)\u001b[0m\u001b[0;34m\u001b[0m\u001b[0;34m\u001b[0m\u001b[0m\n\u001b[0m\u001b[1;32m      8\u001b[0m \u001b[0mdf\u001b[0m\u001b[0;34m.\u001b[0m\u001b[0msort_values\u001b[0m\u001b[0;34m(\u001b[0m\u001b[0mby\u001b[0m\u001b[0;34m=\u001b[0m\u001b[0;34m[\u001b[0m\u001b[0;34m\"tfidf\"\u001b[0m\u001b[0;34m]\u001b[0m\u001b[0;34m,\u001b[0m\u001b[0mascending\u001b[0m\u001b[0;34m=\u001b[0m\u001b[0;32mFalse\u001b[0m\u001b[0;34m)\u001b[0m\u001b[0;34m\u001b[0m\u001b[0;34m\u001b[0m\u001b[0m\n",
      "\u001b[0;32m/opt/anaconda3/envs/dsi/lib/python3.8/site-packages/pandas/core/frame.py\u001b[0m in \u001b[0;36m__init__\u001b[0;34m(self, data, index, columns, dtype, copy)\u001b[0m\n\u001b[1;32m    556\u001b[0m                 \u001b[0mmgr\u001b[0m \u001b[0;34m=\u001b[0m \u001b[0minit_dict\u001b[0m\u001b[0;34m(\u001b[0m\u001b[0;34m{\u001b[0m\u001b[0mdata\u001b[0m\u001b[0;34m.\u001b[0m\u001b[0mname\u001b[0m\u001b[0;34m:\u001b[0m \u001b[0mdata\u001b[0m\u001b[0;34m}\u001b[0m\u001b[0;34m,\u001b[0m \u001b[0mindex\u001b[0m\u001b[0;34m,\u001b[0m \u001b[0mcolumns\u001b[0m\u001b[0;34m,\u001b[0m \u001b[0mdtype\u001b[0m\u001b[0;34m=\u001b[0m\u001b[0mdtype\u001b[0m\u001b[0;34m)\u001b[0m\u001b[0;34m\u001b[0m\u001b[0;34m\u001b[0m\u001b[0m\n\u001b[1;32m    557\u001b[0m             \u001b[0;32melse\u001b[0m\u001b[0;34m:\u001b[0m\u001b[0;34m\u001b[0m\u001b[0;34m\u001b[0m\u001b[0m\n\u001b[0;32m--> 558\u001b[0;31m                 \u001b[0mmgr\u001b[0m \u001b[0;34m=\u001b[0m \u001b[0minit_ndarray\u001b[0m\u001b[0;34m(\u001b[0m\u001b[0mdata\u001b[0m\u001b[0;34m,\u001b[0m \u001b[0mindex\u001b[0m\u001b[0;34m,\u001b[0m \u001b[0mcolumns\u001b[0m\u001b[0;34m,\u001b[0m \u001b[0mdtype\u001b[0m\u001b[0;34m=\u001b[0m\u001b[0mdtype\u001b[0m\u001b[0;34m,\u001b[0m \u001b[0mcopy\u001b[0m\u001b[0;34m=\u001b[0m\u001b[0mcopy\u001b[0m\u001b[0;34m)\u001b[0m\u001b[0;34m\u001b[0m\u001b[0;34m\u001b[0m\u001b[0m\n\u001b[0m\u001b[1;32m    559\u001b[0m \u001b[0;34m\u001b[0m\u001b[0m\n\u001b[1;32m    560\u001b[0m         \u001b[0;31m# For data is list-like, or Iterable (will consume into list)\u001b[0m\u001b[0;34m\u001b[0m\u001b[0;34m\u001b[0m\u001b[0;34m\u001b[0m\u001b[0m\n",
      "\u001b[0;32m/opt/anaconda3/envs/dsi/lib/python3.8/site-packages/pandas/core/internals/construction.py\u001b[0m in \u001b[0;36minit_ndarray\u001b[0;34m(values, index, columns, dtype, copy)\u001b[0m\n\u001b[1;32m    236\u001b[0m         \u001b[0mblock_values\u001b[0m \u001b[0;34m=\u001b[0m \u001b[0;34m[\u001b[0m\u001b[0mvalues\u001b[0m\u001b[0;34m]\u001b[0m\u001b[0;34m\u001b[0m\u001b[0;34m\u001b[0m\u001b[0m\n\u001b[1;32m    237\u001b[0m \u001b[0;34m\u001b[0m\u001b[0m\n\u001b[0;32m--> 238\u001b[0;31m     \u001b[0;32mreturn\u001b[0m \u001b[0mcreate_block_manager_from_blocks\u001b[0m\u001b[0;34m(\u001b[0m\u001b[0mblock_values\u001b[0m\u001b[0;34m,\u001b[0m \u001b[0;34m[\u001b[0m\u001b[0mcolumns\u001b[0m\u001b[0;34m,\u001b[0m \u001b[0mindex\u001b[0m\u001b[0;34m]\u001b[0m\u001b[0;34m)\u001b[0m\u001b[0;34m\u001b[0m\u001b[0;34m\u001b[0m\u001b[0m\n\u001b[0m\u001b[1;32m    239\u001b[0m \u001b[0;34m\u001b[0m\u001b[0m\n\u001b[1;32m    240\u001b[0m \u001b[0;34m\u001b[0m\u001b[0m\n",
      "\u001b[0;32m/opt/anaconda3/envs/dsi/lib/python3.8/site-packages/pandas/core/internals/managers.py\u001b[0m in \u001b[0;36mcreate_block_manager_from_blocks\u001b[0;34m(blocks, axes)\u001b[0m\n\u001b[1;32m   1685\u001b[0m         \u001b[0mblocks\u001b[0m \u001b[0;34m=\u001b[0m \u001b[0;34m[\u001b[0m\u001b[0mgetattr\u001b[0m\u001b[0;34m(\u001b[0m\u001b[0mb\u001b[0m\u001b[0;34m,\u001b[0m \u001b[0;34m\"values\"\u001b[0m\u001b[0;34m,\u001b[0m \u001b[0mb\u001b[0m\u001b[0;34m)\u001b[0m \u001b[0;32mfor\u001b[0m \u001b[0mb\u001b[0m \u001b[0;32min\u001b[0m \u001b[0mblocks\u001b[0m\u001b[0;34m]\u001b[0m\u001b[0;34m\u001b[0m\u001b[0;34m\u001b[0m\u001b[0m\n\u001b[1;32m   1686\u001b[0m         \u001b[0mtot_items\u001b[0m \u001b[0;34m=\u001b[0m \u001b[0msum\u001b[0m\u001b[0;34m(\u001b[0m\u001b[0mb\u001b[0m\u001b[0;34m.\u001b[0m\u001b[0mshape\u001b[0m\u001b[0;34m[\u001b[0m\u001b[0;36m0\u001b[0m\u001b[0;34m]\u001b[0m \u001b[0;32mfor\u001b[0m \u001b[0mb\u001b[0m \u001b[0;32min\u001b[0m \u001b[0mblocks\u001b[0m\u001b[0;34m)\u001b[0m\u001b[0;34m\u001b[0m\u001b[0;34m\u001b[0m\u001b[0m\n\u001b[0;32m-> 1687\u001b[0;31m         \u001b[0;32mraise\u001b[0m \u001b[0mconstruction_error\u001b[0m\u001b[0;34m(\u001b[0m\u001b[0mtot_items\u001b[0m\u001b[0;34m,\u001b[0m \u001b[0mblocks\u001b[0m\u001b[0;34m[\u001b[0m\u001b[0;36m0\u001b[0m\u001b[0;34m]\u001b[0m\u001b[0;34m.\u001b[0m\u001b[0mshape\u001b[0m\u001b[0;34m[\u001b[0m\u001b[0;36m1\u001b[0m\u001b[0;34m:\u001b[0m\u001b[0;34m]\u001b[0m\u001b[0;34m,\u001b[0m \u001b[0maxes\u001b[0m\u001b[0;34m,\u001b[0m \u001b[0me\u001b[0m\u001b[0;34m)\u001b[0m\u001b[0;34m\u001b[0m\u001b[0;34m\u001b[0m\u001b[0m\n\u001b[0m\u001b[1;32m   1688\u001b[0m \u001b[0;34m\u001b[0m\u001b[0m\n\u001b[1;32m   1689\u001b[0m \u001b[0;34m\u001b[0m\u001b[0m\n",
      "\u001b[0;31mValueError\u001b[0m: Shape of passed values is (1000, 4400), indices imply (1000, 1)"
     ]
    }
   ],
   "source": [
    "feature_names = cv.get_feature_names() \n",
    " \n",
    "#get tfidf vector for first document \n",
    "#first_document_vector=tf_idf_vector \n",
    " \n",
    "#print the scores \n",
    "df = pd.DataFrame(tf_idf_vector.T.todense(), index=feature_names, columns=[\"tfidf\"]) \n",
    "df.sort_values(by=[\"tfidf\"],ascending=False)\n"
   ]
  },
  {
   "cell_type": "code",
   "execution_count": 549,
   "id": "assured-arabic",
   "metadata": {},
   "outputs": [],
   "source": [
    "# read test docs into a dataframe and concatenate title and body\n",
    "#df_test=pd.read_json(\"data/stackoverflow-test.json\",lines=True)\n",
    "#df_['cleanText'] = df['cleanText'] + df_test['body']\n",
    "#df_test['text'] =df_test['text'].apply(lambda x:pre_process(x))\n",
    "\n",
    "# get test docs into a list\n",
    "text_tfid=df['cleanText'].tolist()"
   ]
  },
  {
   "cell_type": "code",
   "execution_count": null,
   "id": "distinct-stretch",
   "metadata": {},
   "outputs": [],
   "source": [
    "applytfidf_transformer.transform(docs_test)"
   ]
  },
  {
   "cell_type": "code",
   "execution_count": 554,
   "id": "funded-armstrong",
   "metadata": {},
   "outputs": [
    {
     "name": "stdout",
     "output_type": "stream",
     "text": [
      "\n",
      "===Keywords===\n",
      "youtube 1.0\n",
      "years 1.0\n",
      "wrong 1.0\n",
      "write 1.0\n",
      "would 1.0\n",
      "worship 1.0\n",
      "worry 1.0\n",
      "world 1.0\n"
     ]
    }
   ],
   "source": [
    "# you only needs to do this once, this is a mapping of index to \n",
    "feature_names=cv.get_feature_names()\n",
    "\n",
    "# get the document that we want to extract keywords from\n",
    "#doc=text_tfid[0]\n",
    "\n",
    "#generate tf-idf for the given document\n",
    "tf_idf_vector=applytfidf_transformer.transform(vocab_vector)\n",
    "#tfidf_transformer.transform(cv.transform([doc]))\n",
    "#sort the tf-idf vectors by descending order of scores\n",
    "sorted_items=sort_coo(tf_idf_vector.tocoo())\n",
    "\n",
    "#extract only the top n; n here is 10\n",
    "keywords=extract_topn_from_vector(feature_names,sorted_items,10)\n",
    "\n",
    "# now print the results\n",
    "#print(\"\\n=====Doc=====\")\n",
    "#print(doc)\n",
    "print(\"\\n===Keywords===\")\n",
    "for k in keywords:\n",
    "    print(k,keywords[k])"
   ]
  },
  {
   "cell_type": "code",
   "execution_count": 552,
   "id": "tribal-conference",
   "metadata": {},
   "outputs": [],
   "source": [
    "def sort_coo(coo_matrix):\n",
    "    tuples = zip(coo_matrix.col, coo_matrix.data)\n",
    "    return sorted(tuples, key=lambda x: (x[1], x[0]), reverse=True)\n",
    "\n",
    "def extract_topn_from_vector(feature_names, sorted_items, topn=10):\n",
    "    \"\"\"get the feature names and tf-idf score of top n items\"\"\"\n",
    "    \n",
    "    #use only topn items from vector\n",
    "    sorted_items = sorted_items[:topn]\n",
    "\n",
    "    score_vals = []\n",
    "    feature_vals = []\n",
    "    \n",
    "    # word index and corresponding tf-idf score\n",
    "    for idx, score in sorted_items:\n",
    "        \n",
    "        #keep track of feature name and its corresponding score\n",
    "        score_vals.append(round(score, 3))\n",
    "        feature_vals.append(feature_names[idx])\n",
    "\n",
    "    #create a tuples of feature,score\n",
    "    #results = zip(feature_vals,score_vals)\n",
    "    results= {}\n",
    "    for idx in range(len(feature_vals)):\n",
    "        results[feature_vals[idx]]=score_vals[idx]\n",
    "    \n",
    "    return results"
   ]
  },
  {
   "cell_type": "markdown",
   "id": "attached-roman",
   "metadata": {},
   "source": [
    "## Part-of-Speach Analysis"
   ]
  },
  {
   "cell_type": "code",
   "execution_count": 529,
   "id": "fleet-action",
   "metadata": {},
   "outputs": [
    {
     "data": {
      "text/html": [
       "<div>\n",
       "<style scoped>\n",
       "    .dataframe tbody tr th:only-of-type {\n",
       "        vertical-align: middle;\n",
       "    }\n",
       "\n",
       "    .dataframe tbody tr th {\n",
       "        vertical-align: top;\n",
       "    }\n",
       "\n",
       "    .dataframe thead th {\n",
       "        text-align: right;\n",
       "    }\n",
       "</style>\n",
       "<table border=\"1\" class=\"dataframe\">\n",
       "  <thead>\n",
       "    <tr style=\"text-align: right;\">\n",
       "      <th></th>\n",
       "      <th>subreddit</th>\n",
       "      <th>id</th>\n",
       "      <th>title</th>\n",
       "      <th>selftext</th>\n",
       "      <th>text</th>\n",
       "      <th>subreddit_class</th>\n",
       "      <th>cleanText</th>\n",
       "      <th>cleanTitle</th>\n",
       "      <th>title_word_count</th>\n",
       "      <th>post_word_count</th>\n",
       "      <th>cleanText_2</th>\n",
       "    </tr>\n",
       "  </thead>\n",
       "  <tbody>\n",
       "    <tr>\n",
       "      <th>0</th>\n",
       "      <td>religion</td>\n",
       "      <td>lwi96e</td>\n",
       "      <td>my boyfriends parents don't want him with me b...</td>\n",
       "      <td></td>\n",
       "      <td>my boyfriends parents don't want him with me b...</td>\n",
       "      <td>1</td>\n",
       "      <td>boyfriends parents want christian</td>\n",
       "      <td>boyfriends parents want christian</td>\n",
       "      <td>13</td>\n",
       "      <td>0</td>\n",
       "      <td>my boyfriends parents don t want him with me b...</td>\n",
       "    </tr>\n",
       "    <tr>\n",
       "      <th>1</th>\n",
       "      <td>religion</td>\n",
       "      <td>lwhxen</td>\n",
       "      <td>Demasiado Natural.</td>\n",
       "      <td></td>\n",
       "      <td>Demasiado Natural.</td>\n",
       "      <td>1</td>\n",
       "      <td>demasiado natural</td>\n",
       "      <td>demasiado natural</td>\n",
       "      <td>2</td>\n",
       "      <td>0</td>\n",
       "      <td>demasiado natural</td>\n",
       "    </tr>\n",
       "    <tr>\n",
       "      <th>2</th>\n",
       "      <td>religion</td>\n",
       "      <td>lwgtbw</td>\n",
       "      <td>signs of the end times</td>\n",
       "      <td></td>\n",
       "      <td>signs of the end times</td>\n",
       "      <td>1</td>\n",
       "      <td>signs end times</td>\n",
       "      <td>signs end times</td>\n",
       "      <td>5</td>\n",
       "      <td>0</td>\n",
       "      <td>signs of the end times</td>\n",
       "    </tr>\n",
       "    <tr>\n",
       "      <th>3</th>\n",
       "      <td>religion</td>\n",
       "      <td>lwgq4r</td>\n",
       "      <td>What is the text of Isaiah 14:12-17 in the Torah?</td>\n",
       "      <td>I'm having a discussion elsewhere and the post...</td>\n",
       "      <td>What is the text of Isaiah 14:12-17 in the Tor...</td>\n",
       "      <td>1</td>\n",
       "      <td>text isaiah torah discussion elsewhere poster ...</td>\n",
       "      <td>text isaiah torah</td>\n",
       "      <td>10</td>\n",
       "      <td>82</td>\n",
       "      <td>what is the text of isaiah in the torah i m ha...</td>\n",
       "    </tr>\n",
       "    <tr>\n",
       "      <th>4</th>\n",
       "      <td>religion</td>\n",
       "      <td>lwgefv</td>\n",
       "      <td>Is Joe Biden allowed to do this?</td>\n",
       "      <td>I am not Catholic but is Joe Biden allowed to ...</td>\n",
       "      <td>Is Joe Biden allowed to do this? I am not Cath...</td>\n",
       "      <td>1</td>\n",
       "      <td>joe biden allowed catholic joe biden allowed p...</td>\n",
       "      <td>joe biden allowed</td>\n",
       "      <td>7</td>\n",
       "      <td>30</td>\n",
       "      <td>is joe biden allowed to do this i am not catho...</td>\n",
       "    </tr>\n",
       "  </tbody>\n",
       "</table>\n",
       "</div>"
      ],
      "text/plain": [
       "  subreddit      id                                              title  \\\n",
       "0  religion  lwi96e  my boyfriends parents don't want him with me b...   \n",
       "1  religion  lwhxen                                 Demasiado Natural.   \n",
       "2  religion  lwgtbw                             signs of the end times   \n",
       "3  religion  lwgq4r  What is the text of Isaiah 14:12-17 in the Torah?   \n",
       "4  religion  lwgefv                   Is Joe Biden allowed to do this?   \n",
       "\n",
       "                                            selftext  \\\n",
       "0                                                      \n",
       "1                                                      \n",
       "2                                                      \n",
       "3  I'm having a discussion elsewhere and the post...   \n",
       "4  I am not Catholic but is Joe Biden allowed to ...   \n",
       "\n",
       "                                                text  subreddit_class  \\\n",
       "0  my boyfriends parents don't want him with me b...                1   \n",
       "1                                Demasiado Natural.                 1   \n",
       "2                            signs of the end times                 1   \n",
       "3  What is the text of Isaiah 14:12-17 in the Tor...                1   \n",
       "4  Is Joe Biden allowed to do this? I am not Cath...                1   \n",
       "\n",
       "                                           cleanText  \\\n",
       "0                  boyfriends parents want christian   \n",
       "1                                  demasiado natural   \n",
       "2                                    signs end times   \n",
       "3  text isaiah torah discussion elsewhere poster ...   \n",
       "4  joe biden allowed catholic joe biden allowed p...   \n",
       "\n",
       "                          cleanTitle  title_word_count  post_word_count  \\\n",
       "0  boyfriends parents want christian                13                0   \n",
       "1                  demasiado natural                 2                0   \n",
       "2                    signs end times                 5                0   \n",
       "3                  text isaiah torah                10               82   \n",
       "4                  joe biden allowed                 7               30   \n",
       "\n",
       "                                         cleanText_2  \n",
       "0  my boyfriends parents don t want him with me b...  \n",
       "1                                  demasiado natural  \n",
       "2                             signs of the end times  \n",
       "3  what is the text of isaiah in the torah i m ha...  \n",
       "4  is joe biden allowed to do this i am not catho...  "
      ]
     },
     "execution_count": 529,
     "metadata": {},
     "output_type": "execute_result"
    }
   ],
   "source": [
    "df.head()"
   ]
  },
  {
   "cell_type": "code",
   "execution_count": null,
   "id": "treated-contract",
   "metadata": {},
   "outputs": [],
   "source": [
    "cv=CountVectorizer(max_df=0.85,stop_words=stopwords,max_features=1000)\n",
    "word_vector=cv.fit_transform(docs)"
   ]
  },
  {
   "cell_type": "code",
   "execution_count": null,
   "id": "needed-personal",
   "metadata": {},
   "outputs": [],
   "source": [
    "def parts_of_speach(text):\n",
    "    tokens = nltk.word_tokenize(text)\n",
    "    text = nltk.Text(tokens)\n",
    "    tags = nltk.pos_tag(text)\n",
    "    \n",
    "    \n"
   ]
  },
  {
   "cell_type": "code",
   "execution_count": 530,
   "id": "beginning-finland",
   "metadata": {},
   "outputs": [],
   "source": [
    "import nltk"
   ]
  },
  {
   "cell_type": "code",
   "execution_count": 534,
   "id": "prerequisite-imaging",
   "metadata": {},
   "outputs": [],
   "source": [
    "#import nltk\n",
    "#tokens=word_tokenize(df['cleanText_2'])\n",
    "#nltk.pos_tag(tokens)"
   ]
  },
  {
   "cell_type": "code",
   "execution_count": 532,
   "id": "plain-daniel",
   "metadata": {},
   "outputs": [
    {
     "ename": "IndexError",
     "evalue": "list index out of range",
     "output_type": "error",
     "traceback": [
      "\u001b[0;31m---------------------------------------------------------------------------\u001b[0m",
      "\u001b[0;31mIndexError\u001b[0m                                Traceback (most recent call last)",
      "\u001b[0;32m<ipython-input-532-671a9a41381c>\u001b[0m in \u001b[0;36m<module>\u001b[0;34m\u001b[0m\n\u001b[1;32m      4\u001b[0m     \u001b[0;32mreturn\u001b[0m \u001b[0mpos\u001b[0m\u001b[0;34m\u001b[0m\u001b[0;34m\u001b[0m\u001b[0m\n\u001b[1;32m      5\u001b[0m \u001b[0;34m\u001b[0m\u001b[0m\n\u001b[0;32m----> 6\u001b[0;31m \u001b[0mtags\u001b[0m\u001b[0;34m=\u001b[0m\u001b[0mdf\u001b[0m\u001b[0;34m[\u001b[0m\u001b[0;34m'cleanText_2'\u001b[0m\u001b[0;34m]\u001b[0m\u001b[0;34m.\u001b[0m\u001b[0mapply\u001b[0m\u001b[0;34m(\u001b[0m\u001b[0;32mlambda\u001b[0m \u001b[0mx\u001b[0m \u001b[0;34m:\u001b[0m \u001b[0mpos\u001b[0m\u001b[0;34m(\u001b[0m\u001b[0mx\u001b[0m\u001b[0;34m)\u001b[0m\u001b[0;34m)\u001b[0m\u001b[0;34m\u001b[0m\u001b[0;34m\u001b[0m\u001b[0m\n\u001b[0m\u001b[1;32m      7\u001b[0m \u001b[0mtags\u001b[0m\u001b[0;34m=\u001b[0m\u001b[0;34m[\u001b[0m\u001b[0mx\u001b[0m \u001b[0;32mfor\u001b[0m \u001b[0ml\u001b[0m \u001b[0;32min\u001b[0m \u001b[0mtags\u001b[0m \u001b[0;32mfor\u001b[0m \u001b[0mx\u001b[0m \u001b[0;32min\u001b[0m \u001b[0ml\u001b[0m\u001b[0;34m]\u001b[0m\u001b[0;34m\u001b[0m\u001b[0;34m\u001b[0m\u001b[0m\n\u001b[1;32m      8\u001b[0m \u001b[0mcounter\u001b[0m\u001b[0;34m=\u001b[0m\u001b[0mCounter\u001b[0m\u001b[0;34m(\u001b[0m\u001b[0mtags\u001b[0m\u001b[0;34m)\u001b[0m\u001b[0;34m\u001b[0m\u001b[0;34m\u001b[0m\u001b[0m\n",
      "\u001b[0;32m/opt/anaconda3/envs/dsi/lib/python3.8/site-packages/pandas/core/series.py\u001b[0m in \u001b[0;36mapply\u001b[0;34m(self, func, convert_dtype, args, **kwds)\u001b[0m\n\u001b[1;32m   4106\u001b[0m             \u001b[0;32melse\u001b[0m\u001b[0;34m:\u001b[0m\u001b[0;34m\u001b[0m\u001b[0;34m\u001b[0m\u001b[0m\n\u001b[1;32m   4107\u001b[0m                 \u001b[0mvalues\u001b[0m \u001b[0;34m=\u001b[0m \u001b[0mself\u001b[0m\u001b[0;34m.\u001b[0m\u001b[0mastype\u001b[0m\u001b[0;34m(\u001b[0m\u001b[0mobject\u001b[0m\u001b[0;34m)\u001b[0m\u001b[0;34m.\u001b[0m\u001b[0m_values\u001b[0m\u001b[0;34m\u001b[0m\u001b[0;34m\u001b[0m\u001b[0m\n\u001b[0;32m-> 4108\u001b[0;31m                 \u001b[0mmapped\u001b[0m \u001b[0;34m=\u001b[0m \u001b[0mlib\u001b[0m\u001b[0;34m.\u001b[0m\u001b[0mmap_infer\u001b[0m\u001b[0;34m(\u001b[0m\u001b[0mvalues\u001b[0m\u001b[0;34m,\u001b[0m \u001b[0mf\u001b[0m\u001b[0;34m,\u001b[0m \u001b[0mconvert\u001b[0m\u001b[0;34m=\u001b[0m\u001b[0mconvert_dtype\u001b[0m\u001b[0;34m)\u001b[0m\u001b[0;34m\u001b[0m\u001b[0;34m\u001b[0m\u001b[0m\n\u001b[0m\u001b[1;32m   4109\u001b[0m \u001b[0;34m\u001b[0m\u001b[0m\n\u001b[1;32m   4110\u001b[0m         \u001b[0;32mif\u001b[0m \u001b[0mlen\u001b[0m\u001b[0;34m(\u001b[0m\u001b[0mmapped\u001b[0m\u001b[0;34m)\u001b[0m \u001b[0;32mand\u001b[0m \u001b[0misinstance\u001b[0m\u001b[0;34m(\u001b[0m\u001b[0mmapped\u001b[0m\u001b[0;34m[\u001b[0m\u001b[0;36m0\u001b[0m\u001b[0;34m]\u001b[0m\u001b[0;34m,\u001b[0m \u001b[0mSeries\u001b[0m\u001b[0;34m)\u001b[0m\u001b[0;34m:\u001b[0m\u001b[0;34m\u001b[0m\u001b[0;34m\u001b[0m\u001b[0m\n",
      "\u001b[0;32mpandas/_libs/lib.pyx\u001b[0m in \u001b[0;36mpandas._libs.lib.map_infer\u001b[0;34m()\u001b[0m\n",
      "\u001b[0;32m<ipython-input-532-671a9a41381c>\u001b[0m in \u001b[0;36m<lambda>\u001b[0;34m(x)\u001b[0m\n\u001b[1;32m      4\u001b[0m     \u001b[0;32mreturn\u001b[0m \u001b[0mpos\u001b[0m\u001b[0;34m\u001b[0m\u001b[0;34m\u001b[0m\u001b[0m\n\u001b[1;32m      5\u001b[0m \u001b[0;34m\u001b[0m\u001b[0m\n\u001b[0;32m----> 6\u001b[0;31m \u001b[0mtags\u001b[0m\u001b[0;34m=\u001b[0m\u001b[0mdf\u001b[0m\u001b[0;34m[\u001b[0m\u001b[0;34m'cleanText_2'\u001b[0m\u001b[0;34m]\u001b[0m\u001b[0;34m.\u001b[0m\u001b[0mapply\u001b[0m\u001b[0;34m(\u001b[0m\u001b[0;32mlambda\u001b[0m \u001b[0mx\u001b[0m \u001b[0;34m:\u001b[0m \u001b[0mpos\u001b[0m\u001b[0;34m(\u001b[0m\u001b[0mx\u001b[0m\u001b[0;34m)\u001b[0m\u001b[0;34m)\u001b[0m\u001b[0;34m\u001b[0m\u001b[0;34m\u001b[0m\u001b[0m\n\u001b[0m\u001b[1;32m      7\u001b[0m \u001b[0mtags\u001b[0m\u001b[0;34m=\u001b[0m\u001b[0;34m[\u001b[0m\u001b[0mx\u001b[0m \u001b[0;32mfor\u001b[0m \u001b[0ml\u001b[0m \u001b[0;32min\u001b[0m \u001b[0mtags\u001b[0m \u001b[0;32mfor\u001b[0m \u001b[0mx\u001b[0m \u001b[0;32min\u001b[0m \u001b[0ml\u001b[0m\u001b[0;34m]\u001b[0m\u001b[0;34m\u001b[0m\u001b[0;34m\u001b[0m\u001b[0m\n\u001b[1;32m      8\u001b[0m \u001b[0mcounter\u001b[0m\u001b[0;34m=\u001b[0m\u001b[0mCounter\u001b[0m\u001b[0;34m(\u001b[0m\u001b[0mtags\u001b[0m\u001b[0;34m)\u001b[0m\u001b[0;34m\u001b[0m\u001b[0;34m\u001b[0m\u001b[0m\n",
      "\u001b[0;32m<ipython-input-532-671a9a41381c>\u001b[0m in \u001b[0;36mpos\u001b[0;34m(text)\u001b[0m\n\u001b[1;32m      1\u001b[0m \u001b[0;32mdef\u001b[0m \u001b[0mpos\u001b[0m\u001b[0;34m(\u001b[0m\u001b[0mtext\u001b[0m\u001b[0;34m)\u001b[0m\u001b[0;34m:\u001b[0m\u001b[0;34m\u001b[0m\u001b[0;34m\u001b[0m\u001b[0m\n\u001b[1;32m      2\u001b[0m     \u001b[0mpos\u001b[0m\u001b[0;34m=\u001b[0m\u001b[0mnltk\u001b[0m\u001b[0;34m.\u001b[0m\u001b[0mpos_tag\u001b[0m\u001b[0;34m(\u001b[0m\u001b[0mword_tokenize\u001b[0m\u001b[0;34m(\u001b[0m\u001b[0mtext\u001b[0m\u001b[0;34m)\u001b[0m\u001b[0;34m)\u001b[0m\u001b[0;34m\u001b[0m\u001b[0;34m\u001b[0m\u001b[0m\n\u001b[0;32m----> 3\u001b[0;31m     \u001b[0mpos\u001b[0m\u001b[0;34m=\u001b[0m\u001b[0mlist\u001b[0m\u001b[0;34m(\u001b[0m\u001b[0mmap\u001b[0m\u001b[0;34m(\u001b[0m\u001b[0mlist\u001b[0m\u001b[0;34m,\u001b[0m\u001b[0mzip\u001b[0m\u001b[0;34m(\u001b[0m\u001b[0;34m*\u001b[0m\u001b[0mpos\u001b[0m\u001b[0;34m)\u001b[0m\u001b[0;34m)\u001b[0m\u001b[0;34m)\u001b[0m\u001b[0;34m[\u001b[0m\u001b[0;36m1\u001b[0m\u001b[0;34m]\u001b[0m\u001b[0;34m\u001b[0m\u001b[0;34m\u001b[0m\u001b[0m\n\u001b[0m\u001b[1;32m      4\u001b[0m     \u001b[0;32mreturn\u001b[0m \u001b[0mpos\u001b[0m\u001b[0;34m\u001b[0m\u001b[0;34m\u001b[0m\u001b[0m\n\u001b[1;32m      5\u001b[0m \u001b[0;34m\u001b[0m\u001b[0m\n",
      "\u001b[0;31mIndexError\u001b[0m: list index out of range"
     ]
    }
   ],
   "source": [
    "def pos(text):\n",
    "    pos=nltk.pos_tag(word_tokenize(text))\n",
    "    pos=list(map(list,zip(*pos)))[1]\n",
    "    return pos\n",
    "\n",
    "tags=df['cleanText_2'].apply(lambda x : pos(x))\n",
    "tags=[x for l in tags for x in l]\n",
    "counter=Counter(tags)\n",
    "\n",
    "#x,y=list(map(list,zip(*counter.most_common(7))))\n",
    "#sns.barplot(x=y,y=x)"
   ]
  },
  {
   "cell_type": "markdown",
   "id": "liquid-poker",
   "metadata": {},
   "source": [
    "## Sentiment Analysis:"
   ]
  },
  {
   "cell_type": "code",
   "execution_count": null,
   "id": "decimal-stage",
   "metadata": {},
   "outputs": [],
   "source": [
    "from nltk.sentiment.vader import SentimentIntensityAnalyzer\n",
    "\n",
    "nltk.download('vader_lexicon')\n",
    "sid = SentimentIntensityAnalyzer()\n",
    "\n",
    "def get_vader_score(sent):\n",
    "    # Polarity score returns dictionary\n",
    "    ss = sid.polarity_scores(sent)\n",
    "    #return ss\n",
    "    return np.argmax(list(ss.values())[:-1])\n",
    "\n",
    "news['polarity']=news['headline_text'].\\\n",
    "    map(lambda x: get_vader_score(x))\n",
    "polarity=news['polarity'].replace({0:'neg',1:'neu',2:'pos'})\n",
    "\n",
    "plt.bar(polarity.value_counts().index,\n",
    "        polarity.value_counts())"
   ]
  },
  {
   "cell_type": "code",
   "execution_count": 498,
   "id": "chubby-tuning",
   "metadata": {},
   "outputs": [],
   "source": [
    "corpus = df['cleanText']"
   ]
  },
  {
   "cell_type": "code",
   "execution_count": 499,
   "id": "involved-venture",
   "metadata": {},
   "outputs": [],
   "source": [
    "model = Word2Vec(corpus)      # Corpus of data.\n",
    "#                  size=100,    # How many dimensions do you want in your word vector?\n",
    "#                  window=5,    # How many \"context words\" do you want?\n",
    "#                  min_count=2, # Ignores words below this threshold.\n",
    "#                  sg=0,        # SG = 1 uses SkipGram, SG = 0 uses CBOW (default).\n",
    "#                  workers=4)   # Number of \"worker threads\" to use (parallelizes process).\n"
   ]
  },
  {
   "cell_type": "code",
   "execution_count": 502,
   "id": "failing-celtic",
   "metadata": {},
   "outputs": [
    {
     "ename": "KeyError",
     "evalue": "\"word 'want' not in vocabulary\"",
     "output_type": "error",
     "traceback": [
      "\u001b[0;31m---------------------------------------------------------------------------\u001b[0m",
      "\u001b[0;31mKeyError\u001b[0m                                  Traceback (most recent call last)",
      "\u001b[0;32m<ipython-input-502-fdfaecf46c96>\u001b[0m in \u001b[0;36m<module>\u001b[0;34m\u001b[0m\n\u001b[0;32m----> 1\u001b[0;31m \u001b[0mmodel\u001b[0m\u001b[0;34m.\u001b[0m\u001b[0mwv\u001b[0m\u001b[0;34m.\u001b[0m\u001b[0mmost_similar\u001b[0m\u001b[0;34m(\u001b[0m\u001b[0;34m'want'\u001b[0m\u001b[0;34m)\u001b[0m\u001b[0;34m\u001b[0m\u001b[0;34m\u001b[0m\u001b[0m\n\u001b[0m",
      "\u001b[0;32m/opt/anaconda3/envs/dsi/lib/python3.8/site-packages/gensim/models/keyedvectors.py\u001b[0m in \u001b[0;36mmost_similar\u001b[0;34m(self, positive, negative, topn, restrict_vocab, indexer)\u001b[0m\n\u001b[1;32m    551\u001b[0m                 \u001b[0mmean\u001b[0m\u001b[0;34m.\u001b[0m\u001b[0mappend\u001b[0m\u001b[0;34m(\u001b[0m\u001b[0mweight\u001b[0m \u001b[0;34m*\u001b[0m \u001b[0mword\u001b[0m\u001b[0;34m)\u001b[0m\u001b[0;34m\u001b[0m\u001b[0;34m\u001b[0m\u001b[0m\n\u001b[1;32m    552\u001b[0m             \u001b[0;32melse\u001b[0m\u001b[0;34m:\u001b[0m\u001b[0;34m\u001b[0m\u001b[0;34m\u001b[0m\u001b[0m\n\u001b[0;32m--> 553\u001b[0;31m                 \u001b[0mmean\u001b[0m\u001b[0;34m.\u001b[0m\u001b[0mappend\u001b[0m\u001b[0;34m(\u001b[0m\u001b[0mweight\u001b[0m \u001b[0;34m*\u001b[0m \u001b[0mself\u001b[0m\u001b[0;34m.\u001b[0m\u001b[0mword_vec\u001b[0m\u001b[0;34m(\u001b[0m\u001b[0mword\u001b[0m\u001b[0;34m,\u001b[0m \u001b[0muse_norm\u001b[0m\u001b[0;34m=\u001b[0m\u001b[0;32mTrue\u001b[0m\u001b[0;34m)\u001b[0m\u001b[0;34m)\u001b[0m\u001b[0;34m\u001b[0m\u001b[0;34m\u001b[0m\u001b[0m\n\u001b[0m\u001b[1;32m    554\u001b[0m                 \u001b[0;32mif\u001b[0m \u001b[0mword\u001b[0m \u001b[0;32min\u001b[0m \u001b[0mself\u001b[0m\u001b[0;34m.\u001b[0m\u001b[0mvocab\u001b[0m\u001b[0;34m:\u001b[0m\u001b[0;34m\u001b[0m\u001b[0;34m\u001b[0m\u001b[0m\n\u001b[1;32m    555\u001b[0m                     \u001b[0mall_words\u001b[0m\u001b[0;34m.\u001b[0m\u001b[0madd\u001b[0m\u001b[0;34m(\u001b[0m\u001b[0mself\u001b[0m\u001b[0;34m.\u001b[0m\u001b[0mvocab\u001b[0m\u001b[0;34m[\u001b[0m\u001b[0mword\u001b[0m\u001b[0;34m]\u001b[0m\u001b[0;34m.\u001b[0m\u001b[0mindex\u001b[0m\u001b[0;34m)\u001b[0m\u001b[0;34m\u001b[0m\u001b[0;34m\u001b[0m\u001b[0m\n",
      "\u001b[0;32m/opt/anaconda3/envs/dsi/lib/python3.8/site-packages/gensim/models/keyedvectors.py\u001b[0m in \u001b[0;36mword_vec\u001b[0;34m(self, word, use_norm)\u001b[0m\n\u001b[1;32m    466\u001b[0m             \u001b[0;32mreturn\u001b[0m \u001b[0mresult\u001b[0m\u001b[0;34m\u001b[0m\u001b[0;34m\u001b[0m\u001b[0m\n\u001b[1;32m    467\u001b[0m         \u001b[0;32melse\u001b[0m\u001b[0;34m:\u001b[0m\u001b[0;34m\u001b[0m\u001b[0;34m\u001b[0m\u001b[0m\n\u001b[0;32m--> 468\u001b[0;31m             \u001b[0;32mraise\u001b[0m \u001b[0mKeyError\u001b[0m\u001b[0;34m(\u001b[0m\u001b[0;34m\"word '%s' not in vocabulary\"\u001b[0m \u001b[0;34m%\u001b[0m \u001b[0mword\u001b[0m\u001b[0;34m)\u001b[0m\u001b[0;34m\u001b[0m\u001b[0;34m\u001b[0m\u001b[0m\n\u001b[0m\u001b[1;32m    469\u001b[0m \u001b[0;34m\u001b[0m\u001b[0m\n\u001b[1;32m    470\u001b[0m     \u001b[0;32mdef\u001b[0m \u001b[0mget_vector\u001b[0m\u001b[0;34m(\u001b[0m\u001b[0mself\u001b[0m\u001b[0;34m,\u001b[0m \u001b[0mword\u001b[0m\u001b[0;34m)\u001b[0m\u001b[0;34m:\u001b[0m\u001b[0;34m\u001b[0m\u001b[0;34m\u001b[0m\u001b[0m\n",
      "\u001b[0;31mKeyError\u001b[0m: \"word 'want' not in vocabulary\""
     ]
    }
   ],
   "source": [
    "model.wv.most_similar('want')"
   ]
  },
  {
   "cell_type": "code",
   "execution_count": null,
   "id": "spiritual-final",
   "metadata": {},
   "outputs": [],
   "source": [
    "cv=CountVectorizer(max_df=0.85,stop_words=stopwords,max_features=10000)\n",
    "word_count_vector=cv.fit_transform(docs)"
   ]
  },
  {
   "cell_type": "code",
   "execution_count": 433,
   "id": "early-tenant",
   "metadata": {},
   "outputs": [],
   "source": [
    "pos_family = {\n",
    "    'noun' : ['NN','NNS','NNP','NNPS'],\n",
    "    'pron' : ['PRP','PRP$','WP','WP$'],\n",
    "    'verb' : ['VB','VBD','VBG','VBN','VBP','VBZ'],\n",
    "    'adj' :  ['JJ','JJR','JJS'],\n",
    "    'adv' : ['RB','RBR','RBS','WRB']\n",
    "}\n"
   ]
  },
  {
   "cell_type": "code",
   "execution_count": 434,
   "id": "connected-thunder",
   "metadata": {},
   "outputs": [],
   "source": [
    "from sklearn import decomposition, ensemble"
   ]
  },
  {
   "cell_type": "code",
   "execution_count": null,
   "id": "backed-editor",
   "metadata": {},
   "outputs": [],
   "source": [
    "# train a LDA Model\n",
    "lda_model = decomposition.LatentDirichletAllocation(n_components=20, learning_method='online', max_iter=20)\n",
    "X_topics = lda_model.fit_transform(xtrain_count)\n",
    "topic_word = lda_model.components_ \n",
    "vocab = count_vect.get_feature_names()\n",
    "\n",
    "# view the topic models\n",
    "n_top_words = 10\n",
    "topic_summaries = []\n",
    "for i, topic_dist in enumerate(topic_word):\n",
    "    topic_words = numpy.array(vocab)[numpy.argsort(topic_dist)][:-(n_top_words+1):-1]\n",
    "    topic_summaries.append(' '.join(topic_words))"
   ]
  },
  {
   "cell_type": "markdown",
   "id": "awful-walnut",
   "metadata": {},
   "source": [
    "# Pre-processing for modeling"
   ]
  },
  {
   "cell_type": "code",
   "execution_count": 2,
   "id": "restricted-bahamas",
   "metadata": {},
   "outputs": [],
   "source": [
    "import pandas as pd\n",
    "import matplotlib.pyplot as plt\n",
    "from sklearn.model_selection import train_test_split, GridSearchCV\n",
    "from sklearn.pipeline import Pipeline\n",
    "from sklearn.naive_bayes import MultinomialNB\n",
    "from sklearn.linear_model import LogisticRegression\n",
    "from sklearn.metrics import confusion_matrix, plot_confusion_matrix\n",
    "\n",
    "# Import CountVectorizer and TFIDFVectorizer from feature_extraction.text.\n",
    "from sklearn.feature_extraction.text import CountVectorizer, TfidfVectorizer"
   ]
  },
  {
   "cell_type": "markdown",
   "id": "classified-fleet",
   "metadata": {},
   "source": [
    "# CountVectorizing my data"
   ]
  },
  {
   "cell_type": "code",
   "execution_count": 204,
   "id": "happy-dividend",
   "metadata": {},
   "outputs": [],
   "source": [
    "cv = CountVectorizer(stop_words='english', min_df=3)\n",
    "cv.fit(df['selftext'])\n",
    "\n",
    "selftext_cv = cv.transform(df['selftext'])\n",
    "df_selftext_cv = pd.DataFrame(selftext_cv.todense(), columns=cv.get_feature_names())"
   ]
  },
  {
   "cell_type": "code",
   "execution_count": 208,
   "id": "separate-snake",
   "metadata": {},
   "outputs": [
    {
     "data": {
      "text/plain": [
       "people       1392\n",
       "like         1376\n",
       "god          1225\n",
       "cult         1191\n",
       "just         1030\n",
       "know          935\n",
       "religion      797\n",
       "don           746\n",
       "think         662\n",
       "time          635\n",
       "life          592\n",
       "believe       586\n",
       "church        553\n",
       "ve            544\n",
       "want          532\n",
       "really        485\n",
       "things        480\n",
       "said          475\n",
       "did           468\n",
       "way           447\n",
       "world         447\n",
       "make          433\n",
       "religious     431\n",
       "say           419\n",
       "years         417\n",
       "good          405\n",
       "group         371\n",
       "family        370\n",
       "does          360\n",
       "going         359\n",
       "members       346\n",
       "feel          335\n",
       "day           327\n",
       "help          318\n",
       "cults         313\n",
       "dtype: int64"
      ]
     },
     "execution_count": 208,
     "metadata": {},
     "output_type": "execute_result"
    }
   ],
   "source": [
    "df_selftext_cv.sum().sort_values(ascending=False).head(35)"
   ]
  },
  {
   "cell_type": "code",
   "execution_count": 206,
   "id": "ahead-price",
   "metadata": {},
   "outputs": [
    {
     "data": {
      "text/html": [
       "<div>\n",
       "<style scoped>\n",
       "    .dataframe tbody tr th:only-of-type {\n",
       "        vertical-align: middle;\n",
       "    }\n",
       "\n",
       "    .dataframe tbody tr th {\n",
       "        vertical-align: top;\n",
       "    }\n",
       "\n",
       "    .dataframe thead th {\n",
       "        text-align: right;\n",
       "    }\n",
       "</style>\n",
       "<table border=\"1\" class=\"dataframe\">\n",
       "  <thead>\n",
       "    <tr style=\"text-align: right;\">\n",
       "      <th></th>\n",
       "      <th>00</th>\n",
       "      <th>000</th>\n",
       "      <th>10</th>\n",
       "      <th>100</th>\n",
       "      <th>1000</th>\n",
       "      <th>101</th>\n",
       "      <th>107</th>\n",
       "      <th>11</th>\n",
       "      <th>114</th>\n",
       "      <th>12</th>\n",
       "      <th>...</th>\n",
       "      <th>youths</th>\n",
       "      <th>youtube</th>\n",
       "      <th>yu</th>\n",
       "      <th>yun</th>\n",
       "      <th>yusuf</th>\n",
       "      <th>ywam</th>\n",
       "      <th>zero</th>\n",
       "      <th>zoom</th>\n",
       "      <th>zoroastrian</th>\n",
       "      <th>zoroastrianism</th>\n",
       "    </tr>\n",
       "  </thead>\n",
       "  <tbody>\n",
       "    <tr>\n",
       "      <th>0</th>\n",
       "      <td>0</td>\n",
       "      <td>0</td>\n",
       "      <td>0</td>\n",
       "      <td>0</td>\n",
       "      <td>0</td>\n",
       "      <td>0</td>\n",
       "      <td>0</td>\n",
       "      <td>0</td>\n",
       "      <td>0</td>\n",
       "      <td>0</td>\n",
       "      <td>...</td>\n",
       "      <td>0</td>\n",
       "      <td>0</td>\n",
       "      <td>0</td>\n",
       "      <td>0</td>\n",
       "      <td>0</td>\n",
       "      <td>0</td>\n",
       "      <td>0</td>\n",
       "      <td>0</td>\n",
       "      <td>0</td>\n",
       "      <td>0</td>\n",
       "    </tr>\n",
       "    <tr>\n",
       "      <th>1</th>\n",
       "      <td>0</td>\n",
       "      <td>0</td>\n",
       "      <td>0</td>\n",
       "      <td>0</td>\n",
       "      <td>0</td>\n",
       "      <td>0</td>\n",
       "      <td>0</td>\n",
       "      <td>0</td>\n",
       "      <td>0</td>\n",
       "      <td>0</td>\n",
       "      <td>...</td>\n",
       "      <td>0</td>\n",
       "      <td>0</td>\n",
       "      <td>0</td>\n",
       "      <td>0</td>\n",
       "      <td>0</td>\n",
       "      <td>0</td>\n",
       "      <td>0</td>\n",
       "      <td>0</td>\n",
       "      <td>0</td>\n",
       "      <td>0</td>\n",
       "    </tr>\n",
       "    <tr>\n",
       "      <th>2</th>\n",
       "      <td>0</td>\n",
       "      <td>0</td>\n",
       "      <td>0</td>\n",
       "      <td>0</td>\n",
       "      <td>0</td>\n",
       "      <td>0</td>\n",
       "      <td>0</td>\n",
       "      <td>0</td>\n",
       "      <td>0</td>\n",
       "      <td>0</td>\n",
       "      <td>...</td>\n",
       "      <td>0</td>\n",
       "      <td>0</td>\n",
       "      <td>0</td>\n",
       "      <td>0</td>\n",
       "      <td>0</td>\n",
       "      <td>0</td>\n",
       "      <td>0</td>\n",
       "      <td>0</td>\n",
       "      <td>0</td>\n",
       "      <td>0</td>\n",
       "    </tr>\n",
       "    <tr>\n",
       "      <th>3</th>\n",
       "      <td>0</td>\n",
       "      <td>0</td>\n",
       "      <td>0</td>\n",
       "      <td>0</td>\n",
       "      <td>0</td>\n",
       "      <td>0</td>\n",
       "      <td>0</td>\n",
       "      <td>0</td>\n",
       "      <td>0</td>\n",
       "      <td>0</td>\n",
       "      <td>...</td>\n",
       "      <td>0</td>\n",
       "      <td>0</td>\n",
       "      <td>0</td>\n",
       "      <td>0</td>\n",
       "      <td>0</td>\n",
       "      <td>0</td>\n",
       "      <td>0</td>\n",
       "      <td>0</td>\n",
       "      <td>0</td>\n",
       "      <td>0</td>\n",
       "    </tr>\n",
       "    <tr>\n",
       "      <th>4</th>\n",
       "      <td>0</td>\n",
       "      <td>0</td>\n",
       "      <td>1</td>\n",
       "      <td>0</td>\n",
       "      <td>0</td>\n",
       "      <td>0</td>\n",
       "      <td>0</td>\n",
       "      <td>0</td>\n",
       "      <td>0</td>\n",
       "      <td>0</td>\n",
       "      <td>...</td>\n",
       "      <td>0</td>\n",
       "      <td>0</td>\n",
       "      <td>0</td>\n",
       "      <td>0</td>\n",
       "      <td>0</td>\n",
       "      <td>0</td>\n",
       "      <td>0</td>\n",
       "      <td>0</td>\n",
       "      <td>0</td>\n",
       "      <td>0</td>\n",
       "    </tr>\n",
       "  </tbody>\n",
       "</table>\n",
       "<p>5 rows × 6562 columns</p>\n",
       "</div>"
      ],
      "text/plain": [
       "   00  000  10  100  1000  101  107  11  114  12  ...  youths  youtube  yu  \\\n",
       "0   0    0   0    0     0    0    0   0    0   0  ...       0        0   0   \n",
       "1   0    0   0    0     0    0    0   0    0   0  ...       0        0   0   \n",
       "2   0    0   0    0     0    0    0   0    0   0  ...       0        0   0   \n",
       "3   0    0   0    0     0    0    0   0    0   0  ...       0        0   0   \n",
       "4   0    0   1    0     0    0    0   0    0   0  ...       0        0   0   \n",
       "\n",
       "   yun  yusuf  ywam  zero  zoom  zoroastrian  zoroastrianism  \n",
       "0    0      0     0     0     0            0               0  \n",
       "1    0      0     0     0     0            0               0  \n",
       "2    0      0     0     0     0            0               0  \n",
       "3    0      0     0     0     0            0               0  \n",
       "4    0      0     0     0     0            0               0  \n",
       "\n",
       "[5 rows x 6562 columns]"
      ]
     },
     "execution_count": 206,
     "metadata": {},
     "output_type": "execute_result"
    }
   ],
   "source": [
    "df_selftext_cv.head()"
   ]
  },
  {
   "cell_type": "code",
   "execution_count": 200,
   "id": "convinced-class",
   "metadata": {},
   "outputs": [],
   "source": [
    "cv = CountVectorizer(stop_words='english', min_df=3)\n",
    "cv.fit(df['title'])\n",
    "\n",
    "title_cv = cv.transform(df['title'])\n",
    "df_title_cv = pd.DataFrame(title_cv.todense(), columns=cv.get_feature_names())"
   ]
  },
  {
   "cell_type": "code",
   "execution_count": 203,
   "id": "caroline-pharmacology",
   "metadata": {},
   "outputs": [
    {
     "data": {
      "text/plain": [
       "cult         428\n",
       "religion     173\n",
       "god          122\n",
       "cults        102\n",
       "religious     73\n",
       "does          69\n",
       "new           68\n",
       "people        64\n",
       "know          63\n",
       "help          59\n",
       "church        56\n",
       "think         54\n",
       "religions     52\n",
       "just          50\n",
       "like          48\n",
       "question      44\n",
       "christian     40\n",
       "looking       40\n",
       "join          38\n",
       "believe       37\n",
       "dtype: int64"
      ]
     },
     "execution_count": 203,
     "metadata": {},
     "output_type": "execute_result"
    }
   ],
   "source": [
    "df_title_cv.sum().sort_values(ascending=False).head(20)"
   ]
  },
  {
   "cell_type": "markdown",
   "id": "steady-listening",
   "metadata": {},
   "source": [
    "#### My y variable is going to be the subreddit column. I am going to change the column into a numeric values:\n",
    "- religion = 1\n",
    "- cults = 0 "
   ]
  },
  {
   "cell_type": "code",
   "execution_count": null,
   "id": "romance-municipality",
   "metadata": {},
   "outputs": [],
   "source": []
  },
  {
   "cell_type": "code",
   "execution_count": 193,
   "id": "sexual-jenny",
   "metadata": {},
   "outputs": [],
   "source": [
    "# assigning cult = 0, and religion = 1 and making it stick by assigning it to the column name."
   ]
  },
  {
   "cell_type": "code",
   "execution_count": 194,
   "id": "dynamic-cassette",
   "metadata": {},
   "outputs": [
    {
     "data": {
      "text/plain": [
       "(2014, 6)"
      ]
     },
     "execution_count": 194,
     "metadata": {},
     "output_type": "execute_result"
    }
   ],
   "source": [
    "df.shape"
   ]
  },
  {
   "cell_type": "code",
   "execution_count": 195,
   "id": "premier-mount",
   "metadata": {},
   "outputs": [
    {
     "data": {
      "text/plain": [
       "cults       1101\n",
       "religion     913\n",
       "Name: subreddit, dtype: int64"
      ]
     },
     "execution_count": 195,
     "metadata": {},
     "output_type": "execute_result"
    }
   ],
   "source": [
    "df['subreddit'].value_counts()"
   ]
  },
  {
   "cell_type": "code",
   "execution_count": 127,
   "id": "failing-methodology",
   "metadata": {},
   "outputs": [],
   "source": [
    "X = df[['title','selftext']]\n",
    "y = df['subreddit']"
   ]
  },
  {
   "cell_type": "code",
   "execution_count": 196,
   "id": "earned-twenty",
   "metadata": {},
   "outputs": [],
   "source": [
    "# Check what we need to check in a classification problem.\n",
    "df['y'] = [1 if i == 'religion' else 0 for i in df['subreddit']]"
   ]
  },
  {
   "cell_type": "code",
   "execution_count": 199,
   "id": "individual-spine",
   "metadata": {},
   "outputs": [
    {
     "data": {
      "text/plain": [
       "0    1101\n",
       "1     913\n",
       "Name: y, dtype: int64"
      ]
     },
     "execution_count": 199,
     "metadata": {},
     "output_type": "execute_result"
    }
   ],
   "source": [
    "df['y'].value_counts()"
   ]
  },
  {
   "cell_type": "code",
   "execution_count": null,
   "id": "through-singapore",
   "metadata": {},
   "outputs": [],
   "source": [
    "# Split the data into the training and testing sets.\n",
    "X_train, X_test, y_train, y_test = train_test_split(X,\n",
    "                                                    y,\n",
    "                                                    test_size=0.33,\n",
    "                                                    stratify=y,\n",
    "                                                    random_state=42)"
   ]
  },
  {
   "cell_type": "markdown",
   "id": "coordinated-communist",
   "metadata": {},
   "source": [
    "<a id='ppmodeling'></a>"
   ]
  },
  {
   "cell_type": "markdown",
   "id": "identical-deposit",
   "metadata": {},
   "source": [
    "## Preprocessing and Modeling"
   ]
  },
  {
   "cell_type": "code",
   "execution_count": null,
   "id": "desperate-cardiff",
   "metadata": {},
   "outputs": [],
   "source": []
  },
  {
   "cell_type": "markdown",
   "id": "female-devices",
   "metadata": {},
   "source": [
    "<a id='evaluation'></a>"
   ]
  },
  {
   "cell_type": "markdown",
   "id": "junior-perception",
   "metadata": {},
   "source": [
    "## Model Evaluation"
   ]
  },
  {
   "cell_type": "code",
   "execution_count": null,
   "id": "divided-variety",
   "metadata": {},
   "outputs": [],
   "source": []
  },
  {
   "cell_type": "markdown",
   "id": "honey-times",
   "metadata": {},
   "source": [
    "<a id='conclusion'></a>"
   ]
  },
  {
   "cell_type": "markdown",
   "id": "provincial-princeton",
   "metadata": {},
   "source": [
    "## Conclusion"
   ]
  },
  {
   "cell_type": "code",
   "execution_count": null,
   "id": "interstate-pound",
   "metadata": {},
   "outputs": [],
   "source": []
  }
 ],
 "metadata": {
  "kernelspec": {
   "display_name": "Python 3",
   "language": "python",
   "name": "python3"
  },
  "language_info": {
   "codemirror_mode": {
    "name": "ipython",
    "version": 3
   },
   "file_extension": ".py",
   "mimetype": "text/x-python",
   "name": "python",
   "nbconvert_exporter": "python",
   "pygments_lexer": "ipython3",
   "version": "3.8.5"
  }
 },
 "nbformat": 4,
 "nbformat_minor": 5
}
