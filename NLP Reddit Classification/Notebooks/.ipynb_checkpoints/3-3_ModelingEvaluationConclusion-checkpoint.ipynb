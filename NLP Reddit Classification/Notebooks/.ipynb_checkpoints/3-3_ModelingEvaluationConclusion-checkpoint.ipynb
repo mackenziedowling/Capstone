{
 "cells": [
  {
   "cell_type": "markdown",
   "id": "waiting-indonesia",
   "metadata": {},
   "source": [
    "# Project 3: Modeling Selection\n",
    "\n",
    "---"
   ]
  },
  {
   "cell_type": "markdown",
   "id": "willing-questionnaire",
   "metadata": {},
   "source": [
    "## Introduction\n",
    "\n",
    "In this notebook I am running several baseline models on my subreddit data and optimization the best performing two by gridsearching through possible hyperparameters. My goal is to be able to predict accuratly if a post came from the r/cults or the r/religion subreddit.  \n",
    "\n",
    "---\n",
    "\n",
    "### Table of Content: \n",
    "- **Baseline Models**\n",
    "    - **[KNN Modeling](#knnbaselineModeling)** | [Baseline Evaluation](#knnbaselineresults) \n",
    "    - **[Random Forest Modeling](#rfbaselineModeling)** | [Baseline Evaluation](#rfbaselineResults)\n",
    "    - **[Naïve Bayes Modeling](NBbaselineModeling)** | [Baseline Evaluation](#NBbaselineResults)\n",
    "    - **[Basline Models Summary](#BaselineSummary)**\n",
    "- Model Optimization\n",
    "\n",
    "- Naive Bias\n",
    "    - CountVectorizer\n",
    "    - Tifd Vectorizer\n",
    "- Random Forest Classifier\n",
    "    - CountVectorizer\n",
    "    - Tifd Vectorizer\n",
    "- \n",
    "\n",
    "\n",
    "---\n"
   ]
  },
  {
   "cell_type": "markdown",
   "id": "further-cargo",
   "metadata": {},
   "source": [
    "## Model Selection Summary "
   ]
  },
  {
   "cell_type": "code",
   "execution_count": null,
   "id": "economic-passenger",
   "metadata": {},
   "outputs": [],
   "source": []
  },
  {
   "cell_type": "code",
   "execution_count": 374,
   "id": "regulated-daily",
   "metadata": {},
   "outputs": [],
   "source": [
    "#import libraries\n",
    "# imports\n",
    "import pandas as pd\n",
    "import re\n",
    "import matplotlib.pyplot as plt\n",
    "from sklearn.model_selection import train_test_split, GridSearchCV\n",
    "from sklearn.pipeline import Pipeline\n",
    "from sklearn.naive_bayes import MultinomialNB\n",
    "from sklearn.linear_model import LogisticRegression\n",
    "from sklearn.metrics import confusion_matrix, plot_confusion_matrix\n",
    "import nltk\n",
    "from nltk.tokenize import RegexpTokenizer\n",
    "from nltk.stem import WordNetLemmatizer,PorterStemmer\n",
    "from nltk.corpus import stopwords\n",
    "from sklearn.ensemble import RandomForestClassifier, ExtraTreesClassifier\n",
    "from sklearn.metrics import confusion_matrix, classification_report\n",
    "from sklearn.metrics import accuracy_score, recall_score, precision_score\n",
    "from sklearn.preprocessing import StandardScaler\n",
    "from sklearn.neighbors import KNeighborsClassifier\n",
    "\n",
    "# Import CountVectorizer and TFIDFVectorizer from feature_extraction.text.\n",
    "from sklearn.feature_extraction.text import CountVectorizer, TfidfVectorizer"
   ]
  },
  {
   "cell_type": "code",
   "execution_count": 85,
   "id": "focused-hammer",
   "metadata": {},
   "outputs": [],
   "source": [
    "#Read in dataset\n",
    "df = pd.read_csv('./religion_cults_reddit_preprocessing.csv')"
   ]
  },
  {
   "cell_type": "markdown",
   "id": "visible-cattle",
   "metadata": {},
   "source": [
    "# Text Preprocessing:\n",
    "\n",
    "In the previous notebook for my Exploratory Analysis I created a function for cleaning the **text** column to a **cleanText** column. I am going to copy that workflow here to streamline the process and have a cleaner text column to vectorize off of for my modeling.\n",
    "\n",
    "---"
   ]
  },
  {
   "cell_type": "code",
   "execution_count": 87,
   "id": "retained-cornwall",
   "metadata": {},
   "outputs": [],
   "source": [
    "lemmatizer = WordNetLemmatizer()\n",
    "stemmer = PorterStemmer() \n",
    "\n",
    "\n",
    "def preprocess(sentence):\n",
    "    sentence=str(sentence)\n",
    "    sentence = sentence.lower()\n",
    "    sentence=sentence.replace('{html}',\"\") \n",
    "    cleanr = re.compile('<.*?>')\n",
    "    cleantext = re.sub(cleanr, '', sentence)\n",
    "    rem_url=re.sub(r'http\\S+', '',cleantext)\n",
    "    rem_num = re.sub('[0-9]+', '', rem_url)\n",
    "    tokenizer = RegexpTokenizer(r'\\w+')\n",
    "    tokens = tokenizer.tokenize(rem_num)  \n",
    "    filtered_words = [w for w in tokens if len(w) > 2 if not w in stopwords.words('english')]\n",
    "    stem_words=[stemmer.stem(w) for w in filtered_words]\n",
    "    lemma_words=[lemmatizer.lemmatize(w) for w in filtered_words]\n",
    "    return \" \".join(filtered_words)"
   ]
  },
  {
   "cell_type": "code",
   "execution_count": 88,
   "id": "logical-gossip",
   "metadata": {},
   "outputs": [],
   "source": [
    "df['cleanText']=df['text'].map(lambda s:preprocess(s))"
   ]
  },
  {
   "cell_type": "markdown",
   "id": "drawn-wages",
   "metadata": {},
   "source": [
    "# Modeling Preprocessing\n",
    "\n",
    "Below I am setting up my preprocessing for modeling. I am defining my X and y variables. My X variable will be the combined title and selftext column named **text** and my y-variable is the **subreddit** column. \n",
    "\n",
    "---"
   ]
  },
  {
   "cell_type": "code",
   "execution_count": 453,
   "id": "pregnant-basement",
   "metadata": {},
   "outputs": [],
   "source": [
    "#Defining my X andn Y variables\n",
    "X = df['cleanText']\n",
    "y = df['subreddit']"
   ]
  },
  {
   "cell_type": "code",
   "execution_count": 454,
   "id": "graduate-deadline",
   "metadata": {},
   "outputs": [
    {
     "data": {
      "text/plain": [
       "cults       0.5\n",
       "religion    0.5\n",
       "Name: subreddit, dtype: float64"
      ]
     },
     "execution_count": 454,
     "metadata": {},
     "output_type": "execute_result"
    }
   ],
   "source": [
    "# Check what we need to check in a classification problem.\n",
    "y.value_counts(normalize = True)"
   ]
  },
  {
   "cell_type": "code",
   "execution_count": 455,
   "id": "fluid-italy",
   "metadata": {},
   "outputs": [],
   "source": [
    "# Split the data into the training and testing sets.\n",
    "X_train, X_test, y_train, y_test = train_test_split(X,\n",
    "                                                    y,\n",
    "                                                    test_size=0.33,\n",
    "                                                    stratify=y,\n",
    "                                                    random_state=42)"
   ]
  },
  {
   "cell_type": "markdown",
   "id": "binding-opportunity",
   "metadata": {},
   "source": [
    "### Defining my additional stopwords from my EDA:\n",
    "\n",
    "--"
   ]
  },
  {
   "cell_type": "code",
   "execution_count": 93,
   "id": "demographic-michigan",
   "metadata": {},
   "outputs": [],
   "source": [
    "all_stopwords = stopwords.words('english')\n",
    "all_stopwords.append('religion')\n",
    "all_stopwords.append('religions')\n",
    "all_stopwords.append('cult')\n",
    "all_stopwords.append('cults')\n",
    "all_stopwords.append('religious')\n",
    "all_stopwords.append('video')\n",
    "all_stopwords.append('podcast')\n",
    "all_stopwords.append('poll')\n",
    "all_stopwords.append('view')\n",
    "all_stopwords.append('also')\n",
    "all_stopwords.append('even')\n",
    "all_stopwords.append('amp')\n",
    "all_stopwords.append('could')\n",
    "all_stopwords.append('get')\n",
    "all_stopwords.append('would')\n",
    "all_stopwords.append('cant')\n",
    "all_stopwords.append('like')\n",
    "all_stopwords.append('something')\n",
    "all_stopwords.append('things')"
   ]
  },
  {
   "cell_type": "markdown",
   "id": "interim-young",
   "metadata": {},
   "source": [
    "# Baseline Models:"
   ]
  },
  {
   "cell_type": "markdown",
   "id": "musical-payday",
   "metadata": {},
   "source": [
    "#### Below I am defining a function to run evaluaiton metrics across my models:"
   ]
  },
  {
   "cell_type": "code",
   "execution_count": 456,
   "id": "immediate-hotel",
   "metadata": {},
   "outputs": [],
   "source": [
    "def evaluation(mdl):\n",
    "    results = {}\n",
    "    bestscore = mdl.best_score_\n",
    "    train_aucc = mdl.score(X_train, y_train)\n",
    "    test_aucc = mdl.score(X_test, y_test)\n",
    "    y_pred_train = mdl.predict(X_train)\n",
    "    y_pred_test = mdl.predict(X_test)\n",
    "    \n",
    "    print(f'Best Score: {bestscore}')\n",
    "    print(f'Training auccuracy: {train_aucc}')\n",
    "    print(f'Test auccuracy: {test_aucc}')\n",
    "    print()\n",
    "    \n",
    "    tn, fp, fn, tp = confusion_matrix(y_test, mdl.predict(X_test)).ravel() \n",
    "    plot_confusion_matrix(mdl, X_test, y_test, cmap='Blues', values_format='d');\n",
    "    \n",
    "    print('Order of classes: ', mdl.classes_)\n",
    "    confusion_df = pd.DataFrame(\n",
    "                    data=confusion_matrix(y_test, y_pred_test),\n",
    "                    index=[f'actual {target_class}' for target_class in mdl.classes_],\n",
    "                    columns=[f'predicted {target_class}' for target_class in mdl.classes_])\n",
    "    print('\\nTest Confusion Matrix: \\n', confusion_df)\n",
    "    \n",
    "    print()\n",
    "    print(\"True Negatives: %s\" % tn)\n",
    "    print(\"False Positives: %s\" % fp)  \n",
    "    print(\"False Negatives: %s\" % fn)\n",
    "    print(\"True Positives: %s\" % tp)\n",
    "    #print('\\nTest Confusion Matrix: \\n', confusion_df)\n",
    "    print(classification_report(y_test, y_pred_test))\n",
    "    # 5. Test recall and precision (if no samples, set recall/precision to 0)\n",
    "    results['test_recall'] = recall_score(y_test, y_pred_test, \n",
    "                                          pos_label='cults', zero_division=0)\n",
    "    results['test_precision'] = precision_score(y_test, y_pred_test,\n",
    "                                                pos_label='cults', zero_division=0)\n",
    "    "
   ]
  },
  {
   "cell_type": "markdown",
   "id": "negative-adolescent",
   "metadata": {},
   "source": [
    "<a id='knnbaselineModeling'></a>"
   ]
  },
  {
   "cell_type": "markdown",
   "id": "wanted-allah",
   "metadata": {},
   "source": [
    "## Baseline Model 1: KNN and CVEC"
   ]
  },
  {
   "cell_type": "code",
   "execution_count": 457,
   "id": "constant-distinction",
   "metadata": {},
   "outputs": [],
   "source": [
    "from sklearn.neighbors import KNeighborsClassifier\n",
    "\n",
    "knn = KNeighborsClassifier(n_neighbors=5)\n"
   ]
  },
  {
   "cell_type": "code",
   "execution_count": 459,
   "id": "compact-pierce",
   "metadata": {},
   "outputs": [],
   "source": [
    "#Baseline KNN model Pipeline:\n",
    "baseline_knn = Pipeline([\n",
    "    ('cvec', CountVectorizer()),\n",
    "    ('knn', KNeighborsClassifier(n_neighbors=5))\n",
    "])\n",
    "\n",
    "#Parameters for KNN baseline\n",
    "param_grid_knn={\n",
    "    'cvec__max_features': [1_000 ],\n",
    "    'cvec__stop_words': [all_stopwords],\n",
    "    'cvec__ngram_range': [(1, 1), (2, 3)]}\n",
    "\n",
    "#Gridsearching over KNN baseline model\n",
    "gs_knn = GridSearchCV(baseline_knn,\n",
    "                  param_grid=param_grid_knn, \n",
    "                  cv=5) # 5-fold cross-validation."
   ]
  },
  {
   "cell_type": "code",
   "execution_count": 460,
   "id": "oriental-kenya",
   "metadata": {},
   "outputs": [
    {
     "data": {
      "text/plain": [
       "GridSearchCV(cv=5,\n",
       "             estimator=Pipeline(steps=[('cvec', CountVectorizer()),\n",
       "                                       ('knn', KNeighborsClassifier())]),\n",
       "             param_grid={'cvec__max_features': [1000],\n",
       "                         'cvec__ngram_range': [(1, 1), (2, 3)],\n",
       "                         'cvec__stop_words': [['i', 'me', 'my', 'myself', 'we',\n",
       "                                               'our', 'ours', 'ourselves',\n",
       "                                               'you', \"you're\", \"you've\",\n",
       "                                               \"you'll\", \"you'd\", 'your',\n",
       "                                               'yours', 'yourself',\n",
       "                                               'yourselves', 'he', 'him', 'his',\n",
       "                                               'himself', 'she', \"she's\", 'her',\n",
       "                                               'hers', 'herself', 'it', \"it's\",\n",
       "                                               'its', 'itself', ...]]})"
      ]
     },
     "execution_count": 460,
     "metadata": {},
     "output_type": "execute_result"
    }
   ],
   "source": [
    "#fitting the model\n",
    "gs_knn.fit(X_train, y_train)"
   ]
  },
  {
   "cell_type": "markdown",
   "id": "entitled-motion",
   "metadata": {},
   "source": [
    "<a id='knnbaselineresults'></a>"
   ]
  },
  {
   "cell_type": "markdown",
   "id": "quick-alpha",
   "metadata": {},
   "source": [
    "### KNN & CVEC RESULTS\n",
    "---"
   ]
  },
  {
   "cell_type": "code",
   "execution_count": 461,
   "id": "accepting-indiana",
   "metadata": {},
   "outputs": [
    {
     "name": "stdout",
     "output_type": "stream",
     "text": [
      "Best Score: 0.6536819084342896\n",
      "Training auccuracy: 0.760854816824966\n",
      "Test auccuracy: 0.6460055096418733\n",
      "\n",
      "Order of classes:  ['cults' 'religion']\n",
      "\n",
      "Test Confusion Matrix: \n",
      "                  predicted cults  predicted religion\n",
      "actual cults                 396                 330\n",
      "actual religion              184                 542\n",
      "\n",
      "True Negatives: 396\n",
      "False Positives: 330\n",
      "False Negatives: 184\n",
      "True Positives: 542\n",
      "              precision    recall  f1-score   support\n",
      "\n",
      "       cults       0.68      0.55      0.61       726\n",
      "    religion       0.62      0.75      0.68       726\n",
      "\n",
      "    accuracy                           0.65      1452\n",
      "   macro avg       0.65      0.65      0.64      1452\n",
      "weighted avg       0.65      0.65      0.64      1452\n",
      "\n"
     ]
    },
    {
     "data": {
      "image/png": "[encoded data removed]",
      "text/plain": [
       "<Figure size 432x288 with 2 Axes>"
      ]
     },
     "metadata": {
      "needs_background": "light"
     },
     "output_type": "display_data"
    }
   ],
   "source": [
    "evaluation(gs_knn)"
   ]
  },
  {
   "cell_type": "markdown",
   "id": "cardiovascular-perry",
   "metadata": {},
   "source": [
    "### KNN & CVEC BASELINE MODEL:\n",
    "\n",
    "The results from the KNN and CVEC model show a strong case of **overfitting** occurred since the training accuracy is nearly 10% higher than the test accuracy. The recall is 0.75 - So, we are identifying 75% of all the posts that came from r/religion correctly, but only identifying 55% of those that came from r/cults correctly. \n",
    "\n",
    "- **Recall of cults - 68%:** We identified 68% of the actual text from the r/cults subreddit\n",
    "- **Precision of cults - 55%:** When we predicted the text came from r/cults we got it right 55% of the time. So, 45% of of our predictions inaccuratly predicted r/cults.\n",
    "\n",
    "Intial take from this model is understand what score is best to optimize for. Is it better to correctly identifying cults with the risk of missclassifying a r/religion subbreddit as a r/cults subreddit? And thinking back to the problem statement how do start to find the right balance and trade-off to avoid any limitization we classifying these groups in regards to pop-culture language. \n",
    "\n",
    "\n",
    "With the next baseline models I am goign to run Naive Bias and random forests. Hopefully these models will help to reduce overfitting. \n",
    "___"
   ]
  },
  {
   "cell_type": "markdown",
   "id": "intense-congo",
   "metadata": {},
   "source": [
    "<a id='rfbaselineModeling'></a>"
   ]
  },
  {
   "cell_type": "markdown",
   "id": "contemporary-eclipse",
   "metadata": {},
   "source": [
    "## Baseline Model 2: Random Forest Classification & CVEC\n",
    "\n",
    "For each baseline I keeping the params the same using CountVectorizer as the transformer to be able to compare across consistent base."
   ]
  },
  {
   "cell_type": "code",
   "execution_count": 467,
   "id": "arranged-colon",
   "metadata": {},
   "outputs": [
    {
     "data": {
      "text/plain": [
       "GridSearchCV(cv=5,\n",
       "             estimator=Pipeline(steps=[('cvec', CountVectorizer()),\n",
       "                                       ('rf', RandomForestClassifier())]),\n",
       "             param_grid={'cvec__max_features': [1000],\n",
       "                         'cvec__ngram_range': [(1, 1), (2, 3)],\n",
       "                         'cvec__stop_words': [['i', 'me', 'my', 'myself', 'we',\n",
       "                                               'our', 'ours', 'ourselves',\n",
       "                                               'you', \"you're\", \"you've\",\n",
       "                                               \"you'll\", \"you'd\", 'your',\n",
       "                                               'yours', 'yourself',\n",
       "                                               'yourselves', 'he', 'him', 'his',\n",
       "                                               'himself', 'she', \"she's\", 'her',\n",
       "                                               'hers', 'herself', 'it', \"it's\",\n",
       "                                               'its', 'itself', ...]]})"
      ]
     },
     "execution_count": 467,
     "metadata": {},
     "output_type": "execute_result"
    }
   ],
   "source": [
    "#Baseline rf model Pipeline:\n",
    "baseline_rf = Pipeline([\n",
    "    ('cvec', CountVectorizer()),\n",
    "    ('rf', RandomForestClassifier())\n",
    "])\n",
    "\n",
    "#Parameters for rf baseline\n",
    "param_grid_rf={\n",
    "    'cvec__max_features': [1_000 ],\n",
    "    'cvec__stop_words': [all_stopwords],\n",
    "    'cvec__ngram_range': [(1, 1), (2, 3)]}\n",
    "\n",
    "#Gridsearching over rf baseline model\n",
    "gs_rf = GridSearchCV(baseline_rf,\n",
    "                  param_grid=param_grid_rf, \n",
    "                  cv=5) # 5-fold cross-validation.\n",
    "\n",
    "#fitting the model\n",
    "gs_rf.fit(X_train, y_train)"
   ]
  },
  {
   "cell_type": "markdown",
   "id": "welsh-premiere",
   "metadata": {},
   "source": [
    "<a id='rfbaselineResults'></a>"
   ]
  },
  {
   "cell_type": "markdown",
   "id": "mexican-velvet",
   "metadata": {},
   "source": [
    "### RANDOM FOREST CLASSIFIER & CVEC RESULTS\n",
    "---"
   ]
  },
  {
   "cell_type": "code",
   "execution_count": 468,
   "id": "contrary-haven",
   "metadata": {},
   "outputs": [
    {
     "name": "stdout",
     "output_type": "stream",
     "text": [
      "Best Score: 0.7811993899456131\n",
      "Training auccuracy: 0.9670963364993216\n",
      "Test auccuracy: 0.7644628099173554\n",
      "\n",
      "Order of classes:  ['cults' 'religion']\n",
      "\n",
      "Test Confusion Matrix: \n",
      "                  predicted cults  predicted religion\n",
      "actual cults                 545                 181\n",
      "actual religion              161                 565\n",
      "\n",
      "True Negatives: 545\n",
      "False Positives: 181\n",
      "False Negatives: 161\n",
      "True Positives: 565\n",
      "              precision    recall  f1-score   support\n",
      "\n",
      "       cults       0.77      0.75      0.76       726\n",
      "    religion       0.76      0.78      0.77       726\n",
      "\n",
      "    accuracy                           0.76      1452\n",
      "   macro avg       0.76      0.76      0.76      1452\n",
      "weighted avg       0.76      0.76      0.76      1452\n",
      "\n"
     ]
    },
    {
     "data": {
      "image/png": "[encoded data removed]",
      "text/plain": [
       "<Figure size 432x288 with 2 Axes>"
      ]
     },
     "metadata": {
      "needs_background": "light"
     },
     "output_type": "display_data"
    }
   ],
   "source": [
    "evaluation(gs_rf)"
   ]
  },
  {
   "cell_type": "markdown",
   "id": "suffering-spain",
   "metadata": {},
   "source": [
    "### RANDOM FORREST CLASSIFICATION & CVEC BASELINE MODEL:\n",
    "\n",
    "The results from the Random Forest with the CountVectorization model show a even more severe case of **overfitting** than the KNN baseline model. This is evident in the fact that the training accuracy is nearly 20% higher than the test accuracy. \n",
    "\n",
    "The recall is 0.75 - So, we are identifying 75% of all the posts that came from r/religion correctly, but only identifying 55% of those that came from r/cults correctly. \n",
    "\n",
    "- **Recall of cults - 75%:** We identified 75% of the actual text from the r/cults subreddit, this is 6% higher than recall of the KNN model.\n",
    "- **Precision of cults - 77%:** When we predicted the text came from r/cults we got it right 77% of the time. So, 23% of of our predictions inaccuratly predicted r/cults. The precision score if much better than the KNN model.\n",
    "\n",
    "While Random Forrest Classifier did imporve our accuracy, percision, and recall, we do still see a unacceptable amount of overfitting. Possibly with tuning the hyperparameter we can decrease this overfitting for a better model.\n",
    "___"
   ]
  },
  {
   "cell_type": "markdown",
   "id": "neither-ending",
   "metadata": {},
   "source": [
    "<a id='NBbaselineModeling'></a>"
   ]
  },
  {
   "cell_type": "markdown",
   "id": "fitted-slave",
   "metadata": {},
   "source": [
    "## Baseline Model 3: Naïve Bayes & CVEC"
   ]
  },
  {
   "cell_type": "code",
   "execution_count": 487,
   "id": "protected-judges",
   "metadata": {},
   "outputs": [
    {
     "data": {
      "text/plain": [
       "GridSearchCV(cv=5,\n",
       "             estimator=Pipeline(steps=[('cvec', CountVectorizer()),\n",
       "                                       ('nb', MultinomialNB())]),\n",
       "             param_grid={'cvec__max_features': [1000],\n",
       "                         'cvec__ngram_range': [(1, 1), (2, 3)],\n",
       "                         'cvec__stop_words': [['i', 'me', 'my', 'myself', 'we',\n",
       "                                               'our', 'ours', 'ourselves',\n",
       "                                               'you', \"you're\", \"you've\",\n",
       "                                               \"you'll\", \"you'd\", 'your',\n",
       "                                               'yours', 'yourself',\n",
       "                                               'yourselves', 'he', 'him', 'his',\n",
       "                                               'himself', 'she', \"she's\", 'her',\n",
       "                                               'hers', 'herself', 'it', \"it's\",\n",
       "                                               'its', 'itself', ...]]})"
      ]
     },
     "execution_count": 487,
     "metadata": {},
     "output_type": "execute_result"
    }
   ],
   "source": [
    "#Baseline KNN model Pipeline:\n",
    "baseline_nb = Pipeline([\n",
    "    ('cvec', CountVectorizer()),\n",
    "    ('nb', MultinomialNB())\n",
    "])\n",
    "\n",
    "#Parameters for KNN baseline\n",
    "param_baseline_nb={\n",
    "    'cvec__max_features': [1_000 ],\n",
    "    'cvec__stop_words': [all_stopwords],\n",
    "    'cvec__ngram_range': [(1, 1), (2, 3)]}\n",
    "\n",
    "#Gridsearching over KNN baseline model\n",
    "gs_baseline_nb = GridSearchCV(baseline_nb,\n",
    "                  param_grid=param_baseline_nb, \n",
    "                  cv=5) # 5-fold cross-validation.\n",
    "\n",
    "#fitting the model\n",
    "gs_baseline_nb.fit(X_train, y_train)"
   ]
  },
  {
   "cell_type": "markdown",
   "id": "better-checklist",
   "metadata": {},
   "source": [
    "<a id='NBbaselineResults'></a>"
   ]
  },
  {
   "cell_type": "markdown",
   "id": "adequate-virgin",
   "metadata": {},
   "source": [
    "### Naïve Bayes & CVEC RESULTS\n",
    "---"
   ]
  },
  {
   "cell_type": "code",
   "execution_count": 488,
   "id": "several-found",
   "metadata": {},
   "outputs": [
    {
     "name": "stdout",
     "output_type": "stream",
     "text": [
      "Best Score: 0.7910477396333918\n",
      "Training auccuracy: 0.8120759837177748\n",
      "Test auccuracy: 0.78099173553719\n",
      "\n",
      "Order of classes:  ['cults' 'religion']\n",
      "\n",
      "Test Confusion Matrix: \n",
      "                  predicted cults  predicted religion\n",
      "actual cults                 636                  90\n",
      "actual religion              228                 498\n",
      "\n",
      "True Negatives: 636\n",
      "False Positives: 90\n",
      "False Negatives: 228\n",
      "True Positives: 498\n",
      "              precision    recall  f1-score   support\n",
      "\n",
      "       cults       0.74      0.88      0.80       726\n",
      "    religion       0.85      0.69      0.76       726\n",
      "\n",
      "    accuracy                           0.78      1452\n",
      "   macro avg       0.79      0.78      0.78      1452\n",
      "weighted avg       0.79      0.78      0.78      1452\n",
      "\n"
     ]
    },
    {
     "data": {
      "image/png": "[encoded data removed]",
      "text/plain": [
       "<Figure size 432x288 with 2 Axes>"
      ]
     },
     "metadata": {
      "needs_background": "light"
     },
     "output_type": "display_data"
    }
   ],
   "source": [
    "evaluation(gs_baseline_nb)"
   ]
  },
  {
   "cell_type": "markdown",
   "id": "deluxe-tumor",
   "metadata": {},
   "source": [
    "### Naïve Bayes & CVEC BASELINE MODEL:\n",
    "\n",
    "The results from the Naïve Bayes model with the CountVectorization transformer model performed better than the KNN baseline model and the Random Foresst baseline model both in terms of accuracy, but also overfitting, percision, and recall. The test and training accuracy are both higher and are only 3% apart. \n",
    "\n",
    "- **Recall of cults - 88%:** We identified 88% of the actual text from the r/cults subreddit. This is a 29% imporvment than the KNN baseline mode. \n",
    "- **Precision of cults - 74%:** When we predicted the text came from r/cults we got it right 74% of the time. So, 26% of of our predictions inaccuratly predicted r/cults.\n",
    "___"
   ]
  },
  {
   "cell_type": "markdown",
   "id": "informal-toilet",
   "metadata": {},
   "source": [
    "<a id='BaselineSummary'></a>"
   ]
  },
  {
   "cell_type": "markdown",
   "id": "smaller-flight",
   "metadata": {},
   "source": [
    "## BASELINE MODEL SUMMARY:\n",
    "\n",
    "#### Baseline Performance:\n",
    "\n",
    "| Model          | Transformer | Train Accuracy | Test Accuracy   | Recall (CULTS)  | Percision (CULTS)|          \n",
    "| -----------    | ----------- | ---------------|-----------------|-----------------|------------------|\n",
    "| KNN            | cvec        | 0.76           |0.64             |0.55             |0.68              |\n",
    "| Random Forest  | cvec        | 0.96           |0.76             |0.75             |0.77              |\n",
    "| Naïve Bayes    | cvec        | 0.81           |0.78             |0.88             |0.74              |\n",
    "\n",
    "\n",
    "Out of these three models the best performing in terms of Accuracy and recall is Naïve Bayes. Random Forest could possibly perform better in terms of overfitting with some hypertuning. Below I am going to optimize these two models further and tune their hyperparameters and test the transforer to see if the scores can be increase.\n",
    "\n",
    "---"
   ]
  },
  {
   "cell_type": "markdown",
   "id": "precise-butterfly",
   "metadata": {},
   "source": [
    "# Model Optimization\n",
    "\n",
    "## Model: Naive Bias & CVEC\n",
    "\n",
    "---"
   ]
  },
  {
   "cell_type": "code",
   "execution_count": 491,
   "id": "loving-rover",
   "metadata": {},
   "outputs": [
    {
     "data": {
      "text/plain": [
       "GridSearchCV(cv=5,\n",
       "             estimator=Pipeline(steps=[('cvec', CountVectorizer()),\n",
       "                                       ('nb', MultinomialNB())]),\n",
       "             param_grid=({'cvec__max_df': [0.85, 0.95],\n",
       "                          'cvec__max_features': [1000, 2000],\n",
       "                          'cvec__ngram_range': [(1, 1), (2, 3)],\n",
       "                          'cvec__stop_words': [['i', 'me', 'my', 'myself', 'we',\n",
       "                                                'our', 'ours', 'ourselves',\n",
       "                                                'you', \"you're\", \"you've\",\n",
       "                                                \"you'll\", \"you'd\", 'your',\n",
       "                                                'yours', 'yourself',\n",
       "                                                'yourselves', 'he', 'him',\n",
       "                                                'his', 'himself', 'she',\n",
       "                                                \"she's\", 'her', 'hers',\n",
       "                                                'herself', 'it', \"it's\", 'its',\n",
       "                                                'itself', ...]]},))"
      ]
     },
     "execution_count": 491,
     "metadata": {},
     "output_type": "execute_result"
    }
   ],
   "source": [
    "# Let's set a pipeline up with two stages:\n",
    "# 1. CountVectorizer (transformer)\n",
    "# 2. Multinomial Naive Bayes (estimator)\n",
    "\n",
    "pipe_nb_ = Pipeline([\n",
    "    ('cvec', CountVectorizer()),\n",
    "    ('nb', MultinomialNB())\n",
    "])\n",
    "\n",
    "param_grid_nb={\n",
    "    'cvec__max_df': [0.85, 0.95],\n",
    "    'cvec__max_features': [1000, 2000],\n",
    "    'cvec__stop_words': [all_stopwords],\n",
    "    'cvec__ngram_range': [(1, 1), (2, 3)]},\n",
    "\n",
    "nb_gs = GridSearchCV(pipe_nb, # what object are we optimizing?\n",
    "                  param_grid=param_grid_nb, # what parameters values are we searching?\n",
    "                  cv=5) # 5-fold cross-validation.\n",
    "\n",
    "# Fit GridSearch to training data.\n",
    "nb_gs.fit(X_train, y_train)"
   ]
  },
  {
   "cell_type": "code",
   "execution_count": 490,
   "id": "adult-membrane",
   "metadata": {},
   "outputs": [
    {
     "name": "stdout",
     "output_type": "stream",
     "text": [
      "Best Score: 0.7639124053984057\n",
      "Training auccuracy: 0.7778154681139756\n",
      "Test auccuracy: 0.7541322314049587\n",
      "\n",
      "Order of classes:  ['cults' 'religion']\n",
      "\n",
      "Test Confusion Matrix: \n",
      "                  predicted cults  predicted religion\n",
      "actual cults                 632                  94\n",
      "actual religion              263                 463\n",
      "\n",
      "True Negatives: 632\n",
      "False Positives: 94\n",
      "False Negatives: 263\n",
      "True Positives: 463\n",
      "              precision    recall  f1-score   support\n",
      "\n",
      "       cults       0.71      0.87      0.78       726\n",
      "    religion       0.83      0.64      0.72       726\n",
      "\n",
      "    accuracy                           0.75      1452\n",
      "   macro avg       0.77      0.75      0.75      1452\n",
      "weighted avg       0.77      0.75      0.75      1452\n",
      "\n"
     ]
    },
    {
     "data": {
      "image/png": "[encoded data removed]",
      "text/plain": [
       "<Figure size 432x288 with 2 Axes>"
      ]
     },
     "metadata": {
      "needs_background": "light"
     },
     "output_type": "display_data"
    }
   ],
   "source": [
    "evaluation(nb_gs)"
   ]
  },
  {
   "cell_type": "markdown",
   "id": "obvious-desktop",
   "metadata": {},
   "source": [
    "## Model 1.2 -  Naive Bias w/ TVEC"
   ]
  },
  {
   "cell_type": "code",
   "execution_count": 492,
   "id": "occupied-joseph",
   "metadata": {
    "scrolled": true
   },
   "outputs": [
    {
     "data": {
      "text/plain": [
       "GridSearchCV(cv=5,\n",
       "             estimator=Pipeline(steps=[('tvec', TfidfVectorizer()),\n",
       "                                       ('nb', MultinomialNB())]),\n",
       "             param_grid={'tvec__max_features': [6000, 3000, 4000, 5000],\n",
       "                         'tvec__ngram_range': [(1, 1), (1, 2)],\n",
       "                         'tvec__stop_words': [['i', 'me', 'my', 'myself', 'we',\n",
       "                                               'our', 'ours', 'ourselves',\n",
       "                                               'you', \"you're\", \"you've\",\n",
       "                                               \"you'll\", \"you'd\", 'your',\n",
       "                                               'yours', 'yourself',\n",
       "                                               'yourselves', 'he', 'him', 'his',\n",
       "                                               'himself', 'she', \"she's\", 'her',\n",
       "                                               'hers', 'herself', 'it', \"it's\",\n",
       "                                               'its', 'itself', ...]]})"
      ]
     },
     "execution_count": 492,
     "metadata": {},
     "output_type": "execute_result"
    }
   ],
   "source": [
    "# Instantiate and fit the transformer.\n",
    "tvec = TfidfVectorizer()\n",
    "\n",
    "pipe_tvec_nb = Pipeline([\n",
    "    ('tvec', TfidfVectorizer()),\n",
    "    ('nb', MultinomialNB())\n",
    "])\n",
    "\n",
    "pipe_tvec_params = {\n",
    "    'tvec__max_features': [6_000, 3_000, 4_000, 5_000],\n",
    "    'tvec__stop_words': [all_stopwords],\n",
    "    'tvec__ngram_range': [(1,1), (1,2)]\n",
    "}\n",
    "\n",
    "gs_tvec_nb = GridSearchCV(pipe_tvec_nb, # what object are we optimizing?\n",
    "                        param_grid = pipe_tvec_params, # what parameters values are we searching?\n",
    "                        cv=5) # 5-fold cross-validation.\n",
    "\n",
    "# Fit GridSearch to training data.\n",
    "gs_tvec_nb.fit(X_train, y_train)"
   ]
  },
  {
   "cell_type": "code",
   "execution_count": 495,
   "id": "unlikely-cleaning",
   "metadata": {},
   "outputs": [
    {
     "name": "stdout",
     "output_type": "stream",
     "text": [
      "{'tvec__max_features': 6000, 'tvec__ngram_range': (1, 1), 'tvec__stop_words': ['i', 'me', 'my', 'myself', 'we', 'our', 'ours', 'ourselves', 'you', \"you're\", \"you've\", \"you'll\", \"you'd\", 'your', 'yours', 'yourself', 'yourselves', 'he', 'him', 'his', 'himself', 'she', \"she's\", 'her', 'hers', 'herself', 'it', \"it's\", 'its', 'itself', 'they', 'them', 'their', 'theirs', 'themselves', 'what', 'which', 'who', 'whom', 'this', 'that', \"that'll\", 'these', 'those', 'am', 'is', 'are', 'was', 'were', 'be', 'been', 'being', 'have', 'has', 'had', 'having', 'do', 'does', 'did', 'doing', 'a', 'an', 'the', 'and', 'but', 'if', 'or', 'because', 'as', 'until', 'while', 'of', 'at', 'by', 'for', 'with', 'about', 'against', 'between', 'into', 'through', 'during', 'before', 'after', 'above', 'below', 'to', 'from', 'up', 'down', 'in', 'out', 'on', 'off', 'over', 'under', 'again', 'further', 'then', 'once', 'here', 'there', 'when', 'where', 'why', 'how', 'all', 'any', 'both', 'each', 'few', 'more', 'most', 'other', 'some', 'such', 'no', 'nor', 'not', 'only', 'own', 'same', 'so', 'than', 'too', 'very', 's', 't', 'can', 'will', 'just', 'don', \"don't\", 'should', \"should've\", 'now', 'd', 'll', 'm', 'o', 're', 've', 'y', 'ain', 'aren', \"aren't\", 'couldn', \"couldn't\", 'didn', \"didn't\", 'doesn', \"doesn't\", 'hadn', \"hadn't\", 'hasn', \"hasn't\", 'haven', \"haven't\", 'isn', \"isn't\", 'ma', 'mightn', \"mightn't\", 'mustn', \"mustn't\", 'needn', \"needn't\", 'shan', \"shan't\", 'shouldn', \"shouldn't\", 'wasn', \"wasn't\", 'weren', \"weren't\", 'won', \"won't\", 'wouldn', \"wouldn't\", 'religion', 'religions', 'cult', 'cults', 'religious', 'video', 'podcast', 'poll', 'view', 'also', 'even', 'amp', 'could', 'get', 'would', 'cant', 'like', 'something', 'things']}\n"
     ]
    }
   ],
   "source": [
    "#Looking at the best Params\n",
    "print(gs_tvec_nb.best_params_)"
   ]
  },
  {
   "cell_type": "code",
   "execution_count": 493,
   "id": "impaired-reproduction",
   "metadata": {},
   "outputs": [
    {
     "name": "stdout",
     "output_type": "stream",
     "text": [
      "Best Score: 0.8446387154326495\n",
      "Training auccuracy: 0.9277476255088195\n",
      "Test auccuracy: 0.837465564738292\n",
      "\n",
      "Order of classes:  ['cults' 'religion']\n",
      "\n",
      "Test Confusion Matrix: \n",
      "                  predicted cults  predicted religion\n",
      "actual cults                 635                  91\n",
      "actual religion              145                 581\n",
      "\n",
      "True Negatives: 635\n",
      "False Positives: 91\n",
      "False Negatives: 145\n",
      "True Positives: 581\n",
      "              precision    recall  f1-score   support\n",
      "\n",
      "       cults       0.81      0.87      0.84       726\n",
      "    religion       0.86      0.80      0.83       726\n",
      "\n",
      "    accuracy                           0.84      1452\n",
      "   macro avg       0.84      0.84      0.84      1452\n",
      "weighted avg       0.84      0.84      0.84      1452\n",
      "\n"
     ]
    },
    {
     "data": {
      "image/png": "[encoded data removed]",
      "text/plain": [
       "<Figure size 432x288 with 2 Axes>"
      ]
     },
     "metadata": {
      "needs_background": "light"
     },
     "output_type": "display_data"
    }
   ],
   "source": [
    "evaluation(gs_tvec_nb)"
   ]
  },
  {
   "cell_type": "markdown",
   "id": "vietnamese-airfare",
   "metadata": {},
   "source": [
    "### Naïve Bayes & TVEC  MODEL:\n",
    "\n",
    "The results from the Naïve Bayes model with the TIFIDVectorization transformer model performed better than the baseline model with CVEC. The training accuracy score increased to 0.92 and the testing accuracy score increased compared to the Naïve Bayes baseline model to 0.83. This model does seem overfit as the training score is 11% higher than the test score. To optimizae this further we need to add in better regularization.  \n",
    "\n",
    "- **Recall of cults - 87%:** We identified 87% of the actual text from the r/cults subreddit. This is about the same as the Naïve Bayes model in the baseline evaluation above. \n",
    "- **Precision of cults - 81%:** When we predicted the text came from r/cults we got it right 81% of the time. So, 19% of of our predictions inaccuratly predicted r/cults. This is an imporvment from the baseline.\n",
    "___"
   ]
  },
  {
   "cell_type": "markdown",
   "id": "whole-growing",
   "metadata": {},
   "source": [
    "# Optimizing Best Performing Models\n",
    "\n",
    "Below I am gogin to optimizing several of them models to attempt to get a better accuracy score through tuing the hyperparemeters.\n",
    "\n",
    "---"
   ]
  },
  {
   "cell_type": "code",
   "execution_count": 503,
   "id": "existing-apparel",
   "metadata": {},
   "outputs": [
    {
     "data": {
      "text/plain": [
       "GridSearchCV(cv=5,\n",
       "             estimator=Pipeline(steps=[('tvec', TfidfVectorizer()),\n",
       "                                       ('rf', RandomForestClassifier())]),\n",
       "             param_grid={'rf__criterion': ['gini', 'entropy'],\n",
       "                         'rf__max_depth': [200, 100],\n",
       "                         'tvec__max_features': [1000, 2000],\n",
       "                         'tvec__ngram_range': [(1, 1), (2, 3)],\n",
       "                         'tvec__stop_words': [['i', 'me', 'my', 'myself', 'we',\n",
       "                                               'our', 'ours', 'ourselves',\n",
       "                                               'you', \"you're\", \"you've\",\n",
       "                                               \"you'll\", \"you'd\", 'your',\n",
       "                                               'yours', 'yourself',\n",
       "                                               'yourselves', 'he', 'him', 'his',\n",
       "                                               'himself', 'she', \"she's\", 'her',\n",
       "                                               'hers', 'herself', 'it', \"it's\",\n",
       "                                               'its', 'itself', ...]]})"
      ]
     },
     "execution_count": 503,
     "metadata": {},
     "output_type": "execute_result"
    }
   ],
   "source": [
    "pipe_tvec_rf_2 = Pipeline([\n",
    "    ('tvec', TfidfVectorizer()),\n",
    "    ('rf', RandomForestClassifier())\n",
    "])\n",
    "\n",
    "rf_params_2 = {\n",
    "    'rf__criterion': ['gini','entropy'],\n",
    "    'rf__max_depth' : [200, 100],\n",
    "    'tvec__max_features': [1_000, 2_000],\n",
    "    'tvec__stop_words': [all_stopwords],\n",
    "    'tvec__ngram_range': [(1,1), (2,3)]\n",
    "}\n",
    "\n",
    "gs_rf_tvec_2 = GridSearchCV(pipe_tvec_rf_2, param_grid=rf_params_2, cv=5)\n",
    "gs_rf_tvec_2.fit(X_train, y_train)\n"
   ]
  },
  {
   "cell_type": "code",
   "execution_count": 505,
   "id": "animated-orbit",
   "metadata": {},
   "outputs": [],
   "source": [
    "#Looking at the best Params\n",
    "#print(gs_rf_tvec_2.best_params_)"
   ]
  },
  {
   "cell_type": "code",
   "execution_count": 504,
   "id": "severe-flood",
   "metadata": {},
   "outputs": [
    {
     "name": "stdout",
     "output_type": "stream",
     "text": [
      "Best Score: 0.7917153463209693\n",
      "Training auccuracy: 0.9606512890094979\n",
      "Test auccuracy: 0.7913223140495868\n",
      "\n",
      "Order of classes:  ['cults' 'religion']\n",
      "\n",
      "Test Confusion Matrix: \n",
      "                  predicted cults  predicted religion\n",
      "actual cults                 516                 210\n",
      "actual religion               93                 633\n",
      "\n",
      "True Negatives: 516\n",
      "False Positives: 210\n",
      "False Negatives: 93\n",
      "True Positives: 633\n",
      "              precision    recall  f1-score   support\n",
      "\n",
      "       cults       0.85      0.71      0.77       726\n",
      "    religion       0.75      0.87      0.81       726\n",
      "\n",
      "    accuracy                           0.79      1452\n",
      "   macro avg       0.80      0.79      0.79      1452\n",
      "weighted avg       0.80      0.79      0.79      1452\n",
      "\n"
     ]
    },
    {
     "data": {
      "image/png": "[encoded data removed]",
      "text/plain": [
       "<Figure size 432x288 with 2 Axes>"
      ]
     },
     "metadata": {
      "needs_background": "light"
     },
     "output_type": "display_data"
    }
   ],
   "source": [
    "evaluation(gs_rf_tvec_2)"
   ]
  },
  {
   "cell_type": "markdown",
   "id": "blocked-forum",
   "metadata": {},
   "source": [
    "#### Random Forest Classification & TVEC Evaluation:\n",
    "\n",
    "The above model with additional gridsearch through hyperparmeters in random forest classification did not perform as well as out optimized Naïve Bayes model with TVEC in terms of accuracy. We can also see that this model is still overfitting. The only aspect that did imporve was the percision score. "
   ]
  },
  {
   "cell_type": "markdown",
   "id": "unknown-aaron",
   "metadata": {},
   "source": [
    "## Model KNN Hypertuning:"
   ]
  },
  {
   "cell_type": "code",
   "execution_count": 511,
   "id": "tracked-orientation",
   "metadata": {
    "scrolled": true
   },
   "outputs": [
    {
     "data": {
      "text/plain": [
       "GridSearchCV(cv=5,\n",
       "             estimator=Pipeline(steps=[('tvec', TfidfVectorizer()),\n",
       "                                       ('knn', KNeighborsClassifier())]),\n",
       "             param_grid={'knn__n_neighbors': [2, 3], 'knn__p': [1, 2],\n",
       "                         'knn__weights': ['uniform', 'distance'],\n",
       "                         'tvec__max_features': [1000, 500],\n",
       "                         'tvec__ngram_range': [(1, 1), (1, 2)],\n",
       "                         'tvec__stop_words': [['i', 'me', 'my', 'myself', 'we',\n",
       "                                               'our', 'ours', 'ourselves',\n",
       "                                               'you', \"you're\", \"you've\",\n",
       "                                               \"you'll\", \"you'd\", 'your',\n",
       "                                               'yours', 'yourself',\n",
       "                                               'yourselves', 'he', 'him', 'his',\n",
       "                                               'himself', 'she', \"she's\", 'her',\n",
       "                                               'hers', 'herself', 'it', \"it's\",\n",
       "                                               'its', 'itself', ...]]})"
      ]
     },
     "execution_count": 511,
     "metadata": {},
     "output_type": "execute_result"
    }
   ],
   "source": [
    "#Baseline KNN model Pipeline:\n",
    "knn_pipe = Pipeline([\n",
    "    ('tvec', TfidfVectorizer()),\n",
    "    ('knn', KNeighborsClassifier(n_neighbors=5))\n",
    "])\n",
    "\n",
    "#Parameters for KNN baseline\n",
    "param_grid_knn_2={\n",
    "    'knn__n_neighbors':[2,3],\n",
    "    'knn__weights':['uniform','distance'],\n",
    "    'knn__p':[1,2],\n",
    "    'tvec__max_features': [1_000, 500],\n",
    "    'tvec__stop_words': [all_stopwords],\n",
    "    'tvec__ngram_range': [(1,1), (1,2)]}\n",
    "\n",
    "#Gridsearching over KNN baseline model\n",
    "gs_knn_2 = GridSearchCV(knn_pipe,\n",
    "                  param_grid=param_grid_knn_2, \n",
    "                  cv=5) # 5-fold cross-validation.\n",
    "# Instantiate and fit the transformer.\n",
    "#tvec = TfidfVectorizer()\n",
    "\n",
    "#pipe_tvec_nb = Pipeline([\n",
    " #   ('tvec', TfidfVectorizer()),\n",
    " #   ('nb', MultinomialNB())\n",
    "#])\n",
    "\n",
    "#pipe_tvec_params = {\n",
    "#    'tvec__max_features': [6_000, 3_000, 4_000, 5_000],\n",
    " #   'tvec__stop_words': [all_stopwords],\n",
    "#    'tvec__ngram_range': [(1,1), (1,2)]\n",
    "#}\n",
    "\n",
    "gs_knn_2 = GridSearchCV(knn_pipe, # what object are we optimizing?\n",
    "                        param_grid = param_grid_knn_2, # what parameters values are we searching?\n",
    "                        cv=5) # 5-fold cross-validation.\n",
    "\n",
    "# Fit GridSearch to training data.\n",
    "gs_knn_2.fit(X_train, y_train)"
   ]
  },
  {
   "cell_type": "code",
   "execution_count": 510,
   "id": "harmful-cuisine",
   "metadata": {},
   "outputs": [
    {
     "name": "stdout",
     "output_type": "stream",
     "text": [
      "{'cvec__max_features': 1000, 'cvec__ngram_range': (1, 1), 'cvec__stop_words': ['i', 'me', 'my', 'myself', 'we', 'our', 'ours', 'ourselves', 'you', \"you're\", \"you've\", \"you'll\", \"you'd\", 'your', 'yours', 'yourself', 'yourselves', 'he', 'him', 'his', 'himself', 'she', \"she's\", 'her', 'hers', 'herself', 'it', \"it's\", 'its', 'itself', 'they', 'them', 'their', 'theirs', 'themselves', 'what', 'which', 'who', 'whom', 'this', 'that', \"that'll\", 'these', 'those', 'am', 'is', 'are', 'was', 'were', 'be', 'been', 'being', 'have', 'has', 'had', 'having', 'do', 'does', 'did', 'doing', 'a', 'an', 'the', 'and', 'but', 'if', 'or', 'because', 'as', 'until', 'while', 'of', 'at', 'by', 'for', 'with', 'about', 'against', 'between', 'into', 'through', 'during', 'before', 'after', 'above', 'below', 'to', 'from', 'up', 'down', 'in', 'out', 'on', 'off', 'over', 'under', 'again', 'further', 'then', 'once', 'here', 'there', 'when', 'where', 'why', 'how', 'all', 'any', 'both', 'each', 'few', 'more', 'most', 'other', 'some', 'such', 'no', 'nor', 'not', 'only', 'own', 'same', 'so', 'than', 'too', 'very', 's', 't', 'can', 'will', 'just', 'don', \"don't\", 'should', \"should've\", 'now', 'd', 'll', 'm', 'o', 're', 've', 'y', 'ain', 'aren', \"aren't\", 'couldn', \"couldn't\", 'didn', \"didn't\", 'doesn', \"doesn't\", 'hadn', \"hadn't\", 'hasn', \"hasn't\", 'haven', \"haven't\", 'isn', \"isn't\", 'ma', 'mightn', \"mightn't\", 'mustn', \"mustn't\", 'needn', \"needn't\", 'shan', \"shan't\", 'shouldn', \"shouldn't\", 'wasn', \"wasn't\", 'weren', \"weren't\", 'won', \"won't\", 'wouldn', \"wouldn't\", 'religion', 'religions', 'cult', 'cults', 'religious', 'video', 'podcast', 'poll', 'view', 'also', 'even', 'amp', 'could', 'get', 'would', 'cant', 'like', 'something', 'things'], 'knn__n_neighbors': 3, 'knn__p': 2, 'knn__weights': 'distance'}\n"
     ]
    }
   ],
   "source": [
    "#Looking at the best Params\n",
    "print(gs_knn_2.best_params_)"
   ]
  },
  {
   "cell_type": "code",
   "execution_count": 509,
   "id": "broadband-virtue",
   "metadata": {},
   "outputs": [
    {
     "name": "stdout",
     "output_type": "stream",
     "text": [
      "Best Score: 0.8446387154326495\n",
      "Training auccuracy: 0.9277476255088195\n",
      "Test auccuracy: 0.837465564738292\n",
      "\n",
      "Order of classes:  ['cults' 'religion']\n",
      "\n",
      "Test Confusion Matrix: \n",
      "                  predicted cults  predicted religion\n",
      "actual cults                 635                  91\n",
      "actual religion              145                 581\n",
      "\n",
      "True Negatives: 635\n",
      "False Positives: 91\n",
      "False Negatives: 145\n",
      "True Positives: 581\n",
      "              precision    recall  f1-score   support\n",
      "\n",
      "       cults       0.81      0.87      0.84       726\n",
      "    religion       0.86      0.80      0.83       726\n",
      "\n",
      "    accuracy                           0.84      1452\n",
      "   macro avg       0.84      0.84      0.84      1452\n",
      "weighted avg       0.84      0.84      0.84      1452\n",
      "\n"
     ]
    },
    {
     "data": {
      "image/png": "[encoded data removed]",
      "text/plain": [
       "<Figure size 432x288 with 2 Axes>"
      ]
     },
     "metadata": {
      "needs_background": "light"
     },
     "output_type": "display_data"
    }
   ],
   "source": [
    "evaluation(gs_tvec_nb)"
   ]
  },
  {
   "cell_type": "markdown",
   "id": "ongoing-scholar",
   "metadata": {},
   "source": [
    "### Naïve Bayes & TVEC  MODEL:\n",
    "\n",
    "The results from the above Naïve Bayes model with the TIFIDVectorization transformer model performed better than the baseline model with CVEC. The training accuracy score increased to 0.92 and the testing accuracy score increased compared to the Naïve Bayes baseline model to 0.83. This model does seem overfit as the training score is 11% higher than the test score. To optimizae this further we need to add in better regularization.  \n",
    "\n",
    "- **Recall of cults - 87%:** We identified 87% of the actual text from the r/cults subreddit. This is about the same as the Naïve Bayes model in the baseline evaluation above. \n",
    "- **Precision of cults - 81%:** When we predicted the text came from r/cults we got it right 81% of the time. So, 19% of of our predictions inaccuratly predicted r/cults. This is an imporvment from the baseline.\n",
    "___"
   ]
  },
  {
   "cell_type": "markdown",
   "id": "least-blues",
   "metadata": {},
   "source": [
    "# Evaluation"
   ]
  },
  {
   "cell_type": "code",
   "execution_count": null,
   "id": "experimental-greece",
   "metadata": {},
   "outputs": [],
   "source": []
  }
 ],
 "metadata": {
  "kernelspec": {
   "display_name": "Python 3",
   "language": "python",
   "name": "python3"
  },
  "language_info": {
   "codemirror_mode": {
    "name": "ipython",
    "version": 3
   },
   "file_extension": ".py",
   "mimetype": "text/x-python",
   "name": "python",
   "nbconvert_exporter": "python",
   "pygments_lexer": "ipython3",
   "version": "3.8.5"
  }
 },
 "nbformat": 4,
 "nbformat_minor": 5
}
