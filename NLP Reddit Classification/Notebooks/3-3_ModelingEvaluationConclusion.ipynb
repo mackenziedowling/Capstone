{
 "cells": [
  {
   "cell_type": "markdown",
   "id": "toxic-caution",
   "metadata": {},
   "source": [
    "![title](../Images/CULTS%20vs.%20RELGION.png)"
   ]
  },
  {
   "cell_type": "markdown",
   "id": "waiting-indonesia",
   "metadata": {},
   "source": [
    "# Project 3: Modeling Selection\n",
    "\n",
    "---"
   ]
  },
  {
   "cell_type": "markdown",
   "id": "quantitative-wrapping",
   "metadata": {},
   "source": [
    "## Introduction\n",
    "\n",
    "In this notebook I am running several models with gridsearch and hyperparameter to find the model the best predicts the correct subreddit categorey based on the text of the post.\n",
    "\n",
    "---\n",
    "\n",
    "### Table of Content: \n",
    "- **Baseline Models**\n",
    "    - **[KNN Modeling](#knnbaselineModeling)** | [Baseline Evaluation](#knnbaselineresults) \n",
    "    - **[Random Forest Modeling](#rfbaselineModeling)** | [Baseline Evaluation](#rfbaselineResults)\n",
    "    - **[Naïve Bayes Modeling](NBbaselineModeling)** | [Baseline Evaluation](#NBbaselineResults)\n",
    "    - **[Basline Models Summary](#BaselineSummary)**\n",
    "- **[Models Optimization](#optimizing)**\n",
    "    - **[Naïve Bayes Model](#NBtvec)** | [Evaluation](#NBtveceval)\n",
    "    - **[Random Forest Model](#2)** | [Evaluation](#3)\n",
    "    - **[KNN Model](#4)** | [Evaluation](#5)\n",
    "- **[Best Model](#6)**\n",
    "    - **[Most Important Features](#9)**\n",
    "    - **[ROC CURVE & ROC SCORE](#10)**\n",
    "- **[Conclusion](#12)**\n",
    "\n",
    "\n",
    "### Notebooks:\n",
    "- **[API Data Collection & Data Cleaning Notebook](3-1_DataCollection.ipynb)**\n",
    "- **[Exploratory Analysis Notebook](3-2_ExploratoryDataAnalysis.ipynb)**\n",
    "\n",
    "---\n"
   ]
  },
  {
   "cell_type": "markdown",
   "id": "alive-lambda",
   "metadata": {},
   "source": [
    "### Importing necessary libraries:"
   ]
  },
  {
   "cell_type": "code",
   "execution_count": 374,
   "id": "polish-compact",
   "metadata": {},
   "outputs": [],
   "source": [
    "#import libraries\n",
    "# imports\n",
    "import pandas as pd\n",
    "import re\n",
    "import matplotlib.pyplot as plt\n",
    "from sklearn.model_selection import train_test_split, GridSearchCV\n",
    "from sklearn.pipeline import Pipeline\n",
    "from sklearn.naive_bayes import MultinomialNB\n",
    "from sklearn.linear_model import LogisticRegression\n",
    "from sklearn.metrics import confusion_matrix, plot_confusion_matrix\n",
    "import nltk\n",
    "from nltk.tokenize import RegexpTokenizer\n",
    "from nltk.stem import WordNetLemmatizer,PorterStemmer\n",
    "from nltk.corpus import stopwords\n",
    "from sklearn.ensemble import RandomForestClassifier, ExtraTreesClassifier\n",
    "from sklearn.metrics import confusion_matrix, classification_report\n",
    "from sklearn.metrics import accuracy_score, recall_score, precision_score\n",
    "from sklearn.preprocessing import StandardScaler\n",
    "from sklearn.neighbors import KNeighborsClassifier\n",
    "from sklearn.feature_extraction.text import CountVectorizer, TfidfVectorizer"
   ]
  },
  {
   "cell_type": "code",
   "execution_count": 85,
   "id": "focused-hammer",
   "metadata": {},
   "outputs": [],
   "source": [
    "#Read in dataset\n",
    "df = pd.read_csv('./religion_cults_reddit_preprocessing.csv')"
   ]
  },
  {
   "cell_type": "markdown",
   "id": "surrounded-warren",
   "metadata": {},
   "source": [
    "# Text Preprocessing:\n",
    "\n",
    "In the previous notebook for my Exploratory Analysis I created a function for cleaning the **text** column to a **cleanText** column. I am going to copy that workflow here to streamline the process and have a cleaner text column to vectorize off of for my modeling.\n",
    "\n",
    "---"
   ]
  },
  {
   "cell_type": "code",
   "execution_count": 87,
   "id": "cubic-morris",
   "metadata": {},
   "outputs": [],
   "source": [
    "lemmatizer = WordNetLemmatizer()\n",
    "stemmer = PorterStemmer() \n",
    "\n",
    "\n",
    "def preprocess(sentence):\n",
    "    sentence=str(sentence)\n",
    "    sentence = sentence.lower()\n",
    "    sentence=sentence.replace('{html}',\"\") \n",
    "    cleanr = re.compile('<.*?>')\n",
    "    cleantext = re.sub(cleanr, '', sentence)\n",
    "    rem_url=re.sub(r'http\\S+', '',cleantext)\n",
    "    rem_num = re.sub('[0-9]+', '', rem_url)\n",
    "    tokenizer = RegexpTokenizer(r'\\w+')\n",
    "    tokens = tokenizer.tokenize(rem_num)  \n",
    "    filtered_words = [w for w in tokens if len(w) > 2 if not w in stopwords.words('english')]\n",
    "    stem_words=[stemmer.stem(w) for w in filtered_words]\n",
    "    lemma_words=[lemmatizer.lemmatize(w) for w in filtered_words]\n",
    "    return \" \".join(filtered_words)"
   ]
  },
  {
   "cell_type": "code",
   "execution_count": 88,
   "id": "acting-gallery",
   "metadata": {},
   "outputs": [],
   "source": [
    "df['cleanText']=df['text'].map(lambda s:preprocess(s))"
   ]
  },
  {
   "cell_type": "markdown",
   "id": "precious-possible",
   "metadata": {},
   "source": [
    "# Modeling Preprocessing\n",
    "\n",
    "Below I am setting up my preprocessing for modeling. I am defining my X and y variables. My X variable will be the combined title and selftext column named **text** and my y-variable is the **subreddit** column. \n",
    "\n",
    "---"
   ]
  },
  {
   "cell_type": "code",
   "execution_count": 453,
   "id": "educational-diagram",
   "metadata": {},
   "outputs": [],
   "source": [
    "#Defining my X andn Y variables\n",
    "X = df['cleanText']\n",
    "y = df['subreddit']"
   ]
  },
  {
   "cell_type": "code",
   "execution_count": 454,
   "id": "enabling-basement",
   "metadata": {},
   "outputs": [
    {
     "data": {
      "text/plain": [
       "cults       0.5\n",
       "religion    0.5\n",
       "Name: subreddit, dtype: float64"
      ]
     },
     "execution_count": 454,
     "metadata": {},
     "output_type": "execute_result"
    }
   ],
   "source": [
    "# Check what we need to check in a classification problem.\n",
    "y.value_counts(normalize = True)"
   ]
  },
  {
   "cell_type": "code",
   "execution_count": 455,
   "id": "three-bacon",
   "metadata": {},
   "outputs": [],
   "source": [
    "# Split the data into the training and testing sets.\n",
    "X_train, X_test, y_train, y_test = train_test_split(X,\n",
    "                                                    y,\n",
    "                                                    test_size=0.33,\n",
    "                                                    stratify=y,\n",
    "                                                    random_state=42)"
   ]
  },
  {
   "cell_type": "markdown",
   "id": "decimal-parking",
   "metadata": {},
   "source": [
    "### Defining my additional stopwords from my EDA:\n",
    "\n",
    "--"
   ]
  },
  {
   "cell_type": "code",
   "execution_count": 525,
   "id": "broken-jackson",
   "metadata": {},
   "outputs": [],
   "source": [
    "all_stopwords = stopwords.words('english')\n",
    "all_stopwords.append('religion')\n",
    "all_stopwords.append('religions')\n",
    "all_stopwords.append('cult')\n",
    "all_stopwords.append('cults')\n",
    "all_stopwords.append('religious')\n",
    "all_stopwords.append('video')\n",
    "all_stopwords.append('podcast')\n",
    "all_stopwords.append('poll')\n",
    "all_stopwords.append('view')\n",
    "all_stopwords.append('also')\n",
    "all_stopwords.append('even')\n",
    "all_stopwords.append('amp')\n",
    "all_stopwords.append('could')\n",
    "all_stopwords.append('get')\n",
    "all_stopwords.append('would')\n",
    "all_stopwords.append('cant')\n",
    "all_stopwords.append('like')\n",
    "all_stopwords.append('something')\n",
    "all_stopwords.append('things')\n",
    "all_stopwords.append('anyone')\n",
    "all_stopwords.append('one')\n",
    "all_stopwords.append('know')"
   ]
  },
  {
   "cell_type": "markdown",
   "id": "illegal-demonstration",
   "metadata": {},
   "source": [
    "# Baseline Models:"
   ]
  },
  {
   "cell_type": "markdown",
   "id": "protective-basket",
   "metadata": {},
   "source": [
    "#### Below I am defining a function to run evaluaiton metrics across my models:"
   ]
  },
  {
   "cell_type": "code",
   "execution_count": 456,
   "id": "revised-appeal",
   "metadata": {},
   "outputs": [],
   "source": [
    "def evaluation(mdl):\n",
    "    results = {}\n",
    "    bestscore = mdl.best_score_\n",
    "    train_aucc = mdl.score(X_train, y_train)\n",
    "    test_aucc = mdl.score(X_test, y_test)\n",
    "    y_pred_train = mdl.predict(X_train)\n",
    "    y_pred_test = mdl.predict(X_test)\n",
    "    \n",
    "    print(f'Best Score: {bestscore}')\n",
    "    print(f'Training auccuracy: {train_aucc}')\n",
    "    print(f'Test auccuracy: {test_aucc}')\n",
    "    print()\n",
    "    \n",
    "    tn, fp, fn, tp = confusion_matrix(y_test, mdl.predict(X_test)).ravel() \n",
    "    plot_confusion_matrix(mdl, X_test, y_test, cmap='Blues', values_format='d');\n",
    "    \n",
    "    print('Order of classes: ', mdl.classes_)\n",
    "    confusion_df = pd.DataFrame(\n",
    "                    data=confusion_matrix(y_test, y_pred_test),\n",
    "                    index=[f'actual {target_class}' for target_class in mdl.classes_],\n",
    "                    columns=[f'predicted {target_class}' for target_class in mdl.classes_])\n",
    "    print('\\nTest Confusion Matrix: \\n', confusion_df)\n",
    "    \n",
    "    print()\n",
    "    print(\"True Negatives: %s\" % tn)\n",
    "    print(\"False Positives: %s\" % fp)  \n",
    "    print(\"False Negatives: %s\" % fn)\n",
    "    print(\"True Positives: %s\" % tp)\n",
    "    #print('\\nTest Confusion Matrix: \\n', confusion_df)\n",
    "    print(classification_report(y_test, y_pred_test))\n",
    "    # 5. Test recall and precision (if no samples, set recall/precision to 0)\n",
    "    results['test_recall'] = recall_score(y_test, y_pred_test, \n",
    "                                          pos_label='cults', zero_division=0)\n",
    "    results['test_precision'] = precision_score(y_test, y_pred_test,\n",
    "                                                pos_label='cults', zero_division=0)\n",
    "    "
   ]
  },
  {
   "cell_type": "markdown",
   "id": "judicial-decrease",
   "metadata": {},
   "source": [
    "<a id='knnbaselineModeling'></a>"
   ]
  },
  {
   "cell_type": "markdown",
   "id": "typical-rotation",
   "metadata": {},
   "source": [
    "## Baseline Model 1: KNN and CVEC"
   ]
  },
  {
   "cell_type": "code",
   "execution_count": 457,
   "id": "narrow-liberia",
   "metadata": {},
   "outputs": [],
   "source": [
    "from sklearn.neighbors import KNeighborsClassifier\n",
    "\n",
    "knn = KNeighborsClassifier(n_neighbors=5)\n"
   ]
  },
  {
   "cell_type": "code",
   "execution_count": 459,
   "id": "induced-stranger",
   "metadata": {},
   "outputs": [],
   "source": [
    "#Baseline KNN model Pipeline:\n",
    "baseline_knn = Pipeline([\n",
    "    ('cvec', CountVectorizer()),\n",
    "    ('knn', KNeighborsClassifier(n_neighbors=5))\n",
    "])\n",
    "\n",
    "#Parameters for KNN baseline\n",
    "param_grid_knn={\n",
    "    'cvec__max_features': [1_000 ],\n",
    "    'cvec__stop_words': [all_stopwords],\n",
    "    'cvec__ngram_range': [(1, 1), (2, 3)]}\n",
    "\n",
    "#Gridsearching over KNN baseline model\n",
    "gs_knn = GridSearchCV(baseline_knn,\n",
    "                  param_grid=param_grid_knn, \n",
    "                  cv=5) # 5-fold cross-validation."
   ]
  },
  {
   "cell_type": "code",
   "execution_count": 460,
   "id": "loose-muslim",
   "metadata": {},
   "outputs": [
    {
     "data": {
      "text/plain": [
       "GridSearchCV(cv=5,\n",
       "             estimator=Pipeline(steps=[('cvec', CountVectorizer()),\n",
       "                                       ('knn', KNeighborsClassifier())]),\n",
       "             param_grid={'cvec__max_features': [1000],\n",
       "                         'cvec__ngram_range': [(1, 1), (2, 3)],\n",
       "                         'cvec__stop_words': [['i', 'me', 'my', 'myself', 'we',\n",
       "                                               'our', 'ours', 'ourselves',\n",
       "                                               'you', \"you're\", \"you've\",\n",
       "                                               \"you'll\", \"you'd\", 'your',\n",
       "                                               'yours', 'yourself',\n",
       "                                               'yourselves', 'he', 'him', 'his',\n",
       "                                               'himself', 'she', \"she's\", 'her',\n",
       "                                               'hers', 'herself', 'it', \"it's\",\n",
       "                                               'its', 'itself', ...]]})"
      ]
     },
     "execution_count": 460,
     "metadata": {},
     "output_type": "execute_result"
    }
   ],
   "source": [
    "#fitting the model\n",
    "gs_knn.fit(X_train, y_train)"
   ]
  },
  {
   "cell_type": "markdown",
   "id": "greenhouse-workshop",
   "metadata": {},
   "source": [
    "<a id='knnbaselineresults'></a>"
   ]
  },
  {
   "cell_type": "markdown",
   "id": "suspected-orientation",
   "metadata": {},
   "source": [
    "### KNN & CVEC RESULTS\n",
    "---"
   ]
  },
  {
   "cell_type": "code",
   "execution_count": 461,
   "id": "normal-kennedy",
   "metadata": {},
   "outputs": [
    {
     "name": "stdout",
     "output_type": "stream",
     "text": [
      "Best Score: 0.6536819084342896\n",
      "Training auccuracy: 0.760854816824966\n",
      "Test auccuracy: 0.6460055096418733\n",
      "\n",
      "Order of classes:  ['cults' 'religion']\n",
      "\n",
      "Test Confusion Matrix: \n",
      "                  predicted cults  predicted religion\n",
      "actual cults                 396                 330\n",
      "actual religion              184                 542\n",
      "\n",
      "True Negatives: 396\n",
      "False Positives: 330\n",
      "False Negatives: 184\n",
      "True Positives: 542\n",
      "              precision    recall  f1-score   support\n",
      "\n",
      "       cults       0.68      0.55      0.61       726\n",
      "    religion       0.62      0.75      0.68       726\n",
      "\n",
      "    accuracy                           0.65      1452\n",
      "   macro avg       0.65      0.65      0.64      1452\n",
      "weighted avg       0.65      0.65      0.64      1452\n",
      "\n"
     ]
    },
    {
     "data": {
      "image/png": "[encoded data removed]",
      "text/plain": [
       "<Figure size 432x288 with 2 Axes>"
      ]
     },
     "metadata": {
      "needs_background": "light"
     },
     "output_type": "display_data"
    }
   ],
   "source": [
    "evaluation(gs_knn)"
   ]
  },
  {
   "cell_type": "markdown",
   "id": "forty-telescope",
   "metadata": {},
   "source": [
    "### KNN & CVEC BASELINE MODEL:\n",
    "\n",
    "The results from the KNN and CVEC model show a strong case of **overfitting** occurred since the training accuracy is nearly 10% higher than the test accuracy. The recall is 0.75 - So, we are identifying 75% of all the posts that came from r/religion correctly, but only identifying 55% of those that came from r/cults correctly. \n",
    "\n",
    "- **Recall of cults - 68%:** We identified 68% of the actual text from the r/cults subreddit\n",
    "- **Precision of cults - 55%:** When we predicted the text came from r/cults we got it right 55% of the time. So, 45% of of our predictions inaccuratly predicted r/cults.\n",
    "\n",
    "Intial take from this model is understand what score is best to optimize for. Is it better to correctly identifying cults with the risk of missclassifying a r/religion subbreddit as a r/cults subreddit? And thinking back to the problem statement how do start to find the right balance and trade-off to avoid any limitization we classifying these groups in regards to pop-culture language. \n",
    "\n",
    "\n",
    "With the next baseline models I am goign to run Naive Bias and random forests. Hopefully these models will help to reduce overfitting. \n",
    "___"
   ]
  },
  {
   "cell_type": "markdown",
   "id": "geological-combine",
   "metadata": {},
   "source": [
    "<a id='rfbaselineModeling'></a>"
   ]
  },
  {
   "cell_type": "markdown",
   "id": "union-tournament",
   "metadata": {},
   "source": [
    "## Baseline Model 2: Random Forest Classification & CVEC\n",
    "\n",
    "For each baseline I keeping the params the same using CountVectorizer as the transformer to be able to compare across consistent base."
   ]
  },
  {
   "cell_type": "code",
   "execution_count": 467,
   "id": "numeric-genetics",
   "metadata": {},
   "outputs": [
    {
     "data": {
      "text/plain": [
       "GridSearchCV(cv=5,\n",
       "             estimator=Pipeline(steps=[('cvec', CountVectorizer()),\n",
       "                                       ('rf', RandomForestClassifier())]),\n",
       "             param_grid={'cvec__max_features': [1000],\n",
       "                         'cvec__ngram_range': [(1, 1), (2, 3)],\n",
       "                         'cvec__stop_words': [['i', 'me', 'my', 'myself', 'we',\n",
       "                                               'our', 'ours', 'ourselves',\n",
       "                                               'you', \"you're\", \"you've\",\n",
       "                                               \"you'll\", \"you'd\", 'your',\n",
       "                                               'yours', 'yourself',\n",
       "                                               'yourselves', 'he', 'him', 'his',\n",
       "                                               'himself', 'she', \"she's\", 'her',\n",
       "                                               'hers', 'herself', 'it', \"it's\",\n",
       "                                               'its', 'itself', ...]]})"
      ]
     },
     "execution_count": 467,
     "metadata": {},
     "output_type": "execute_result"
    }
   ],
   "source": [
    "#Baseline rf model Pipeline:\n",
    "baseline_rf = Pipeline([\n",
    "    ('cvec', CountVectorizer()),\n",
    "    ('rf', RandomForestClassifier())\n",
    "])\n",
    "\n",
    "#Parameters for rf baseline\n",
    "param_grid_rf={\n",
    "    'cvec__max_features': [1_000 ],\n",
    "    'cvec__stop_words': [all_stopwords],\n",
    "    'cvec__ngram_range': [(1, 1), (2, 3)]}\n",
    "\n",
    "#Gridsearching over rf baseline model\n",
    "gs_rf = GridSearchCV(baseline_rf,\n",
    "                  param_grid=param_grid_rf, \n",
    "                  cv=5) # 5-fold cross-validation.\n",
    "\n",
    "#fitting the model\n",
    "gs_rf.fit(X_train, y_train)"
   ]
  },
  {
   "cell_type": "code",
   "execution_count": 3,
   "id": "amended-constitutional",
   "metadata": {},
   "outputs": [],
   "source": [
    "def timer(start_time=None):\n",
    "    if not start_time:\n",
    "        start_time = datetime.now()\n",
    "        return start_time\n",
    "    elif start_time:\n",
    "        thour, temp_sec = divmod((datetime.now() - start_time).total_seconds(), 3600)\n",
    "        tmin, tsec = divmod(temp_sec, 60)\n",
    "        print('\\n Time taken: %i hours %i minutes and %s seconds.' % (thour, tmin, round(tsec, 2)))\n"
   ]
  },
  {
   "cell_type": "markdown",
   "id": "applicable-scott",
   "metadata": {},
   "source": [
    "<a id='rfbaselineResults'></a>"
   ]
  },
  {
   "cell_type": "code",
   "execution_count": 2,
   "id": "funded-circus",
   "metadata": {},
   "outputs": [
    {
     "ename": "NameError",
     "evalue": "name 'XGBClassifier' is not defined",
     "output_type": "error",
     "traceback": [
      "\u001b[0;31m---------------------------------------------------------------------------\u001b[0m",
      "\u001b[0;31mNameError\u001b[0m                                 Traceback (most recent call last)",
      "\u001b[0;32m<ipython-input-2-6dced18d86fd>\u001b[0m in \u001b[0;36m<module>\u001b[0;34m\u001b[0m\n\u001b[0;32m----> 1\u001b[0;31m xgb = XGBClassifier(learning_rate=0.02, n_estimators=600, objective='binary:logistic',\n\u001b[0m\u001b[1;32m      2\u001b[0m                     silent=True, nthread=1)\n",
      "\u001b[0;31mNameError\u001b[0m: name 'XGBClassifier' is not defined"
     ]
    }
   ],
   "source": [
    "xgb = XGBClassifier(learning_rate=0.02, n_estimators=600, objective='binary:logistic',\n",
    "                    silent=True, nthread=1)"
   ]
  },
  {
   "cell_type": "markdown",
   "id": "answering-counter",
   "metadata": {},
   "source": [
    "### RANDOM FOREST CLASSIFIER & CVEC RESULTS\n",
    "---"
   ]
  },
  {
   "cell_type": "code",
   "execution_count": 468,
   "id": "imported-still",
   "metadata": {},
   "outputs": [
    {
     "name": "stdout",
     "output_type": "stream",
     "text": [
      "Best Score: 0.7811993899456131\n",
      "Training auccuracy: 0.9670963364993216\n",
      "Test auccuracy: 0.7644628099173554\n",
      "\n",
      "Order of classes:  ['cults' 'religion']\n",
      "\n",
      "Test Confusion Matrix: \n",
      "                  predicted cults  predicted religion\n",
      "actual cults                 545                 181\n",
      "actual religion              161                 565\n",
      "\n",
      "True Negatives: 545\n",
      "False Positives: 181\n",
      "False Negatives: 161\n",
      "True Positives: 565\n",
      "              precision    recall  f1-score   support\n",
      "\n",
      "       cults       0.77      0.75      0.76       726\n",
      "    religion       0.76      0.78      0.77       726\n",
      "\n",
      "    accuracy                           0.76      1452\n",
      "   macro avg       0.76      0.76      0.76      1452\n",
      "weighted avg       0.76      0.76      0.76      1452\n",
      "\n"
     ]
    },
    {
     "data": {
      "image/png": "[encoded data removed]",
      "text/plain": [
       "<Figure size 432x288 with 2 Axes>"
      ]
     },
     "metadata": {
      "needs_background": "light"
     },
     "output_type": "display_data"
    }
   ],
   "source": [
    "evaluation(gs_rf)"
   ]
  },
  {
   "cell_type": "markdown",
   "id": "dedicated-sunrise",
   "metadata": {},
   "source": [
    "### RANDOM FORREST CLASSIFICATION & CVEC BASELINE MODEL:\n",
    "\n",
    "The results from the Random Forest with the CountVectorization model show a even more severe case of **overfitting** than the KNN baseline model. This is evident in the fact that the training accuracy is nearly 20% higher than the test accuracy. \n",
    "\n",
    "The recall is 0.75 - So, we are identifying 75% of all the posts that came from r/religion correctly, but only identifying 55% of those that came from r/cults correctly. \n",
    "\n",
    "- **Recall of cults - 75%:** We identified 75% of the actual text from the r/cults subreddit, this is 6% higher than recall of the KNN model.\n",
    "- **Precision of cults - 77%:** When we predicted the text came from r/cults we got it right 77% of the time. So, 23% of of our predictions inaccuratly predicted r/cults. The precision score if much better than the KNN model.\n",
    "\n",
    "While Random Forrest Classifier did imporve our accuracy, percision, and recall, we do still see a unacceptable amount of overfitting. Possibly with tuning the hyperparameter we can decrease this overfitting for a better model.\n",
    "___"
   ]
  },
  {
   "cell_type": "markdown",
   "id": "likely-contract",
   "metadata": {},
   "source": [
    "<a id='NBbaselineModeling'></a>"
   ]
  },
  {
   "cell_type": "markdown",
   "id": "great-reservoir",
   "metadata": {},
   "source": [
    "## Baseline Model 3: Naïve Bayes & CVEC"
   ]
  },
  {
   "cell_type": "code",
   "execution_count": 487,
   "id": "sunset-vessel",
   "metadata": {},
   "outputs": [
    {
     "data": {
      "text/plain": [
       "GridSearchCV(cv=5,\n",
       "             estimator=Pipeline(steps=[('cvec', CountVectorizer()),\n",
       "                                       ('nb', MultinomialNB())]),\n",
       "             param_grid={'cvec__max_features': [1000],\n",
       "                         'cvec__ngram_range': [(1, 1), (2, 3)],\n",
       "                         'cvec__stop_words': [['i', 'me', 'my', 'myself', 'we',\n",
       "                                               'our', 'ours', 'ourselves',\n",
       "                                               'you', \"you're\", \"you've\",\n",
       "                                               \"you'll\", \"you'd\", 'your',\n",
       "                                               'yours', 'yourself',\n",
       "                                               'yourselves', 'he', 'him', 'his',\n",
       "                                               'himself', 'she', \"she's\", 'her',\n",
       "                                               'hers', 'herself', 'it', \"it's\",\n",
       "                                               'its', 'itself', ...]]})"
      ]
     },
     "execution_count": 487,
     "metadata": {},
     "output_type": "execute_result"
    }
   ],
   "source": [
    "#Baseline KNN model Pipeline:\n",
    "baseline_nb = Pipeline([\n",
    "    ('cvec', CountVectorizer()),\n",
    "    ('nb', MultinomialNB())\n",
    "])\n",
    "\n",
    "#Parameters for KNN baseline\n",
    "param_baseline_nb={\n",
    "    'cvec__max_features': [1_000 ],\n",
    "    'cvec__stop_words': [all_stopwords],\n",
    "    'cvec__ngram_range': [(1, 1), (2, 3)]}\n",
    "\n",
    "#Gridsearching over KNN baseline model\n",
    "gs_baseline_nb = GridSearchCV(baseline_nb,\n",
    "                  param_grid=param_baseline_nb, \n",
    "                  cv=5) # 5-fold cross-validation.\n",
    "\n",
    "#fitting the model\n",
    "gs_baseline_nb.fit(X_train, y_train)"
   ]
  },
  {
   "cell_type": "markdown",
   "id": "aware-saying",
   "metadata": {},
   "source": [
    "<a id='NBbaselineResults'></a>"
   ]
  },
  {
   "cell_type": "markdown",
   "id": "varied-jungle",
   "metadata": {},
   "source": [
    "### Naïve Bayes & CVEC RESULTS\n",
    "---"
   ]
  },
  {
   "cell_type": "code",
   "execution_count": 488,
   "id": "retired-moderator",
   "metadata": {},
   "outputs": [
    {
     "name": "stdout",
     "output_type": "stream",
     "text": [
      "Best Score: 0.7910477396333918\n",
      "Training auccuracy: 0.8120759837177748\n",
      "Test auccuracy: 0.78099173553719\n",
      "\n",
      "Order of classes:  ['cults' 'religion']\n",
      "\n",
      "Test Confusion Matrix: \n",
      "                  predicted cults  predicted religion\n",
      "actual cults                 636                  90\n",
      "actual religion              228                 498\n",
      "\n",
      "True Negatives: 636\n",
      "False Positives: 90\n",
      "False Negatives: 228\n",
      "True Positives: 498\n",
      "              precision    recall  f1-score   support\n",
      "\n",
      "       cults       0.74      0.88      0.80       726\n",
      "    religion       0.85      0.69      0.76       726\n",
      "\n",
      "    accuracy                           0.78      1452\n",
      "   macro avg       0.79      0.78      0.78      1452\n",
      "weighted avg       0.79      0.78      0.78      1452\n",
      "\n"
     ]
    },
    {
     "data": {
      "image/png": "[encoded data removed]",
      "text/plain": [
       "<Figure size 432x288 with 2 Axes>"
      ]
     },
     "metadata": {
      "needs_background": "light"
     },
     "output_type": "display_data"
    }
   ],
   "source": [
    "evaluation(gs_baseline_nb)"
   ]
  },
  {
   "cell_type": "markdown",
   "id": "valued-shopping",
   "metadata": {},
   "source": [
    "### Naïve Bayes & CVEC BASELINE MODEL:\n",
    "\n",
    "The results from the Naïve Bayes model with the CountVectorization transformer model performed better than the KNN baseline model and the Random Foresst baseline model both in terms of accuracy, but also overfitting, percision, and recall. The test and training accuracy are both higher and are only 3% apart. \n",
    "\n",
    "- **Recall of cults - 88%:** We identified 88% of the actual text from the r/cults subreddit. This is a 29% imporvment than the KNN baseline mode. \n",
    "- **Precision of cults - 74%:** When we predicted the text came from r/cults we got it right 74% of the time. So, 26% of of our predictions inaccuratly predicted r/cults.\n",
    "___"
   ]
  },
  {
   "cell_type": "markdown",
   "id": "environmental-compromise",
   "metadata": {},
   "source": [
    "<a id='BaselineSummary'></a>"
   ]
  },
  {
   "cell_type": "markdown",
   "id": "expanded-substitute",
   "metadata": {},
   "source": [
    "## BASELINE MODEL SUMMARY:\n",
    "\n",
    "#### Baseline Performance:\n",
    "\n",
    "| Model          | Transformer | Train Accuracy | Test Accuracy   | Recall          | Percision        |          \n",
    "| -----------    | ----------- | ---------------|-----------------|-----------------|------------------|\n",
    "| KNN            | cvec        | 0.76           |0.64             |0.55             |0.68              |\n",
    "| Random Forest  | cvec        | 0.96           |0.76             |0.75             |0.77              |\n",
    "| Naïve Bayes    | cvec        | 0.81           |0.78             |0.88             |0.74              |\n",
    "\n",
    "\n",
    "Out of these three models the best performing in terms of Accuracy and recall is Naïve Bayes. Random Forest could possibly perform better in terms of overfitting with some hypertuning. Below I am going to optimize these two models further and tune their hyperparameters and test the transforer to see if the scores can be increase. As for compared to the true baseline of 50% accuracy each of these models did outperform.\n",
    "\n",
    "---"
   ]
  },
  {
   "cell_type": "markdown",
   "id": "portable-lambda",
   "metadata": {},
   "source": [
    "<a id='optimizing'></a>\n",
    "\n",
    "# Optimizing For Best Performing Models\n",
    "\n",
    "Below I am going to be optimizing several of the models from above to attempt to get a better accuracy score through tuing the hyperparemeters. For each model below I an trying TIFD vectorizer and transfomer to see if the weighted calcuation that it creates performs better than the CountVectorizer transformer above.\n",
    "\n",
    "---"
   ]
  },
  {
   "cell_type": "markdown",
   "id": "completed-uniform",
   "metadata": {},
   "source": [
    "<a id='NBtvec'></a>\n",
    "### Hypertuning -  Naive Bias & TVEC"
   ]
  },
  {
   "cell_type": "code",
   "execution_count": 566,
   "id": "impossible-morris",
   "metadata": {
    "scrolled": true
   },
   "outputs": [
    {
     "data": {
      "text/plain": [
       "GridSearchCV(cv=5,\n",
       "             estimator=Pipeline(steps=[('tvec', TfidfVectorizer()),\n",
       "                                       ('nb', MultinomialNB())]),\n",
       "             param_grid={'tvec__max_features': [6000, 3000, 4000, 5000],\n",
       "                         'tvec__ngram_range': [(1, 1), (1, 2)],\n",
       "                         'tvec__stop_words': [['i', 'me', 'my', 'myself', 'we',\n",
       "                                               'our', 'ours', 'ourselves',\n",
       "                                               'you', \"you're\", \"you've\",\n",
       "                                               \"you'll\", \"you'd\", 'your',\n",
       "                                               'yours', 'yourself',\n",
       "                                               'yourselves', 'he', 'him', 'his',\n",
       "                                               'himself', 'she', \"she's\", 'her',\n",
       "                                               'hers', 'herself', 'it', \"it's\",\n",
       "                                               'its', 'itself', ...]]})"
      ]
     },
     "execution_count": 566,
     "metadata": {},
     "output_type": "execute_result"
    }
   ],
   "source": [
    "# Instantiate and fit the transformer.\n",
    "tvec = TfidfVectorizer()\n",
    "\n",
    "pipe_tvec_nb = Pipeline([\n",
    "    ('tvec', TfidfVectorizer()),\n",
    "    ('nb', MultinomialNB())\n",
    "])\n",
    "\n",
    "pipe_tvec_params = {\n",
    "    'tvec__max_features': [6_000, 3_000, 4_000, 5_000],\n",
    "    'tvec__stop_words': [all_stopwords],\n",
    "    'tvec__ngram_range': [(1,1), (1,2)]\n",
    "}\n",
    "\n",
    "gs_tvec_nb = GridSearchCV(pipe_tvec_nb, # what object are we optimizing?\n",
    "                        param_grid = pipe_tvec_params, # what parameters values are we searching?\n",
    "                        cv=5) # 5-fold cross-validation.\n",
    "\n",
    "# Fit GridSearch to training data.\n",
    "gs_tvec_nb.fit(X_train, y_train)"
   ]
  },
  {
   "cell_type": "code",
   "execution_count": 608,
   "id": "daily-kidney",
   "metadata": {},
   "outputs": [
    {
     "name": "stdout",
     "output_type": "stream",
     "text": [
      "{'tvec__max_features': 5000, 'tvec__ngram_range': (1, 1), 'tvec__stop_words': ['i', 'me', 'my', 'myself', 'we', 'our', 'ours', 'ourselves', 'you', \"you're\", \"you've\", \"you'll\", \"you'd\", 'your', 'yours', 'yourself', 'yourselves', 'he', 'him', 'his', 'himself', 'she', \"she's\", 'her', 'hers', 'herself', 'it', \"it's\", 'its', 'itself', 'they', 'them', 'their', 'theirs', 'themselves', 'what', 'which', 'who', 'whom', 'this', 'that', \"that'll\", 'these', 'those', 'am', 'is', 'are', 'was', 'were', 'be', 'been', 'being', 'have', 'has', 'had', 'having', 'do', 'does', 'did', 'doing', 'a', 'an', 'the', 'and', 'but', 'if', 'or', 'because', 'as', 'until', 'while', 'of', 'at', 'by', 'for', 'with', 'about', 'against', 'between', 'into', 'through', 'during', 'before', 'after', 'above', 'below', 'to', 'from', 'up', 'down', 'in', 'out', 'on', 'off', 'over', 'under', 'again', 'further', 'then', 'once', 'here', 'there', 'when', 'where', 'why', 'how', 'all', 'any', 'both', 'each', 'few', 'more', 'most', 'other', 'some', 'such', 'no', 'nor', 'not', 'only', 'own', 'same', 'so', 'than', 'too', 'very', 's', 't', 'can', 'will', 'just', 'don', \"don't\", 'should', \"should've\", 'now', 'd', 'll', 'm', 'o', 're', 've', 'y', 'ain', 'aren', \"aren't\", 'couldn', \"couldn't\", 'didn', \"didn't\", 'doesn', \"doesn't\", 'hadn', \"hadn't\", 'hasn', \"hasn't\", 'haven', \"haven't\", 'isn', \"isn't\", 'ma', 'mightn', \"mightn't\", 'mustn', \"mustn't\", 'needn', \"needn't\", 'shan', \"shan't\", 'shouldn', \"shouldn't\", 'wasn', \"wasn't\", 'weren', \"weren't\", 'won', \"won't\", 'wouldn', \"wouldn't\", 'religion', 'religions', 'cult', 'cults', 'religious', 'video', 'podcast', 'poll', 'view', 'also', 'even', 'amp', 'could', 'get', 'would', 'cant', 'like', 'something', 'things', 'anyone', 'one', 'know']}\n"
     ]
    }
   ],
   "source": [
    "#Looking at the best Params\n",
    "print(gs_tvec_nb.best_params_)"
   ]
  },
  {
   "cell_type": "markdown",
   "id": "alleged-publication",
   "metadata": {},
   "source": [
    "<a id='NBtveceval'></a>\n",
    "#### NAIVE BAYES & TVEC  MODEL EVALUATION:\n",
    "\n",
    "The results from the Naïve Bayes model with the TIFIDVectorization transformer model performed better than the baseline model with CVEC. The training accuracy score increased to 0.92 and the testing accuracy score increased compared to the Naïve Bayes baseline model to 0.83. This model does seem to overfit as the training score is 11% higher than the test score. To optimize this further we need to add in better regularization.  \n",
    "\n",
    "- **Recall of cults - 87%:** We identified 87% of the actual text from the r/cults subreddit. This is about the same as the Naïve Bayes model in the baseline evaluation above. \n",
    "- **Precision of cults - 81%:** When we predicted the text came from r/cults we got it right 81% of the time. So, 19% of our predictions inaccurately predicted r/cults. This is an improvement from the baseline.\n",
    "\n"
   ]
  },
  {
   "cell_type": "code",
   "execution_count": 609,
   "id": "minor-reset",
   "metadata": {},
   "outputs": [
    {
     "name": "stdout",
     "output_type": "stream",
     "text": [
      "Best Score: 0.84328105666024\n",
      "Training auccuracy: 0.9226594301221167\n",
      "Test auccuracy: 0.8333333333333334\n",
      "\n",
      "Order of classes:  ['cults' 'religion']\n",
      "\n",
      "Test Confusion Matrix: \n",
      "                  predicted cults  predicted religion\n",
      "actual cults                 628                  98\n",
      "actual religion              144                 582\n",
      "\n",
      "True Negatives: 628\n",
      "False Positives: 98\n",
      "False Negatives: 144\n",
      "True Positives: 582\n",
      "              precision    recall  f1-score   support\n",
      "\n",
      "       cults       0.81      0.87      0.84       726\n",
      "    religion       0.86      0.80      0.83       726\n",
      "\n",
      "    accuracy                           0.83      1452\n",
      "   macro avg       0.83      0.83      0.83      1452\n",
      "weighted avg       0.83      0.83      0.83      1452\n",
      "\n"
     ]
    },
    {
     "data": {
      "image/png": "[encoded data removed]",
      "text/plain": [
       "<Figure size 432x288 with 2 Axes>"
      ]
     },
     "metadata": {},
     "output_type": "display_data"
    }
   ],
   "source": [
    "evaluation(gs_tvec_nb)"
   ]
  },
  {
   "cell_type": "markdown",
   "id": "intellectual-briefing",
   "metadata": {},
   "source": [
    "---"
   ]
  },
  {
   "cell_type": "markdown",
   "id": "incident-lecture",
   "metadata": {},
   "source": [
    "<a id='2'></a>\n",
    "### Hypertuning: Random Forest & tvec"
   ]
  },
  {
   "cell_type": "code",
   "execution_count": 503,
   "id": "intended-fourth",
   "metadata": {},
   "outputs": [
    {
     "data": {
      "text/plain": [
       "GridSearchCV(cv=5,\n",
       "             estimator=Pipeline(steps=[('tvec', TfidfVectorizer()),\n",
       "                                       ('rf', RandomForestClassifier())]),\n",
       "             param_grid={'rf__criterion': ['gini', 'entropy'],\n",
       "                         'rf__max_depth': [200, 100],\n",
       "                         'tvec__max_features': [1000, 2000],\n",
       "                         'tvec__ngram_range': [(1, 1), (2, 3)],\n",
       "                         'tvec__stop_words': [['i', 'me', 'my', 'myself', 'we',\n",
       "                                               'our', 'ours', 'ourselves',\n",
       "                                               'you', \"you're\", \"you've\",\n",
       "                                               \"you'll\", \"you'd\", 'your',\n",
       "                                               'yours', 'yourself',\n",
       "                                               'yourselves', 'he', 'him', 'his',\n",
       "                                               'himself', 'she', \"she's\", 'her',\n",
       "                                               'hers', 'herself', 'it', \"it's\",\n",
       "                                               'its', 'itself', ...]]})"
      ]
     },
     "execution_count": 503,
     "metadata": {},
     "output_type": "execute_result"
    }
   ],
   "source": [
    "pipe_tvec_rf_2 = Pipeline([\n",
    "    ('tvec', TfidfVectorizer()),\n",
    "    ('rf', RandomForestClassifier())\n",
    "])\n",
    "\n",
    "rf_params_2 = {\n",
    "    'rf__criterion': ['gini','entropy'],\n",
    "    'rf__max_depth' : [200, 100],\n",
    "    'tvec__max_features': [1_000, 2_000],\n",
    "    'tvec__stop_words': [all_stopwords],\n",
    "    'tvec__ngram_range': [(1,1), (2,3)]\n",
    "}\n",
    "\n",
    "gs_rf_tvec_2 = GridSearchCV(pipe_tvec_rf_2, param_grid=rf_params_2, cv=5)\n",
    "gs_rf_tvec_2.fit(X_train, y_train)\n"
   ]
  },
  {
   "cell_type": "code",
   "execution_count": 505,
   "id": "stylish-external",
   "metadata": {},
   "outputs": [],
   "source": [
    "#Looking at the best Params\n",
    "#print(gs_rf_tvec_2.best_params_)"
   ]
  },
  {
   "cell_type": "markdown",
   "id": "presidential-survival",
   "metadata": {},
   "source": [
    "<a id='3'></a>\n",
    "#### RANDOM FOREST & TVEC MODEL EVALUATION:\n",
    "\n",
    "The above model with additional gridsearch through hyperparmeters in random forest classification did not perform as well as out optimized Naïve Bayes model with TVEC in terms of accuracy. We can also see that this model is still overfitting. The only aspect that did imporve was the percision score. "
   ]
  },
  {
   "cell_type": "code",
   "execution_count": 504,
   "id": "enormous-closer",
   "metadata": {},
   "outputs": [
    {
     "name": "stdout",
     "output_type": "stream",
     "text": [
      "Best Score: 0.7917153463209693\n",
      "Training auccuracy: 0.9606512890094979\n",
      "Test auccuracy: 0.7913223140495868\n",
      "\n",
      "Order of classes:  ['cults' 'religion']\n",
      "\n",
      "Test Confusion Matrix: \n",
      "                  predicted cults  predicted religion\n",
      "actual cults                 516                 210\n",
      "actual religion               93                 633\n",
      "\n",
      "True Negatives: 516\n",
      "False Positives: 210\n",
      "False Negatives: 93\n",
      "True Positives: 633\n",
      "              precision    recall  f1-score   support\n",
      "\n",
      "       cults       0.85      0.71      0.77       726\n",
      "    religion       0.75      0.87      0.81       726\n",
      "\n",
      "    accuracy                           0.79      1452\n",
      "   macro avg       0.80      0.79      0.79      1452\n",
      "weighted avg       0.80      0.79      0.79      1452\n",
      "\n"
     ]
    },
    {
     "data": {
      "image/png": "[encoded data removed]",
      "text/plain": [
       "<Figure size 432x288 with 2 Axes>"
      ]
     },
     "metadata": {
      "needs_background": "light"
     },
     "output_type": "display_data"
    }
   ],
   "source": [
    "evaluation(gs_rf_tvec_2)"
   ]
  },
  {
   "cell_type": "markdown",
   "id": "proof-aberdeen",
   "metadata": {},
   "source": [
    "---"
   ]
  },
  {
   "cell_type": "markdown",
   "id": "surprising-sector",
   "metadata": {},
   "source": [
    "<a id='4'></a>\n",
    "### Hypertuning: KNN & TVEC"
   ]
  },
  {
   "cell_type": "code",
   "execution_count": 514,
   "id": "distinguished-database",
   "metadata": {
    "scrolled": true
   },
   "outputs": [
    {
     "data": {
      "text/plain": [
       "GridSearchCV(cv=5,\n",
       "             estimator=Pipeline(steps=[('tvec', TfidfVectorizer()),\n",
       "                                       ('knn', KNeighborsClassifier())]),\n",
       "             param_grid={'knn__n_neighbors': [2], 'knn__p': [1, 2],\n",
       "                         'knn__weights': ['uniform', 'distance'],\n",
       "                         'tvec__max_features': [1000, 1500],\n",
       "                         'tvec__ngram_range': [(1, 1), (1, 2)],\n",
       "                         'tvec__stop_words': [['i', 'me', 'my', 'myself', 'we',\n",
       "                                               'our', 'ours', 'ourselves',\n",
       "                                               'you', \"you're\", \"you've\",\n",
       "                                               \"you'll\", \"you'd\", 'your',\n",
       "                                               'yours', 'yourself',\n",
       "                                               'yourselves', 'he', 'him', 'his',\n",
       "                                               'himself', 'she', \"she's\", 'her',\n",
       "                                               'hers', 'herself', 'it', \"it's\",\n",
       "                                               'its', 'itself', ...]]})"
      ]
     },
     "execution_count": 514,
     "metadata": {},
     "output_type": "execute_result"
    }
   ],
   "source": [
    "#Baseline KNN model Pipeline:\n",
    "knn_pipe = Pipeline([\n",
    "    ('tvec', TfidfVectorizer()),\n",
    "    ('knn', KNeighborsClassifier(n_neighbors=5))\n",
    "])\n",
    "\n",
    "#Parameters for KNN baseline\n",
    "param_grid_knn_2={\n",
    "    'knn__n_neighbors':[2],\n",
    "    'knn__weights':['uniform','distance'],\n",
    "    'knn__p':[1,2],\n",
    "    'tvec__max_features': [1_000, 1_500],\n",
    "    'tvec__stop_words': [all_stopwords],\n",
    "    'tvec__ngram_range': [(1,1), (1,2)]}\n",
    "\n",
    "#Gridsearching over KNN baseline model\n",
    "gs_knn_2 = GridSearchCV(knn_pipe,\n",
    "                  param_grid=param_grid_knn_2, \n",
    "                  cv=5) # 5-fold cross-validation.\n",
    "# Instantiate and fit the transformer.\n",
    "#tvec = TfidfVectorizer()\n",
    "\n",
    "#pipe_tvec_nb = Pipeline([\n",
    " #   ('tvec', TfidfVectorizer()),\n",
    " #   ('nb', MultinomialNB())\n",
    "#])\n",
    "\n",
    "#pipe_tvec_params = {\n",
    "#    'tvec__max_features': [6_000, 3_000, 4_000, 5_000],\n",
    " #   'tvec__stop_words': [all_stopwords],\n",
    "#    'tvec__ngram_range': [(1,1), (1,2)]\n",
    "#}\n",
    "\n",
    "gs_knn_2 = GridSearchCV(knn_pipe, # what object are we optimizing?\n",
    "                        param_grid = param_grid_knn_2, # what parameters values are we searching?\n",
    "                        cv=5) # 5-fold cross-validation.\n",
    "\n",
    "# Fit GridSearch to training data.\n",
    "gs_knn_2.fit(X_train, y_train)"
   ]
  },
  {
   "cell_type": "code",
   "execution_count": 515,
   "id": "developed-skill",
   "metadata": {},
   "outputs": [
    {
     "name": "stdout",
     "output_type": "stream",
     "text": [
      "{'knn__n_neighbors': 2, 'knn__p': 2, 'knn__weights': 'distance', 'tvec__max_features': 1000, 'tvec__ngram_range': (1, 1), 'tvec__stop_words': ['i', 'me', 'my', 'myself', 'we', 'our', 'ours', 'ourselves', 'you', \"you're\", \"you've\", \"you'll\", \"you'd\", 'your', 'yours', 'yourself', 'yourselves', 'he', 'him', 'his', 'himself', 'she', \"she's\", 'her', 'hers', 'herself', 'it', \"it's\", 'its', 'itself', 'they', 'them', 'their', 'theirs', 'themselves', 'what', 'which', 'who', 'whom', 'this', 'that', \"that'll\", 'these', 'those', 'am', 'is', 'are', 'was', 'were', 'be', 'been', 'being', 'have', 'has', 'had', 'having', 'do', 'does', 'did', 'doing', 'a', 'an', 'the', 'and', 'but', 'if', 'or', 'because', 'as', 'until', 'while', 'of', 'at', 'by', 'for', 'with', 'about', 'against', 'between', 'into', 'through', 'during', 'before', 'after', 'above', 'below', 'to', 'from', 'up', 'down', 'in', 'out', 'on', 'off', 'over', 'under', 'again', 'further', 'then', 'once', 'here', 'there', 'when', 'where', 'why', 'how', 'all', 'any', 'both', 'each', 'few', 'more', 'most', 'other', 'some', 'such', 'no', 'nor', 'not', 'only', 'own', 'same', 'so', 'than', 'too', 'very', 's', 't', 'can', 'will', 'just', 'don', \"don't\", 'should', \"should've\", 'now', 'd', 'll', 'm', 'o', 're', 've', 'y', 'ain', 'aren', \"aren't\", 'couldn', \"couldn't\", 'didn', \"didn't\", 'doesn', \"doesn't\", 'hadn', \"hadn't\", 'hasn', \"hasn't\", 'haven', \"haven't\", 'isn', \"isn't\", 'ma', 'mightn', \"mightn't\", 'mustn', \"mustn't\", 'needn', \"needn't\", 'shan', \"shan't\", 'shouldn', \"shouldn't\", 'wasn', \"wasn't\", 'weren', \"weren't\", 'won', \"won't\", 'wouldn', \"wouldn't\", 'religion', 'religions', 'cult', 'cults', 'religious', 'video', 'podcast', 'poll', 'view', 'also', 'even', 'amp', 'could', 'get', 'would', 'cant', 'like', 'something', 'things']}\n"
     ]
    }
   ],
   "source": [
    "#Looking at the best Params\n",
    "print(gs_knn_2.best_params_)"
   ]
  },
  {
   "cell_type": "markdown",
   "id": "burning-indicator",
   "metadata": {},
   "source": [
    "<a id='5'></a>\n",
    "#### KNN & TVEC  MODEL EVALUATION:\n",
    "\n",
    "The results from the above KNN model with the TIFIDVectorization transformer model performed worse than all other models. The model is overfit with a training accuracy score of 0.95 a testing accuracy score  of 0.63. Percision and recall decrease signifigantly as well compared to the baseline KNN model. \n",
    "\n",
    "---"
   ]
  },
  {
   "cell_type": "code",
   "execution_count": 516,
   "id": "double-winning",
   "metadata": {},
   "outputs": [
    {
     "name": "stdout",
     "output_type": "stream",
     "text": [
      "Best Score: 0.6217812437052171\n",
      "Training auccuracy: 0.9504748982360922\n",
      "Test auccuracy: 0.6336088154269972\n",
      "\n",
      "Order of classes:  ['cults' 'religion']\n",
      "\n",
      "Test Confusion Matrix: \n",
      "                  predicted cults  predicted religion\n",
      "actual cults                 636                  90\n",
      "actual religion              442                 284\n",
      "\n",
      "True Negatives: 636\n",
      "False Positives: 90\n",
      "False Negatives: 442\n",
      "True Positives: 284\n",
      "              precision    recall  f1-score   support\n",
      "\n",
      "       cults       0.59      0.88      0.71       726\n",
      "    religion       0.76      0.39      0.52       726\n",
      "\n",
      "    accuracy                           0.63      1452\n",
      "   macro avg       0.67      0.63      0.61      1452\n",
      "weighted avg       0.67      0.63      0.61      1452\n",
      "\n"
     ]
    },
    {
     "data": {
      "image/png": "[encoded data removed]",
      "text/plain": [
       "<Figure size 432x288 with 2 Axes>"
      ]
     },
     "metadata": {
      "needs_background": "light"
     },
     "output_type": "display_data"
    }
   ],
   "source": [
    "evaluation(gs_knn_2)"
   ]
  },
  {
   "cell_type": "markdown",
   "id": "careful-jackson",
   "metadata": {},
   "source": [
    "---"
   ]
  },
  {
   "cell_type": "markdown",
   "id": "sporting-obligation",
   "metadata": {},
   "source": [
    "<a id='6'></a>\n",
    "# Best Model: Evaluation"
   ]
  },
  {
   "cell_type": "markdown",
   "id": "taken-luxury",
   "metadata": {},
   "source": [
    "My Best model outcome was the model using TIFID Transformer and Naïve Bayes. Below I am goign to recreate it with hyperparameter that gave the best acuracy score in our gridsearching and then dive into the results and see what insights we can derive from this model to answers the problem statement."
   ]
  },
  {
   "cell_type": "code",
   "execution_count": 654,
   "id": "operating-syndicate",
   "metadata": {},
   "outputs": [],
   "source": [
    "X_final = df['cleanText']\n",
    "y_final = df['subreddit']"
   ]
  },
  {
   "cell_type": "code",
   "execution_count": 661,
   "id": "featured-freedom",
   "metadata": {},
   "outputs": [],
   "source": [
    "tvec_final = TfidfVectorizer(max_features=6000, stop_words=all_stopwords,ngram_range=(1,1))\n",
    "#df_tvec= pd.dattvec_final.fit_transform(df['cleanText'])\n",
    "df_tvec = pd.DataFrame(tvec_final.fit_transform(X_final).todense(), \n",
    "                          columns=tvec_final.get_feature_names())"
   ]
  },
  {
   "cell_type": "code",
   "execution_count": 662,
   "id": "still-deficit",
   "metadata": {},
   "outputs": [],
   "source": [
    "# Split the data into the training and testing sets.\n",
    "X_train_final, X_test_final, y_train_final, y_test_final = train_test_split(df_tvec,\n",
    "                                                    y_final,\n",
    "                                                    test_size=0.33,\n",
    "                                                    stratify=y,\n",
    "                                                    random_state=42)"
   ]
  },
  {
   "cell_type": "code",
   "execution_count": 663,
   "id": "chinese-child",
   "metadata": {},
   "outputs": [
    {
     "data": {
      "text/plain": [
       "MultinomialNB()"
      ]
     },
     "execution_count": 663,
     "metadata": {},
     "output_type": "execute_result"
    }
   ],
   "source": [
    "#Instantiate Model\n",
    "nb_final = MultinomialNB()\n",
    "#fit model\n",
    "nb_final.fit(X_train_final,y_train_final)\n",
    "#final_cv = cross_val_score(estimator=nb_final, X=X_train_df, y=y_train, cv=5)\n",
    "#final_cv.mean()"
   ]
  },
  {
   "cell_type": "code",
   "execution_count": 664,
   "id": "nuclear-zimbabwe",
   "metadata": {},
   "outputs": [
    {
     "data": {
      "text/plain": [
       "0.9280868385345997"
      ]
     },
     "execution_count": 664,
     "metadata": {},
     "output_type": "execute_result"
    }
   ],
   "source": [
    "nb_final.score(X_train_final, y_train_final)"
   ]
  },
  {
   "cell_type": "code",
   "execution_count": 729,
   "id": "active-charger",
   "metadata": {},
   "outputs": [
    {
     "data": {
      "text/plain": [
       "0.8457300275482094"
      ]
     },
     "execution_count": 729,
     "metadata": {},
     "output_type": "execute_result"
    }
   ],
   "source": [
    "nb_final.score(X_test_final, y_test_final)"
   ]
  },
  {
   "cell_type": "code",
   "execution_count": 730,
   "id": "wooden-advertising",
   "metadata": {},
   "outputs": [],
   "source": [
    "class_labels = nb_final.classes_\n",
    "feature_names = tvec_final.get_feature_names()\n",
    "topn_class1 = sorted(zip(nb_final.feature_count_[0], feature_names),reverse=True)\n",
    "topn_class2 = sorted(zip(nb_final.feature_count_[1], feature_names),reverse=True)"
   ]
  },
  {
   "cell_type": "code",
   "execution_count": 740,
   "id": "regular-convention",
   "metadata": {},
   "outputs": [],
   "source": [
    "# Put into a dataframe\n",
    "coef_cults_df = pd.DataFrame(topn_class1, columns=['Coefficient', 'Feature'])\n",
    "coef_rel_df = pd.DataFrame(topn_class2,columns=['Coefficient', 'Feature'])\n",
    "coef_cults_df_top10 = coef_cults_df.head(10)\n",
    "coef_rel_df_top10 = coef_rel_df.head(10)"
   ]
  },
  {
   "cell_type": "markdown",
   "id": "reduced-vector",
   "metadata": {},
   "source": [
    "<a id='9'></a>\n",
    "### Most Impostant Features for Predicting Each subreddit class\n",
    "In the below bar charts the top 10 features and their coeficients are plotted for each subreddit. The most important feature for religion is the term *god* and the most important term for cults is *join*. This is really interesting to me because as I found in my exploratory analysis there was this trend of language used within the r/cults thread that had this structure of *otherness* in terms of socail groups. We also see a lot of the top terms in r/cults are common words one would use to describe a social group from a club, organization etc. \n",
    "\n",
    "Another intersting aspect is the commonality these two groups have. Both of them have *people* as the 2nd top feature predictor and they also both include the words *think*. What is even more interesting is that the word *church* which commonly one would associate with religion is used as a top feature to predict cult. This could obviously could prove to be an issue if this model were to be expanded to furhter platforms or data. "
   ]
  },
  {
   "cell_type": "code",
   "execution_count": 750,
   "id": "russian-voltage",
   "metadata": {},
   "outputs": [
    {
     "data": {
      "image/png": "[encoded data removed]",
      "text/plain": [
       "<Figure size 1080x576 with 2 Axes>"
      ]
     },
     "metadata": {},
     "output_type": "display_data"
    }
   ],
   "source": [
    "import seaborn as sns\n",
    "plt.style.use('fivethirtyeight')\n",
    "\n",
    "# plot results\n",
    "fit, ax = plt.subplots(nrows = 1, ncols = 2, figsize=(15,8), sharex = True)\n",
    "\n",
    "sns.barplot(y=coef_rel_df_top10['Feature'], x = coef_rel_df_top10['Coefficient'],color='dodgerblue',ax=ax[0])\n",
    "ax[0].set_title('Most Important Features for predicting r/Religion',fontsize=16)\n",
    "ax[0].set_xlabel('count of words/phrases', fontsize=13)\n",
    "plt.setp(ax[0].get_yticklabels(), fontsize=14)\n",
    "\n",
    "sns.barplot(y=coef_cults_df_top10['Feature'], x = coef_cults_df_top10['Coefficient'],color='lightskyblue',ax=ax[1])\n",
    "ax[1].set_title('Most Important Features for predicting r/Cults',fontsize=16)\n",
    "ax[1].set_xlabel('count of words/phrases', fontsize=13)\n",
    "plt.setp(ax[1].get_yticklabels(), fontsize=14)\n",
    "\n",
    "plt.tight_layout()"
   ]
  },
  {
   "cell_type": "markdown",
   "id": "essential-finder",
   "metadata": {},
   "source": [
    "---"
   ]
  },
  {
   "cell_type": "code",
   "execution_count": 758,
   "id": "abandoned-specialist",
   "metadata": {},
   "outputs": [],
   "source": [
    "def evaluation_final(mdl, X_train, y_train, X_test, y_test):\n",
    "    results = {}\n",
    "    train_aucc = mdl.score(X_train, y_train)\n",
    "    test_aucc = mdl.score(X_test, y_test)\n",
    "    y_pred_train = mdl.predict(X_train)\n",
    "    y_pred_test = mdl.predict(X_test)\n",
    "    \n",
    "    print(f'Training auccuracy: {train_aucc}')\n",
    "    print(f'Test auccuracy: {test_aucc}')\n",
    "    print()\n",
    "    \n",
    "    tn, fp, fn, tp = confusion_matrix(y_test, mdl.predict(X_test)).ravel() \n",
    "    plot_confusion_matrix(mdl, X_test, y_test, cmap='Blues', values_format='d');\n",
    "    \n",
    "    print('Order of classes: ', mdl.classes_)\n",
    "    confusion_df = pd.DataFrame(\n",
    "                    data=confusion_matrix(y_test, y_pred_test),\n",
    "                    index=[f'actual {target_class}' for target_class in mdl.classes_],\n",
    "                    columns=[f'predicted {target_class}' for target_class in mdl.classes_])\n",
    "    print('\\nTest Confusion Matrix: \\n', confusion_df)\n",
    "    \n",
    "    print()\n",
    "    print(\"True Negatives: %s\" % tn)\n",
    "    print(\"False Positives: %s\" % fp)  \n",
    "    print(\"False Negatives: %s\" % fn)\n",
    "    print(\"True Positives: %s\" % tp)\n",
    "    #print('\\nTest Confusion Matrix: \\n', confusion_df)\n",
    "    print(classification_report(y_test, y_pred_test))\n",
    "    # 5. Test recall and precision (if no samples, set recall/precision to 0)\n",
    "    results['test_recall'] = recall_score(y_test, y_pred_test, \n",
    "                                          pos_label='religion', zero_division=0)\n",
    "    results['test_precision'] = precision_score(y_test, y_pred_test,\n",
    "                                                pos_label='religion', zero_division=0)\n",
    "    "
   ]
  },
  {
   "cell_type": "markdown",
   "id": "martial-belize",
   "metadata": {},
   "source": [
    "#### The below is the evaluation metrics reprinted. These are the same as the scores we saw above when gridsearching:"
   ]
  },
  {
   "cell_type": "code",
   "execution_count": 759,
   "id": "perceived-texture",
   "metadata": {},
   "outputs": [
    {
     "name": "stdout",
     "output_type": "stream",
     "text": [
      "Training auccuracy: 0.9280868385345997\n",
      "Test auccuracy: 0.8457300275482094\n",
      "\n",
      "Order of classes:  ['cults' 'religion']\n",
      "\n",
      "Test Confusion Matrix: \n",
      "                  predicted cults  predicted religion\n",
      "actual cults                 635                  91\n",
      "actual religion              133                 593\n",
      "\n",
      "True Negatives: 635\n",
      "False Positives: 91\n",
      "False Negatives: 133\n",
      "True Positives: 593\n",
      "              precision    recall  f1-score   support\n",
      "\n",
      "       cults       0.83      0.87      0.85       726\n",
      "    religion       0.87      0.82      0.84       726\n",
      "\n",
      "    accuracy                           0.85      1452\n",
      "   macro avg       0.85      0.85      0.85      1452\n",
      "weighted avg       0.85      0.85      0.85      1452\n",
      "\n"
     ]
    },
    {
     "data": {
      "image/png": "[encoded data removed]",
      "text/plain": [
       "<Figure size 432x288 with 2 Axes>"
      ]
     },
     "metadata": {},
     "output_type": "display_data"
    }
   ],
   "source": [
    "evaluation_final(nb_final, X_train_final, y_train_final, X_test_final, y_test_final)"
   ]
  },
  {
   "cell_type": "markdown",
   "id": "protected-dating",
   "metadata": {},
   "source": [
    "<a id='10'></a>\n",
    "### ROC CURVE:\n",
    "A ROC Curve summarizes the trade-off between the true positive rate (tpr) and false positive rate (fpr) for a predictive model using different probability thresholds. Given that c is a constant known as decision threshold, Looking at the below ROC curve our blue curve is closer to the upper left corner than the 45 degree line that suggests that this model performed quite well in being able to differentiate the two groups of religion and cults.\n",
    "\n",
    "The ROC curce helps to view the relationship between specificty and sensitivey. For exmaple if we decrease the threshold, we will get more positive values thus it increases the sensitivity and decreasing the specificity.\n",
    "Similarly, when we increase the threshold, we get more negative values (cults) thus we get higher specificity and lower sensitivity.\n",
    "\n",
    "---"
   ]
  },
  {
   "cell_type": "code",
   "execution_count": 769,
   "id": "quarterly-lighting",
   "metadata": {},
   "outputs": [
    {
     "data": {
      "text/plain": [
       "<Figure size 1080x576 with 0 Axes>"
      ]
     },
     "metadata": {},
     "output_type": "display_data"
    },
    {
     "data": {
      "image/png": "[encoded data removed]",
      "text/plain": [
       "<Figure size 432x288 with 1 Axes>"
      ]
     },
     "metadata": {},
     "output_type": "display_data"
    }
   ],
   "source": [
    " \n",
    "# Import metrics.\n",
    "from sklearn.metrics import confusion_matrix, plot_confusion_matrix, accuracy_score, plot_roc_curve, roc_auc_score, recall_score, precision_score, f1_score\n",
    "#ROC curve\n",
    "plt.figure(figsize=(15,8));\n",
    "plot_roc_curve(nb_final,  X_test_final,  y_test_final);\n",
    "\n",
    "# add worst case scenario line\n",
    "plt.plot([0, 1], [0, 1], label=\"baseline\", linestyle=\"--\");\n",
    "plt.title('ROC Curve');\n",
    "\n",
    "# add a legend\n",
    "plt.legend();"
   ]
  },
  {
   "cell_type": "code",
   "execution_count": 770,
   "id": "operational-showcase",
   "metadata": {},
   "outputs": [
    {
     "data": {
      "text/plain": [
       "0.9275749607267264"
      ]
     },
     "execution_count": 770,
     "metadata": {},
     "output_type": "execute_result"
    }
   ],
   "source": [
    "# Calculate ROC AUC.\n",
    "roc_auc_score(y_test_final, nb_final.predict_proba(X_test_final)[:,1])"
   ]
  },
  {
   "cell_type": "markdown",
   "id": "productive-palestine",
   "metadata": {},
   "source": [
    "Our ROC AUC is 0.92 this is a positive sign that our model performed well becasue the closer it is to one the better our model is at predicting with aucuracy.\n",
    "\n",
    "---"
   ]
  },
  {
   "cell_type": "markdown",
   "id": "indonesian-emerald",
   "metadata": {},
   "source": [
    "<a id='12'></a>\n",
    "# Conclusion\n",
    "\n",
    "---\n",
    "\n",
    "In the exploratory analysis we saw a trend of both subreddits sharing a very similar vocabulary. We identified that on r/Religion we saw topics regarding cults and vice versus there were posts on r/Cults about very established religious topics. This similiarity between the two subreddit during the exploratory analysis did not install much confidence that the two topics could be differentiated. \n",
    "\n",
    "After modeling through several types of classification models our best predictor in accuracy was the Naïve Bayes model. With an Auc score of 0.92, this tells us that our model did a fairly decent job at differentiating the two groups (AUC score of 1 means the two groups are perfectly differentiated, best score you can get). Below is a summary each model's performance.  "
   ]
  },
  {
   "cell_type": "markdown",
   "id": "selective-event",
   "metadata": {},
   "source": [
    "### BASELINE:\n",
    "\n",
    "- R/Cults: 0.5 accuracy\n",
    "- R/Religion: 0.5 accuracy\n",
    "\n",
    "#### PRE HYPTERTUNNING MODEL PERFORMANCE\n",
    " \n",
    "\n",
    "| Model          | Transformer | Train Accuracy | Test Accuracy   | Recall          | Percision        |          \n",
    "| -----------    | ----------- | ---------------|-----------------|-----------------|------------------|\n",
    "| KNN            | cvec        | 0.76           |0.64             |0.55             |0.68              |\n",
    "| Random Forest  | cvec        | 0.96           |0.76             |0.75             |0.77              |\n",
    "| Naïve Bayes    | cvec        | 0.81           |0.78             |0.88             |0.74              |\n",
    "\n",
    "\n",
    "#### AFTER HYPTERTUNNING MODEL PERFORMANCE\n",
    "\n",
    "| Model          | Transformer | Train Accuracy | Test Accuracy   | Recall          | Percision        |          \n",
    "| -----------    | ----------- | ---------------|-----------------|-----------------|------------------|\n",
    "| KNN            | tvec        | 0.95           |0.63             |0.76             |0.39              |\n",
    "| Random Forest  | tvec        | 0.96           |0.79             |0.75             |0.87              |\n",
    "| Naïve Bayes    | tvec        | 0.92           |0.84             |0.87             |0.82              |"
   ]
  },
  {
   "cell_type": "markdown",
   "id": "authentic-lounge",
   "metadata": {},
   "source": [
    "The Multinominal Naïve Bayes with the TIFID Transformer performed the best in terms of all my models. This model is taking each token from our vectorization and calculating the conditional probability of that token d=given each class. Basically when given a token it learns the propbability of that word assocaited with the given subreddit. For example how *culty* is this token or how *religiony* is this token and if there is a lot of culty token then the token is predicted as class cult and vice versa. \n",
    "\n",
    "The final model scored a 0.84 on accuracy. The true positive of the model shows that it correctly preidicted 593 posts to be religion and in terms of our True negative it correctly predicted 653 posts to be cults. The model type II error is 133 which is higher than the type one error of 91. This tells me that the model are more likely to predict a post to be a cult than a religion.\n",
    "\n",
    "Conclusion Statement:\n",
    "In order to develop better definintion's for what defines a religion vs a cult we looked to reddit threads to understand how the language and commmunications styles differ within popular culture. Identifying the difference in vocabulary, sentiment, and parts-of-speach within each of these subbreddit threads could lead to better understanding on the differences and commonalities of the two groups. With a better understanding of what terms are used in the discussion of these topics we can attempt to identify dangerous or destructive cults more quickly through natural language processing of comments, post, and discussion on social media and prevent outcomes that risk the health and wellbeing of people. \n",
    "\n",
    "Our modeling showed that while there are mamy similarities between the language/vocabulary used across the two groups that there are some defining words that make these two groups standout that can allow us to make a prediction with 0.84% accuracy. To develop this project further it would be worth analyzing post on specfic social media pages dedicated to a specific cult and religion and compare the sentiment, vocabulary, and part-of-speach. \n"
   ]
  },
  {
   "cell_type": "markdown",
   "id": "unusual-litigation",
   "metadata": {},
   "source": [
    "---"
   ]
  },
  {
   "cell_type": "code",
   "execution_count": null,
   "id": "coordinated-soviet",
   "metadata": {},
   "outputs": [],
   "source": []
  }
 ],
 "metadata": {
  "kernelspec": {
   "display_name": "Python 3",
   "language": "python",
   "name": "python3"
  },
  "language_info": {
   "codemirror_mode": {
    "name": "ipython",
    "version": 3
   },
   "file_extension": ".py",
   "mimetype": "text/x-python",
   "name": "python",
   "nbconvert_exporter": "python",
   "pygments_lexer": "ipython3",
   "version": "3.8.2"
  }
 },
 "nbformat": 4,
 "nbformat_minor": 5
}
