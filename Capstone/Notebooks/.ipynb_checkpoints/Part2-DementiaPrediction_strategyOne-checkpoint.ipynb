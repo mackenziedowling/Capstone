{
 "cells": [
  {
   "cell_type": "markdown",
   "id": "nervous-translation",
   "metadata": {},
   "source": [
    "![title](../Documents/images/Banner.png)"
   ]
  },
  {
   "cell_type": "markdown",
   "id": "behind-establishment",
   "metadata": {},
   "source": [
    "# Approach One: Classifying Dementia \n",
    "\n",
    "Relatively little is known about what causes Dementia in older age, as no one test can determine the diagnosis of Dementia in a patient.  Doctors diagnose Alzheimer's and other types of Dementia based on a combination of factors. Lab tests and other health factors are typically measured to eliminate all other possibilities. A diagnosis for Dementia includes careful examination of medical history, a physical examination, laboratory tests, and the characteristic changes in thinking, day-to-day function, and behavior associated with each type.  Through this type of analysis, doctors can determine that a person has Dementia with a high level of certainty. However, determining if a person will have Dementia is left with much uncertainty as there is no solution to testing and screening for the onset of Dementia before any symptoms.\n",
    "\n",
    "The focus on this project is on prediction classification for dementia diagnosis using electronic health records of ICU patients from the MIMIC III database. The ultimate goal is to understand the role of the various features in the model's ability to differentiate patients diagnosed with Dementia vs. those who do not have Dementia. \n",
    "\n",
    "As found in Exploratory Data Analysis and in many medical and health datasets I am working with very imbalanced dataset. One approach to counteract this imbalanced data problem is to randomly undersample the majoirty class to be balanced to the amount of data in minority class. \n",
    "\n",
    "This notebook explores this solution approach by taking the random undersampling of the majoity class to predict dementia diagnosis in patients directly from the whole dataset.\n",
    "\n",
    "In Part 3 I explore the alternative approach to this by brodening the classifcation modeling in to two fold solution. The first fold explores the classification prediction of patients within the broader ccs diagnosis category, Mental Health. The second fold then assumes given the patient is within the ccs-group of Mental Health can the classifier distinguish patients diagnosed with Dementia from the Mental Health patients.\n",
    "\n",
    "### Modeling\n",
    "In this notebook several classification models are tested via statical modeling, such as Decision Tree, Random Forest classification, Extra Trees Classification, and XG Boost. These models were selected for their ability to perform well on classification problems. The pros and cons of these models are addressed within each model section.\n",
    "\n",
    "### Model Evaluation:\n",
    "The solution approach in this notebook is negating the overall class imbalance by resampling so for evaluating model performance I will use accuracy for baseline model performance and confusion matrix and the percision, recall area under the receiver operating characteristics curve (PR-AUC score) to be able to compare to Part 3 models where class imbalnce will be more problamatic. "
   ]
  },
  {
   "cell_type": "markdown",
   "id": "revolutionary-printing",
   "metadata": {},
   "source": [
    "# Imports"
   ]
  },
  {
   "cell_type": "code",
   "execution_count": 59,
   "id": "sound-bandwidth",
   "metadata": {},
   "outputs": [],
   "source": [
    "import pandas as pd\n",
    "import numpy as np\n",
    "import matplotlib.pyplot as plt\n",
    "import seaborn as sns\n",
    "plt.style.use('fivethirtyeight')\n",
    "from sklearn.impute import MissingIndicator\n",
    "\n",
    "from sklearn.impute import SimpleImputer, MissingIndicator\n",
    "from sklearn.model_selection import train_test_split\n",
    "from sklearn.pipeline import FeatureUnion, make_pipeline\n",
    "from sklearn.tree import DecisionTreeClassifier\n",
    "from sklearn.ensemble import RandomForestClassifier, ExtraTreesClassifier\n",
    "from sklearn.model_selection import cross_val_score, train_test_split, GridSearchCV\n",
    "from sklearn.linear_model import LogisticRegression\n",
    "from collections import Counter\n",
    "from sklearn.datasets import make_classification \n",
    "from imblearn.under_sampling import TomekLinks \n",
    "from sklearn.ensemble import RandomForestClassifier\n",
    "from sklearn.metrics import confusion_matrix, classification_report, plot_confusion_matrix\n",
    "from sklearn.metrics import accuracy_score, recall_score, precision_score\n",
    "from collections import Counter\n",
    "from sklearn.datasets import make_classification\n",
    "from imblearn.under_sampling import TomekLinks \n",
    "from xgboost import XGBRegressor, XGBClassifier\n",
    "from sklearn.impute import KNNImputer\n",
    "from sklearn.preprocessing import PolynomialFeatures, StandardScaler\n",
    "from imblearn.under_sampling import (RandomUnderSampler, \n",
    "                                     ClusterCentroids,\n",
    "                                     TomekLinks,\n",
    "                                     NeighbourhoodCleaningRule,\n",
    "                                     NearMiss)\n",
    "from sklearn.model_selection import RandomizedSearchCV, GridSearchCV\n",
    "from sklearn.metrics import roc_auc_score\n",
    "from sklearn.model_selection import StratifiedKFold\n",
    "from xgboost import XGBClassifier"
   ]
  },
  {
   "cell_type": "markdown",
   "id": "productive-spoke",
   "metadata": {},
   "source": [
    "# Reading in Data"
   ]
  },
  {
   "cell_type": "code",
   "execution_count": 60,
   "id": "latest-theorem",
   "metadata": {},
   "outputs": [],
   "source": [
    "data = pd.read_csv('../Datasets/mimiciii_aggregated_cleaned.csv')"
   ]
  },
  {
   "cell_type": "code",
   "execution_count": 41,
   "id": "uniform-standing",
   "metadata": {},
   "outputs": [],
   "source": [
    "#creating a filter of non-demented diagnosied patients\n",
    "no_dementia = data[data['DEMENTIA'] == 0]"
   ]
  },
  {
   "cell_type": "code",
   "execution_count": 42,
   "id": "gentle-barrel",
   "metadata": {},
   "outputs": [],
   "source": [
    "#created df of only dementia patients\n",
    "df_dementia = data[data['DEMENTIA'] == 1]"
   ]
  },
  {
   "cell_type": "code",
   "execution_count": 51,
   "id": "developing-bangkok",
   "metadata": {},
   "outputs": [],
   "source": [
    "#generating a df of a 1,000 random rows from the dataframe created \n",
    "#containg all patient NOT diagnosed with Dementia.\n",
    "\n",
    "no_dementia = no_dementia.sample(n = 850, random_state=7)"
   ]
  },
  {
   "cell_type": "code",
   "execution_count": 52,
   "id": "preliminary-exhaust",
   "metadata": {},
   "outputs": [],
   "source": [
    "#concatingting the rows\n",
    "df = pd.concat([no_dementia, df_dementia], ignore_index=True)"
   ]
  },
  {
   "cell_type": "code",
   "execution_count": 53,
   "id": "conservative-immunology",
   "metadata": {},
   "outputs": [
    {
     "data": {
      "image/png": "[encoded data removed]",
      "text/plain": [
       "<Figure size 432x288 with 1 Axes>"
      ]
     },
     "metadata": {},
     "output_type": "display_data"
    }
   ],
   "source": [
    "df['DEMENTIA'].value_counts().plot(kind='bar');\n",
    "plt.title('class counts in Randomly Sampled Dataset');"
   ]
  },
  {
   "cell_type": "markdown",
   "id": "distributed-numbers",
   "metadata": {},
   "source": [
    "Above is a visualization of the new dataframe with more balanced clasess. The class labeled 1 are patients with Dementia and the class labeled 0 are those without Dementia. Both class have around 850 counts for a more even split."
   ]
  },
  {
   "cell_type": "markdown",
   "id": "prime-hypothesis",
   "metadata": {},
   "source": [
    "# Defining X and y variables"
   ]
  },
  {
   "cell_type": "code",
   "execution_count": 54,
   "id": "defined-perth",
   "metadata": {},
   "outputs": [],
   "source": [
    "features = df.drop(columns=['subject_id','MENTAL ILLNESS', 'DEMENTIA'])\n",
    "X = features\n",
    "y = df['DEMENTIA']"
   ]
  },
  {
   "cell_type": "markdown",
   "id": "southeast-responsibility",
   "metadata": {},
   "source": [
    "# Train Test Split"
   ]
  },
  {
   "cell_type": "code",
   "execution_count": 55,
   "id": "ethical-temperature",
   "metadata": {},
   "outputs": [],
   "source": [
    "#creating train test split \n",
    "#test size = 30% of dateframe\n",
    "#setting Random State to 9\n",
    "#stratify set to yes for equal porportions of the y variable in both train and test\n",
    "\n",
    "X_train, X_test, y_train, y_test = train_test_split(X, y, test_size=0.30,\n",
    "                                               random_state=9, stratify=y)"
   ]
  },
  {
   "cell_type": "markdown",
   "id": "advanced-choir",
   "metadata": {},
   "source": [
    "# Null Model"
   ]
  },
  {
   "cell_type": "code",
   "execution_count": 56,
   "id": "quarterly-utility",
   "metadata": {},
   "outputs": [
    {
     "name": "stdout",
     "output_type": "stream",
     "text": [
      "\n",
      "y_train Class Distribution: \n",
      " 1    0.509481\n",
      "0    0.490519\n",
      "Name: DEMENTIA, dtype: float64\n"
     ]
    }
   ],
   "source": [
    "print('\\ny_train Class Distribution: \\n', y_train.value_counts(normalize=True))"
   ]
  },
  {
   "cell_type": "markdown",
   "id": "coordinate-brake",
   "metadata": {},
   "source": [
    "**Interpretation:** The null model here will act as a baseline for estimating model improvement. If the classifyer model always guesses 0 it will have an accuracy of 0.50 and if it always guess 1 the accuracy will be 0.49%. The goal is to train a model that performs better than this null model. "
   ]
  },
  {
   "cell_type": "markdown",
   "id": "devoted-greeting",
   "metadata": {},
   "source": [
    "# Model Preprocessing"
   ]
  },
  {
   "cell_type": "markdown",
   "id": "bulgarian-lawsuit",
   "metadata": {},
   "source": [
    "### Model Evaluation Function\n",
    "Below is a function for model evaluation to return both a confusion matrix and classification metrics."
   ]
  },
  {
   "cell_type": "code",
   "execution_count": 30,
   "id": "postal-telling",
   "metadata": {},
   "outputs": [],
   "source": [
    "def evaluation(mdl, X_train, y_train, X_test, y_test):\n",
    "    results = {}\n",
    "    train_aucc = mdl.score(X_train, y_train)\n",
    "    test_aucc = mdl.score(X_test, y_test)\n",
    "    y_pred_train = mdl.predict(X_train)\n",
    "    y_pred_test = mdl.predict(X_test)\n",
    "    \n",
    "    print(f'Training auccuracy: {train_aucc}')\n",
    "    print(f'Test auccuracy: {test_aucc}')\n",
    "    print()\n",
    "    \n",
    "    tn, fp, fn, tp = confusion_matrix(y_test, mdl.predict(X_test)).ravel() \n",
    "    plot_confusion_matrix(mdl, X_test, y_test, cmap='Blues', values_format='d');\n",
    "    \n",
    "    print('Order of classes: ', mdl.classes_)\n",
    "    confusion_df = pd.DataFrame(\n",
    "                    data=confusion_matrix(y_test, y_pred_test),\n",
    "                    index=[f'actual {target_class}' for target_class in mdl.classes_],\n",
    "                    columns=[f'predicted {target_class}' for target_class in mdl.classes_])\n",
    "    print('\\nTest Confusion Matrix: \\n', confusion_df)\n",
    "    \n",
    "    print()\n",
    "    print(\"True Negatives: %s\" % tn)\n",
    "    print(\"False Positives: %s\" % fp)  \n",
    "    print(\"False Negatives: %s\" % fn)\n",
    "    print(\"True Positives: %s\" % tp)\n",
    "    #print('\\nTest Confusion Matrix: \\n', confusion_df)\n",
    "    print(classification_report(y_test, y_pred_test))\n",
    "    # 5. Test recall and precision (if no samples, set recall/precision to 0)\n",
    "    results['test_recall'] = recall_score(y_test, y_pred_test, \n",
    "                                          pos_label=1, zero_division=0)\n",
    "    results['test_precision'] = precision_score(y_test, y_pred_test,\n",
    "                                                pos_label=1, zero_division=0)"
   ]
  },
  {
   "cell_type": "markdown",
   "id": "severe-mining",
   "metadata": {},
   "source": [
    "### Missing Values Imputation"
   ]
  },
  {
   "cell_type": "markdown",
   "id": "cross-survival",
   "metadata": {},
   "source": [
    "The fist step in model preprocessing is missing values imputation for the X test and train. In the Exploratory Analysis of three different imputation techniques the variabily between the decriptive statistics and theh skewness was not largly impacted by any particular one, but the KNN imputer had the most similar skewness in term of distribution to the original dataset and descriptive statistics on the columns with most missing values. Below the X_train and X_test are being transformed with this KNN Imputer."
   ]
  },
  {
   "cell_type": "code",
   "execution_count": 57,
   "id": "skilled-albert",
   "metadata": {},
   "outputs": [],
   "source": [
    "knn_imputer = KNNImputer(n_neighbors=2)\n",
    "X_train = knn_imputer.fit_transform(X_train)\n",
    "X_test = knn_imputer.fit_transform(X_test)"
   ]
  },
  {
   "cell_type": "markdown",
   "id": "cheap-technical",
   "metadata": {},
   "source": [
    "### Scalling\n",
    "\n",
    "Since the ranges of max and min for the Lab result vary by test and do not contain the same type of measurement for each test the best option to nuetralize this in modeling is two instantiate and transform the X_test and X_train with a standardscaler from SK.Learn libary. "
   ]
  },
  {
   "cell_type": "code",
   "execution_count": 58,
   "id": "earned-preview",
   "metadata": {},
   "outputs": [],
   "source": [
    "# Instantiate our StandardScaler.\n",
    "ss = StandardScaler()\n",
    "\n",
    "# Standardize X_train.\n",
    "X_train = ss.fit_transform(X_train)\n",
    "\n",
    "# Standardize X_test.\n",
    "X_test = ss.transform(X_test)"
   ]
  },
  {
   "cell_type": "markdown",
   "id": "wanted-regulation",
   "metadata": {},
   "source": [
    "# Model Selection"
   ]
  },
  {
   "cell_type": "markdown",
   "id": "dried-natural",
   "metadata": {},
   "source": [
    "### Random Forest Baseline"
   ]
  },
  {
   "cell_type": "code",
   "execution_count": null,
   "id": "ranking-clearing",
   "metadata": {},
   "outputs": [],
   "source": [
    "rf_baseline = RandomForestClassifier(n_estimators=100)\n",
    "rf_baseline.fit(X_train, y_train)\n",
    "\n",
    "\n",
    "rf_precision, rf_recall, _ = precision_recall_curve(y_test, rf_baseline.predict_proba(X_test)[:,1])\n",
    "\n",
    "print(auc(rf_recall, rf_precision))\n",
    "train_auc = rf_tl.score(X_train, y_train)\n",
    "test_auc = rf_tl.score(X_test, y_test)\n",
    "\n",
    "print(f'Random Forest train accuracy: {train_auc}')\n",
    "print(f'Random Forest Test accuracy: {test_auc}')   \n",
    "\n",
    "plot_precision_recall_curve(lr_baseline, X_test, y_test, name = 'Random Forest Baseline')\n",
    "plt.legend(loc=\"upper center\");\n",
    "plt.title('Random Forest PR curve');"
   ]
  },
  {
   "cell_type": "markdown",
   "id": "regional-jewelry",
   "metadata": {},
   "source": [
    "### Decision Tree Baseline"
   ]
  },
  {
   "cell_type": "code",
   "execution_count": null,
   "id": "agricultural-controversy",
   "metadata": {},
   "outputs": [],
   "source": [
    "dt_baseline = DecisionTreeClassifier()\n",
    "dt_baseline.fit(X_train, y_train)\n",
    "\n",
    "train_auc = dt_baseline.score(X_train, y_train)\n",
    "test_auc = dt_baseline.score(X_test, y_test)\n",
    "print(f'Decision Tree train accuracy: {train_auc}')\n",
    "print(f'Decision Tree Test accuracy: {test_auc}') \n",
    "\n",
    "dt_precision, dt_recall, _ = precision_recall_curve(y_test, dt_baseline.predict_proba(X_test)[:,1])\n",
    "print(auc(dt_recall, dt_precision))\n",
    "\n",
    "plot_precision_recall_curve(dt_baseline, X_test, y_test, name = 'Decision Tree Classifier')\n",
    "plt.legend(loc=\"upper center\");\n",
    "plt.title('Decision Tree PR curve');"
   ]
  },
  {
   "cell_type": "markdown",
   "id": "unknown-silence",
   "metadata": {},
   "source": [
    "### ExtraTrees Baseline"
   ]
  },
  {
   "cell_type": "code",
   "execution_count": null,
   "id": "chief-radius",
   "metadata": {},
   "outputs": [],
   "source": [
    "et_baseline = ExtraTreesClassifier()\n",
    "et_baseline.fit(X_train, y_train)\n",
    "\n",
    "train_auc = et_baseline.score(X_train, y_train)\n",
    "test_auc = et_baseline.score(X_test, y_test)\n",
    "print(f'Extra Tree train accuracy: {train_auc}')\n",
    "print(f'Extra Tree Test accuracy: {test_auc}') \n",
    "\n",
    "et_precision, et_recall, _ = precision_recall_curve(y_test, et_baseline.predict_proba(X_test)[:,1])\n",
    "print(auc(et_recall, et_precision))\n",
    "\n",
    "plot_precision_recall_curve(et_baseline, X_test, y_test, name = 'Extra Trees Classifier')\n",
    "plt.legend(loc=\"upper center\");\n",
    "plt.title('Extra Trees Classifier PR curve');"
   ]
  },
  {
   "cell_type": "markdown",
   "id": "miniature-bargain",
   "metadata": {},
   "source": [
    "### XGBoost Baseline"
   ]
  },
  {
   "cell_type": "code",
   "execution_count": null,
   "id": "appointed-peripheral",
   "metadata": {},
   "outputs": [],
   "source": [
    "xgb_baseline = XGBClassifier()\n",
    "xgb_baseline.fit(X_train, y_train)\n",
    "\n",
    "xgb_precision, xgb_recall, _ = precision_recall_curve(y_test, xgb_baseline.predict_proba(X_test)[:,1])\n",
    "print(auc(xgb_recall, xgb_precision))\n",
    "\n",
    "train_auc = xgb_baseline.score(X_train, y_train)\n",
    "test_auc = xgb_baseline.score(X_test, y_test)\n",
    "print(f'XGBoost train accuracy: {train_auc}')\n",
    "print(f'XGBoost Test accuracy: {test_auc}') \n",
    "\n",
    "plot_precision_recall_curve(xgb_baseline, X_test, y_test, name = 'XGBoost Classifier')\n",
    "plt.legend(loc=\"upper center\");\n",
    "plt.title('XGBoost Classifier PR curve');"
   ]
  },
  {
   "cell_type": "markdown",
   "id": "democratic-distribution",
   "metadata": {},
   "source": [
    "**Baseline Models Summary**:"
   ]
  },
  {
   "cell_type": "markdown",
   "id": "whole-lobby",
   "metadata": {},
   "source": [
    "# Best Model Gridsearch"
   ]
  },
  {
   "cell_type": "markdown",
   "id": "sweet-diversity",
   "metadata": {},
   "source": [
    "In the preivous Notebook the classifier model that had proved to be the most robust in terms of roc auc was the XGBoost. Below the data will be fitted to the XGBoost model with the hyperparameters that peformed the best in terms of ROC AUC and evaluated further for feature importance and percision. "
   ]
  },
  {
   "cell_type": "markdown",
   "id": "sapphire-boundary",
   "metadata": {},
   "source": [
    "### Gridsearch"
   ]
  },
  {
   "cell_type": "markdown",
   "id": "cooked-ballet",
   "metadata": {},
   "source": [
    "Below a gridsearch across XGBoost is being created. First specifying the constant parameters of the classifier. The objective- in this case, is “binary:logistic” function because the classifier is being trained to handle only two classes:\n",
    "- **class 1** 1 (dementia)<br>\n",
    "- **class 2** 0 (No Dementia)<br>\n",
    "<br>\n",
    "Additionally, the number of threads is being specified to speed up the training. The random seed set to 42 will assure the same results each time the gridsearch is ran. The parameters used a range of values for the gridsearch to fit a the classifyer too. "
   ]
  },
  {
   "cell_type": "code",
   "execution_count": 32,
   "id": "built-viewer",
   "metadata": {},
   "outputs": [],
   "source": [
    "#defining Estimators\n",
    "estimator = XGBClassifier(\n",
    "    objective= 'binary:logistic',\n",
    "    nthread=4,\n",
    "    seed=42\n",
    ")\n",
    "\n",
    "#defining Parameters\n",
    "parameters = {\n",
    "    'max_depth': range (2, 10, 1),\n",
    "    'n_estimators': range(60, 220, 40),\n",
    "    'learning_rate': [0.1, 0.01, 0.05]\n",
    "}\n",
    "\n",
    "#Creating Gridserch with 10 cross validaiton\n",
    "grid_search = GridSearchCV(\n",
    "    estimator=estimator,\n",
    "    param_grid=parameters,\n",
    "    scoring = 'roc_auc',\n",
    "    n_jobs = 10,\n",
    "    cv = 10,\n",
    "    verbose=True\n",
    ")\n",
    "\n"
   ]
  },
  {
   "cell_type": "code",
   "execution_count": 33,
   "id": "insured-bacteria",
   "metadata": {},
   "outputs": [
    {
     "name": "stdout",
     "output_type": "stream",
     "text": [
      "Fitting 10 folds for each of 96 candidates, totalling 960 fits\n"
     ]
    },
    {
     "name": "stderr",
     "output_type": "stream",
     "text": [
      "/opt/anaconda3/envs/dsi/lib/python3.8/site-packages/xgboost/sklearn.py:888: UserWarning: The use of label encoder in XGBClassifier is deprecated and will be removed in a future release. To remove this warning, do the following: 1) Pass option use_label_encoder=False when constructing XGBClassifier object; and 2) Encode your labels (y) as integers starting with 0, i.e. 0, 1, 2, ..., [num_class - 1].\n",
      "  warnings.warn(label_encoder_deprecation_msg, UserWarning)\n"
     ]
    },
    {
     "name": "stdout",
     "output_type": "stream",
     "text": [
      "[11:45:06] WARNING: /Users/runner/miniforge3/conda-bld/xgboost-split_1614844528294/work/src/learner.cc:1061: Starting in XGBoost 1.3.0, the default evaluation metric used with the objective 'binary:logistic' was changed from 'error' to 'logloss'. Explicitly set eval_metric if you'd like to restore the old behavior.\n"
     ]
    },
    {
     "data": {
      "text/plain": [
       "GridSearchCV(cv=10,\n",
       "             estimator=XGBClassifier(base_score=None, booster=None,\n",
       "                                     colsample_bylevel=None,\n",
       "                                     colsample_bynode=None,\n",
       "                                     colsample_bytree=None, gamma=None,\n",
       "                                     gpu_id=None, importance_type='gain',\n",
       "                                     interaction_constraints=None,\n",
       "                                     learning_rate=None, max_delta_step=None,\n",
       "                                     max_depth=None, min_child_weight=None,\n",
       "                                     missing=nan, monotone_constraints=None,\n",
       "                                     n_estimators=100, n_jobs=None, nthread=4,\n",
       "                                     num_parallel_tree=None, random_state=None,\n",
       "                                     reg_alpha=None, reg_lambda=None,\n",
       "                                     scale_pos_weight=None, seed=42,\n",
       "                                     subsample=None, tree_method=None,\n",
       "                                     validate_parameters=None, verbosity=None),\n",
       "             n_jobs=10,\n",
       "             param_grid={'learning_rate': [0.1, 0.01, 0.05],\n",
       "                         'max_depth': range(2, 10),\n",
       "                         'n_estimators': range(60, 220, 40)},\n",
       "             scoring='roc_auc', verbose=True)"
      ]
     },
     "execution_count": 33,
     "metadata": {},
     "output_type": "execute_result"
    }
   ],
   "source": [
    "grid_search.fit(X_train, y_train)"
   ]
  },
  {
   "cell_type": "code",
   "execution_count": 34,
   "id": "developed-couple",
   "metadata": {},
   "outputs": [
    {
     "data": {
      "text/plain": [
       "XGBClassifier(base_score=0.5, booster='gbtree', colsample_bylevel=1,\n",
       "              colsample_bynode=1, colsample_bytree=1, gamma=0, gpu_id=-1,\n",
       "              importance_type='gain', interaction_constraints='',\n",
       "              learning_rate=0.1, max_delta_step=0, max_depth=2,\n",
       "              min_child_weight=1, missing=nan, monotone_constraints='()',\n",
       "              n_estimators=140, n_jobs=4, nthread=4, num_parallel_tree=1,\n",
       "              random_state=42, reg_alpha=0, reg_lambda=1, scale_pos_weight=1,\n",
       "              seed=42, subsample=1, tree_method='exact', validate_parameters=1,\n",
       "              verbosity=None)"
      ]
     },
     "execution_count": 34,
     "metadata": {},
     "output_type": "execute_result"
    }
   ],
   "source": [
    "grid_search.best_estimator_"
   ]
  },
  {
   "cell_type": "code",
   "execution_count": 35,
   "id": "adjusted-essence",
   "metadata": {},
   "outputs": [
    {
     "data": {
      "text/plain": [
       "0.8776153962378181"
      ]
     },
     "execution_count": 35,
     "metadata": {},
     "output_type": "execute_result"
    }
   ],
   "source": [
    "grid_search.best_score_"
   ]
  },
  {
   "cell_type": "code",
   "execution_count": 36,
   "id": "destroyed-wagner",
   "metadata": {},
   "outputs": [],
   "source": [
    "#given they are a mental illness patients the probability."
   ]
  },
  {
   "cell_type": "code",
   "execution_count": 24,
   "id": "forty-walker",
   "metadata": {},
   "outputs": [
    {
     "data": {
      "text/plain": [
       "0.8641132075471698"
      ]
     },
     "execution_count": 24,
     "metadata": {},
     "output_type": "execute_result"
    }
   ],
   "source": [
    "roc_auc_score(y_test, xgb.predict_proba(X_test)[:,1])"
   ]
  },
  {
   "cell_type": "code",
   "execution_count": 31,
   "id": "reported-february",
   "metadata": {},
   "outputs": [
    {
     "name": "stdout",
     "output_type": "stream",
     "text": [
      "Training auccuracy: 0.9613050075872535\n",
      "Test auccuracy: 0.8017699115044248\n",
      "\n",
      "Order of classes:  [0 1]\n",
      "\n",
      "Test Confusion Matrix: \n",
      "           predicted 0  predicted 1\n",
      "actual 0          227           73\n",
      "actual 1           39          226\n",
      "\n",
      "True Negatives: 227\n",
      "False Positives: 73\n",
      "False Negatives: 39\n",
      "True Positives: 226\n",
      "              precision    recall  f1-score   support\n",
      "\n",
      "           0       0.85      0.76      0.80       300\n",
      "           1       0.76      0.85      0.80       265\n",
      "\n",
      "    accuracy                           0.80       565\n",
      "   macro avg       0.80      0.80      0.80       565\n",
      "weighted avg       0.81      0.80      0.80       565\n",
      "\n"
     ]
    },
    {
     "data": {
      "image/png": "[encoded data removed]",
      "text/plain": [
       "<Figure size 432x288 with 2 Axes>"
      ]
     },
     "metadata": {},
     "output_type": "display_data"
    }
   ],
   "source": [
    "evaluation(xgb, X_train, y_train, X_test, y_test)"
   ]
  },
  {
   "cell_type": "markdown",
   "id": "broad-michael",
   "metadata": {},
   "source": [
    "# Feature Evaluation"
   ]
  },
  {
   "cell_type": "markdown",
   "id": "thousand-witch",
   "metadata": {},
   "source": [
    "# Conclusion"
   ]
  },
  {
   "cell_type": "code",
   "execution_count": null,
   "id": "patent-access",
   "metadata": {},
   "outputs": [],
   "source": []
  }
 ],
 "metadata": {
  "kernelspec": {
   "display_name": "Python 3",
   "language": "python",
   "name": "python3"
  },
  "language_info": {
   "codemirror_mode": {
    "name": "ipython",
    "version": 3
   },
   "file_extension": ".py",
   "mimetype": "text/x-python",
   "name": "python",
   "nbconvert_exporter": "python",
   "pygments_lexer": "ipython3",
   "version": "3.8.2"
  }
 },
 "nbformat": 4,
 "nbformat_minor": 5
}
